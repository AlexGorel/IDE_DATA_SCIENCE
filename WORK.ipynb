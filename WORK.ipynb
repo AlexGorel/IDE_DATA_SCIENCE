{
 "cells": [
  {
   "attachments": {},
   "cell_type": "markdown",
   "metadata": {},
   "source": [
    "PYTHON-1. Основы Python"
   ]
  },
  {
   "cell_type": "code",
   "execution_count": 11,
   "metadata": {},
   "outputs": [
    {
     "name": "stdout",
     "output_type": "stream",
     "text": [
      "<class 'float'>\n"
     ]
    }
   ],
   "source": [
    "a = 3.14\n",
    "print(type(a))"
   ]
  },
  {
   "cell_type": "code",
   "execution_count": 12,
   "metadata": {},
   "outputs": [
    {
     "name": "stdout",
     "output_type": "stream",
     "text": [
      "<class 'str'>\n"
     ]
    }
   ],
   "source": [
    "a = '3.14'\n",
    "print(type(a))"
   ]
  },
  {
   "cell_type": "code",
   "execution_count": 13,
   "metadata": {},
   "outputs": [
    {
     "name": "stdout",
     "output_type": "stream",
     "text": [
      "15\n"
     ]
    }
   ],
   "source": [
    "a = 5\n",
    "b = 10\n",
    "a=a+b\n",
    "print(a)"
   ]
  },
  {
   "cell_type": "code",
   "execution_count": 14,
   "metadata": {},
   "outputs": [
    {
     "name": "stdout",
     "output_type": "stream",
     "text": [
      "2458282322352 5\n",
      "2458282322512 10\n",
      "2458282322672 15\n"
     ]
    }
   ],
   "source": [
    "a = 5\n",
    "print(id(a), a) #проверяем идентификатор переменной a\n",
    "# 93869227535744 5\n",
    "\n",
    "b = 10\n",
    "print(id(b), b) #проверяем идентификатор переменной b\n",
    "# 93869227535904 10\n",
    "\n",
    "a = a + b\n",
    "print(id(a), a) #проверяем идентификатор переменной a\n",
    "# 93869227536064 15"
   ]
  },
  {
   "cell_type": "code",
   "execution_count": 15,
   "metadata": {},
   "outputs": [
    {
     "name": "stdout",
     "output_type": "stream",
     "text": [
      "2.5\n"
     ]
    }
   ],
   "source": [
    "a = 5/2\n",
    "print(a)\n",
    "# 2.5"
   ]
  },
  {
   "cell_type": "code",
   "execution_count": 16,
   "metadata": {},
   "outputs": [
    {
     "name": "stdout",
     "output_type": "stream",
     "text": [
      "3\n"
     ]
    }
   ],
   "source": [
    "print(10 // 3)\n",
    "# 3"
   ]
  },
  {
   "cell_type": "code",
   "execution_count": 17,
   "metadata": {},
   "outputs": [
    {
     "name": "stdout",
     "output_type": "stream",
     "text": [
      "1\n"
     ]
    }
   ],
   "source": [
    "print(10 % 3)\n",
    "# 1"
   ]
  },
  {
   "cell_type": "code",
   "execution_count": 18,
   "metadata": {},
   "outputs": [
    {
     "name": "stdout",
     "output_type": "stream",
     "text": [
      "512\n"
     ]
    }
   ],
   "source": [
    "print(2 ** 3 ** 2)"
   ]
  },
  {
   "cell_type": "code",
   "execution_count": 19,
   "metadata": {},
   "outputs": [
    {
     "name": "stdout",
     "output_type": "stream",
     "text": [
      "2\n",
      "1\n"
     ]
    }
   ],
   "source": [
    "a = 5\n",
    "b = 2\n",
    "q = a // b\n",
    "r = a % b\n",
    "print(q)  # q = 2\n",
    "print(r)  # r = 1"
   ]
  },
  {
   "cell_type": "code",
   "execution_count": 20,
   "metadata": {},
   "outputs": [
    {
     "name": "stdout",
     "output_type": "stream",
     "text": [
      "-3\n",
      "1\n"
     ]
    }
   ],
   "source": [
    "a = -5\n",
    "b = 2\n",
    "q = a // b\n",
    "r = a % b\n",
    "print(q)  # q = 2\n",
    "print(r)  # r = 1"
   ]
  },
  {
   "cell_type": "code",
   "execution_count": 21,
   "metadata": {},
   "outputs": [
    {
     "name": "stdout",
     "output_type": "stream",
     "text": [
      "1\n"
     ]
    }
   ],
   "source": [
    "print(-7%2)"
   ]
  },
  {
   "cell_type": "code",
   "execution_count": 22,
   "metadata": {},
   "outputs": [
    {
     "name": "stdout",
     "output_type": "stream",
     "text": [
      "-4\n"
     ]
    }
   ],
   "source": [
    "print(-7//2)"
   ]
  },
  {
   "cell_type": "code",
   "execution_count": 23,
   "metadata": {},
   "outputs": [
    {
     "name": "stdout",
     "output_type": "stream",
     "text": [
      "5.4321\n",
      "3.138886636534116e+73\n"
     ]
    }
   ],
   "source": [
    "a = 5.4321\n",
    "print(a)\n",
    "print(a**100)\n",
    "# 5.4321"
   ]
  },
  {
   "cell_type": "code",
   "execution_count": 24,
   "metadata": {},
   "outputs": [
    {
     "name": "stdout",
     "output_type": "stream",
     "text": [
      "3.138886636534116e+75\n",
      "3.138886636534116e+76\n",
      "3.138886636534116e+71\n",
      "3.138886636534116e+70\n"
     ]
    }
   ],
   "source": [
    "a = 5.4321**100 # 3.138886636534116e+73\n",
    "\n",
    "print(a*100) # мантисса осталась прежней, а степень увеличилась на 2\n",
    "# 3.138886636534116e+75\n",
    "\n",
    "print(a*1000) # аналогично, только степень увеличилась уже на 3\n",
    "# 3.138886636534116e+76\n",
    "\n",
    "print(a/100) # снова мантисса не меняется, а степень уже уменьшилась\n",
    "# 3.138886636534116e+71\n",
    "\n",
    "print(a/1000) # как, наверное, уже ожидаемо, степень снова уменьшилась\n",
    "# 3.138886636534116e+70"
   ]
  },
  {
   "cell_type": "code",
   "execution_count": 25,
   "metadata": {},
   "outputs": [
    {
     "name": "stdout",
     "output_type": "stream",
     "text": [
      "0.3333333333333333\n"
     ]
    }
   ],
   "source": [
    "print(1/3)\n",
    "# 0.3333333333333333"
   ]
  },
  {
   "cell_type": "code",
   "execution_count": 26,
   "metadata": {},
   "outputs": [
    {
     "name": "stdout",
     "output_type": "stream",
     "text": [
      "3.5999999999999996\n"
     ]
    }
   ],
   "source": [
    "print(1.3+2.3)\n",
    "# 3.5999999999999996"
   ]
  },
  {
   "cell_type": "code",
   "execution_count": 27,
   "metadata": {},
   "outputs": [
    {
     "name": "stdout",
     "output_type": "stream",
     "text": [
      "-1.9999999999999998\n",
      "-2\n"
     ]
    }
   ],
   "source": [
    "print(1.00+0.01-3.01)\n",
    "print(round(1.00+0.01-3.01))\n",
    "# ожидается -2.0\n",
    "# -1.9999999999999998"
   ]
  },
  {
   "cell_type": "code",
   "execution_count": 28,
   "metadata": {},
   "outputs": [
    {
     "name": "stdout",
     "output_type": "stream",
     "text": [
      "1.57\n",
      "1.6\n"
     ]
    }
   ],
   "source": [
    "print(3.14/2)\n",
    "# 1.57\n",
    "print(round(3.14/2, 1)) # второй аргумент — желаемое количество знаков\n",
    "# 1.6"
   ]
  },
  {
   "cell_type": "code",
   "execution_count": 29,
   "metadata": {},
   "outputs": [
    {
     "name": "stdout",
     "output_type": "stream",
     "text": [
      "2\n"
     ]
    }
   ],
   "source": [
    "print ((31 % 2) + (-31 % 2))"
   ]
  },
  {
   "cell_type": "code",
   "execution_count": 30,
   "metadata": {},
   "outputs": [
    {
     "name": "stdout",
     "output_type": "stream",
     "text": [
      "-15\n"
     ]
    }
   ],
   "source": [
    "print (13 % -3 * 3 - 3**2)"
   ]
  },
  {
   "cell_type": "code",
   "execution_count": 31,
   "metadata": {},
   "outputs": [
    {
     "name": "stdout",
     "output_type": "stream",
     "text": [
      "9.17\n"
     ]
    }
   ],
   "source": [
    "print(round(11*2.5/3, 2))"
   ]
  },
  {
   "cell_type": "code",
   "execution_count": 32,
   "metadata": {},
   "outputs": [
    {
     "name": "stdout",
     "output_type": "stream",
     "text": [
      "5\n"
     ]
    }
   ],
   "source": [
    "print(round(3.14159**2/2))"
   ]
  },
  {
   "cell_type": "code",
   "execution_count": 33,
   "metadata": {},
   "outputs": [
    {
     "name": "stdout",
     "output_type": "stream",
     "text": [
      "False\n",
      "True\n",
      "False\n"
     ]
    }
   ],
   "source": [
    "print(3 > 10)\n",
    "# False\n",
    "\n",
    "print(3 < 10)\n",
    "# True\n",
    "\n",
    "print(3 == 10) # равны ли объекты?\n",
    "# False"
   ]
  },
  {
   "cell_type": "code",
   "execution_count": 34,
   "metadata": {},
   "outputs": [
    {
     "name": "stdout",
     "output_type": "stream",
     "text": [
      "Hl\n",
      "ll\n"
     ]
    }
   ],
   "source": [
    "s = \"Hello!\"\n",
    "print(s[:4:2])\n",
    "# H\n",
    "print(s[2:4])\n",
    "# o"
   ]
  },
  {
   "cell_type": "code",
   "execution_count": 35,
   "metadata": {},
   "outputs": [
    {
     "name": "stdout",
     "output_type": "stream",
     "text": [
      "Perfect\n"
     ]
    }
   ],
   "source": [
    "s1 = \"Per\"\n",
    "s2 = \"fec\"\n",
    "s3 = \"fe\"\n",
    "s4 = \"ct\"\n",
    "new_string = s1+s3+s4\n",
    "print(new_string)"
   ]
  },
  {
   "cell_type": "code",
   "execution_count": 36,
   "metadata": {},
   "outputs": [
    {
     "name": "stdout",
     "output_type": "stream",
     "text": [
      "7\n"
     ]
    }
   ],
   "source": [
    "new_string = \"Perfect\"\n",
    "print(len(new_string))"
   ]
  },
  {
   "cell_type": "code",
   "execution_count": 37,
   "metadata": {},
   "outputs": [
    {
     "name": "stdout",
     "output_type": "stream",
     "text": [
      "1\n",
      "4\n",
      "2\n",
      "False\n",
      "False\n",
      "False\n",
      "HELLO!\n",
      "hello!\n",
      "Hello!\n"
     ]
    }
   ],
   "source": [
    "s = \"Hello!\"\n",
    "print(s.find('e')) # возвращает индекс\n",
    "# 1\n",
    "print(s.find('o!')) # в случае подстроки возвращает индекс первого символа\n",
    "# 4\n",
    "print(s.find('l')) # встречается в индексах 2 и 3\n",
    "# 2\n",
    "s = \"Hello!\"\n",
    "print(s.isdigit()) # строка состоит только из цифр?\n",
    "# False\n",
    "print(s.isalpha()) # строка состоит только из букв?\n",
    "# False\n",
    "print(s.isalnum()) # строка состоит только из цифр и букв?\n",
    "# False\n",
    "print(s.upper())\n",
    "# HELLO!\n",
    "print(s.lower())\n",
    "# hello!\n",
    "print(s)\n",
    "# Hello!"
   ]
  },
  {
   "cell_type": "code",
   "execution_count": 38,
   "metadata": {},
   "outputs": [
    {
     "name": "stdout",
     "output_type": "stream",
     "text": [
      "['red', 'blue', 'green', 'red', 'blue', 'green']\n",
      "['green', 'blue', 'red', 'green', 'blue', 'red']\n"
     ]
    }
   ],
   "source": [
    "colors = 'red blue green red blue green'\n",
    "print(colors.split())\n",
    "print(colors.split()[::-1])\n",
    "# ['red', 'blue', 'green']"
   ]
  },
  {
   "cell_type": "code",
   "execution_count": 39,
   "metadata": {},
   "outputs": [
    {
     "name": "stdout",
     "output_type": "stream",
     "text": [
      "['bear', '1', '0', '0', '1', '0', '0', '1', '1', '1', '1', '0', '0', '4', '0', '0', '1', '1']\n"
     ]
    }
   ],
   "source": [
    "animal = 'bear,1,0,0,1,0,0,1,1,1,1,0,0,4,0,0,1,1'\n",
    "print(animal.split(','))"
   ]
  },
  {
   "cell_type": "code",
   "execution_count": 40,
   "metadata": {},
   "outputs": [
    {
     "name": "stdout",
     "output_type": "stream",
     "text": [
      "['Two', 'roads', 'diverged', 'in', 'a', 'yellow', 'wood,', 'And', 'sorry', 'I', 'could', 'not', 'travel', 'both', 'And', 'be', 'one', 'traveler,', 'long', 'I', 'stood', 'And', 'looked', 'down', 'one', 'as', 'far', 'as', 'I', 'could', 'To', 'where', 'it', 'bent', 'in', 'the', 'undergrowth.']\n"
     ]
    }
   ],
   "source": [
    "poem = '''Two roads diverged in a yellow wood,\n",
    "And sorry I could not travel both\n",
    "And be one traveler, long I stood\n",
    "And looked down one as far as I could\n",
    "To where it bent in the undergrowth.'''\n",
    "print(poem.split())"
   ]
  },
  {
   "cell_type": "code",
   "execution_count": 41,
   "metadata": {},
   "outputs": [
    {
     "name": "stdout",
     "output_type": "stream",
     "text": [
      "red @@@ green @@@ blue\n"
     ]
    }
   ],
   "source": [
    "colors = 'red green blue'\n",
    "colors_split = colors.split() # список цветов по отдельности\n",
    "colors_joined = ' @@@ '.join(colors_split) # объединение строк\n",
    "print(colors_joined)\n",
    "# red and green and blue"
   ]
  },
  {
   "cell_type": "code",
   "execution_count": 42,
   "metadata": {},
   "outputs": [
    {
     "name": "stdout",
     "output_type": "stream",
     "text": [
      "The  currency rate on the date  is 99.9\n",
      "The  currency rate on the date  is 99.9\n",
      "The  currency rate on the date  is 99.9\n",
      "The  currency rate on the date  is 999.000000\n",
      "The  currency rate on the date  is 999.00000\n",
      "The  currency rate on the date  is 99.900\n"
     ]
    }
   ],
   "source": [
    "cur_date = input('Enter date: ')\n",
    "currency = input('Enter currency: ')\n",
    "rate = 99.9\n",
    "print('The', currency, 'currency rate on the date', cur_date,'is', rate)\n",
    "print('The {} currency rate on the date {} is {}'.format(currency, cur_date, rate))\n",
    "#print('The {2} currency rate on the date {1} is {0}'.format(currency, cur_date, rate))\n",
    "print(f'The {currency} currency rate on the date {cur_date} is {rate}')\n",
    "#The EUR currency rate on the date 20.06.2021 is 86.37\n",
    "print(f'The {currency} currency rate on the date {cur_date} is {rate*10:5f}')\n",
    "print(f'The {currency} currency rate on the date {cur_date} is {rate*10:.5f}')\n",
    "print(f'The {currency} currency rate on the date {cur_date} is {rate:.3f}')\n",
    "#The EUR currency rate on the date 20.06.2021 is 86.370\n",
    "#The EUR currency rate on the date 20.06.2021 is 103.644\n",
    "# Enter date:  20.06.2021\n",
    "# Enter currency:  EUR\n",
    "# The EUR currency rate on the date 20.06.2021 is 86.37"
   ]
  },
  {
   "cell_type": "code",
   "execution_count": 43,
   "metadata": {},
   "outputs": [
    {
     "name": "stdout",
     "output_type": "stream",
     "text": [
      "Hello Andrey! \n",
      "Our store is happy to inform you that we have a personal offer for you. \n",
      "We give you a coupon for a 15 % discount on your favorite products. \n",
      "You can learn more about the offer following the link attached below.\n",
      "\n"
     ]
    }
   ],
   "source": [
    "script = '''Hello {}! \n",
    "Our store is happy to inform you that we have a personal offer for you. \n",
    "We give you a coupon for a {} % discount on your favorite products. \n",
    "You can learn more about the offer following the link attached below.\n",
    "'''\n",
    "client_name = 'Andrey'\n",
    "discount = 15\n",
    "print(script.format(client_name, discount))"
   ]
  },
  {
   "cell_type": "code",
   "execution_count": 44,
   "metadata": {},
   "outputs": [
    {
     "name": "stdout",
     "output_type": "stream",
     "text": [
      "Model - linear regression, MAE - 42.18\n"
     ]
    }
   ],
   "source": [
    "mean_absolute_error = 42.1838\n",
    "model = 'linear regression'\n",
    "print('Model - {}, MAE - {:.2f}'.format(model, mean_absolute_error))"
   ]
  },
  {
   "cell_type": "code",
   "execution_count": 45,
   "metadata": {},
   "outputs": [
    {
     "name": "stdout",
     "output_type": "stream",
     "text": [
      "Hello, John! Yesterday you fulfilled the norm by 45.0%\n",
      "Hello, John! Yesterday you fulfilled the norm by 45%\n"
     ]
    }
   ],
   "source": [
    "name = 'John'\n",
    "percent= 45\n",
    "print(\"Hello, {0}! Yesterday you fulfilled the norm by {1:.1f}%\".format(name, percent))\n",
    "print(\"Hello, {}! Yesterday you fulfilled the norm by {}%\".format(name, percent))"
   ]
  },
  {
   "cell_type": "code",
   "execution_count": 46,
   "metadata": {},
   "outputs": [
    {
     "ename": "ValueError",
     "evalue": "invalid literal for int() with base 10: ''",
     "output_type": "error",
     "traceback": [
      "\u001b[1;31m---------------------------------------------------------------------------\u001b[0m",
      "\u001b[1;31mValueError\u001b[0m                                Traceback (most recent call last)",
      "Cell \u001b[1;32mIn[46], line 1\u001b[0m\n\u001b[1;32m----> 1\u001b[0m a \u001b[39m=\u001b[39m \u001b[39mint\u001b[39;49m(\u001b[39minput\u001b[39;49m())\n\u001b[0;32m      2\u001b[0m \u001b[39mprint\u001b[39m(a \u001b[39m+\u001b[39m \u001b[39m10\u001b[39m)\n",
      "\u001b[1;31mValueError\u001b[0m: invalid literal for int() with base 10: ''"
     ]
    }
   ],
   "source": [
    "a = int(input())\n",
    "print(a + 10)"
   ]
  },
  {
   "cell_type": "code",
   "execution_count": null,
   "metadata": {},
   "outputs": [
    {
     "name": "stdout",
     "output_type": "stream",
     "text": [
      "144.03\n"
     ]
    }
   ],
   "source": [
    "b = float('125.13')\n",
    "c = 18.9\n",
    "print(b + c)\n",
    "# 144.03 "
   ]
  },
  {
   "cell_type": "code",
   "execution_count": null,
   "metadata": {},
   "outputs": [
    {
     "name": "stdout",
     "output_type": "stream",
     "text": [
      "['12942021', '2491']\n"
     ]
    }
   ],
   "source": [
    "d = 12942021.24910\n",
    "d_str = str(d)\n",
    "print(d_str.split('.'))"
   ]
  },
  {
   "cell_type": "code",
   "execution_count": null,
   "metadata": {},
   "outputs": [
    {
     "name": "stdout",
     "output_type": "stream",
     "text": [
      "['Refrigerator', 'service', 'life:', '9', 'years', '3', 'months']\n",
      "9 3\n",
      "111\n"
     ]
    }
   ],
   "source": [
    "advertisement = 'Refrigerator service life: 9 years 3 months'\n",
    "advertisement_splited = advertisement.split()\n",
    "print(advertisement_splited)\n",
    "year = advertisement_splited[3]\n",
    "month = advertisement_splited[5]\n",
    "print(year, month)\n",
    "service_life = int(year) * 12 + int(month)\n",
    "print(service_life)\n",
    "# ['Refrigerator', 'service', 'life:', '9', 'years', '3', 'months']"
   ]
  },
  {
   "cell_type": "code",
   "execution_count": null,
   "metadata": {},
   "outputs": [
    {
     "name": "stdout",
     "output_type": "stream",
     "text": [
      "10.5\n"
     ]
    }
   ],
   "source": [
    "a = 3\n",
    "b = 3.5 \n",
    "c = 4\n",
    "number = a + b + c\n",
    "print(number)"
   ]
  },
  {
   "cell_type": "code",
   "execution_count": null,
   "metadata": {},
   "outputs": [
    {
     "name": "stdout",
     "output_type": "stream",
     "text": [
      "173.0\n"
     ]
    }
   ],
   "source": [
    "tax = 13.5\n",
    "salary = float(input())\n",
    "print(salary * (1-tax / 100))"
   ]
  },
  {
   "cell_type": "code",
   "execution_count": null,
   "metadata": {},
   "outputs": [
    {
     "name": "stdout",
     "output_type": "stream",
     "text": [
      "29.0\n"
     ]
    }
   ],
   "source": [
    "# Входные данные\n",
    "salary = '29000 руб.'\n",
    "salary_number_split=salary.split()\n",
    "salary_number=float(salary_number_split[0])/1000\n",
    "print(salary_number)\n",
    "\n",
    "# Значение переменной:\n",
    "# salary_number = 29.0\n"
   ]
  },
  {
   "cell_type": "code",
   "execution_count": null,
   "metadata": {},
   "outputs": [
    {
     "name": "stdout",
     "output_type": "stream",
     "text": [
      "16\n",
      "10\n"
     ]
    }
   ],
   "source": [
    "# Входные данные\n",
    "experience = 'Work experience 202 months'\n",
    "experience_split=experience.split()\n",
    "experience_year=int(experience_split[2])//12\n",
    "experience_month=int(experience_split[2])%12\n",
    "print(experience_year)\n",
    "print(experience_month)\n",
    "# Значения переменных:\n",
    "# experience_year = 16\n",
    "# experience_year = 10\n"
   ]
  },
  {
   "cell_type": "code",
   "execution_count": null,
   "metadata": {},
   "outputs": [
    {
     "name": "stdout",
     "output_type": "stream",
     "text": [
      "['Male ', ' 39 years old ', ' born on November 27 ', ' 1979']\n",
      "male \n",
      "\n",
      " 1979\n"
     ]
    }
   ],
   "source": [
    "# Входные данные\n",
    "description = 'Male , 39 years old , born on November 27 , 1979'\n",
    "description_splited=description.split(',')\n",
    "gender=str(description_splited[0]).lower()\n",
    "age=description_splited[1].split(' ')[1]\n",
    "year_of_birth=description_splited[3]\n",
    "\n",
    "print(description_splited)\n",
    "print(gender)\n",
    "print(age)\n",
    "print(year_of_birth)\n",
    "# Значения переменных:\n",
    "# gender = 'male'\n",
    "# age = '39'\n",
    "# year_of_birth = '1979'\n"
   ]
  },
  {
   "cell_type": "code",
   "execution_count": null,
   "metadata": {},
   "outputs": [
    {
     "name": "stdout",
     "output_type": "stream",
     "text": [
      "[]\n"
     ]
    }
   ],
   "source": [
    "empty_list=list()\n",
    "print(empty_list)"
   ]
  },
  {
   "cell_type": "code",
   "execution_count": null,
   "metadata": {},
   "outputs": [
    {
     "name": "stdout",
     "output_type": "stream",
     "text": [
      "range(0, 10, 2)\n"
     ]
    }
   ],
   "source": [
    "numbers = [1, 2, 3, 4, 5, 6, 7, 8, 9, 10]\n",
    "vowels = ['a', 'e', 'i', 'o', 'u', 'y']\n",
    "languages = ['Java', 'C', 'Python', 'C++', 'Visual Basic.NET']\n",
    "a = range(0,10,2)\n",
    "print(a)"
   ]
  },
  {
   "cell_type": "code",
   "execution_count": null,
   "metadata": {},
   "outputs": [
    {
     "name": "stdout",
     "output_type": "stream",
     "text": [
      "[-10, -9, -8, -7, -6, -5, -4, -3, -2, -1, 0, 1, 2, 3, 4, 5, 6, 7, 8, 9, 10, 11, 12, 13, 14, 15, 16, 17, 18, 19, 20, 21, 22, 23, 24, 25, 26, 27, 28, 29, 30, 31, 32, 33, 34, 35, 36, 37, 38, 39, 40, 41, 42, 43, 44, 45, 46, 47, 48, 49, 50, 51, 52, 53, 54, 55, 56, 57, 58, 59, 60, 61, 62, 63, 64, 65, 66, 67, 68, 69, 70, 71, 72, 73, 74, 75, 76, 77, 78, 79, 80, 81, 82, 83, 84, 85, 86, 87, 88, 89, 90, 91, 92, 93, 94, 95, 96, 97, 98, 99, 100]\n"
     ]
    }
   ],
   "source": [
    "a=list(range(-10,101))\n",
    "print(a)"
   ]
  },
  {
   "cell_type": "code",
   "execution_count": null,
   "metadata": {},
   "outputs": [
    {
     "name": "stdout",
     "output_type": "stream",
     "text": [
      "a\n"
     ]
    }
   ],
   "source": [
    "a = [\"a\", \"b\", \"c\"]\n",
    "print(a[-3])"
   ]
  },
  {
   "cell_type": "code",
   "execution_count": null,
   "metadata": {},
   "outputs": [
    {
     "name": "stdout",
     "output_type": "stream",
     "text": [
      "['a', 'c', 'e']\n",
      "['e', 'd', 'c', 'b', 'a']\n"
     ]
    }
   ],
   "source": [
    "a = [\"a\", \"b\", \"c\", \"d\", \"e\"]\n",
    "b=a[::-1]\n",
    "print(a[::2])\n",
    "print(b)"
   ]
  },
  {
   "cell_type": "code",
   "execution_count": null,
   "metadata": {},
   "outputs": [
    {
     "name": "stdout",
     "output_type": "stream",
     "text": [
      "[-1, 0, 1, 2, 3]\n"
     ]
    }
   ],
   "source": [
    "a=range(-5,6)\n",
    "print(list(a[4:9]))\n",
    "#[-1, 0, 1, 2, 3]"
   ]
  },
  {
   "cell_type": "code",
   "execution_count": null,
   "metadata": {},
   "outputs": [
    {
     "name": "stdout",
     "output_type": "stream",
     "text": [
      "[6, 5, 4, 3, 2, 1, 0, -1, -2, -3]\n"
     ]
    }
   ],
   "source": [
    "a=range(-3,7)\n",
    "print(list(a[::-1]))"
   ]
  },
  {
   "cell_type": "code",
   "execution_count": null,
   "metadata": {},
   "outputs": [
    {
     "name": "stdout",
     "output_type": "stream",
     "text": [
      "['hello', 'kitty']\n"
     ]
    }
   ],
   "source": [
    "a='hello kitty'\n",
    "split_a=a.split()\n",
    "print(split_a)"
   ]
  },
  {
   "cell_type": "code",
   "execution_count": null,
   "metadata": {},
   "outputs": [
    {
     "data": {
      "text/plain": [
       "['order1']"
      ]
     },
     "execution_count": 25,
     "metadata": {},
     "output_type": "execute_result"
    }
   ],
   "source": [
    "orders_daily = [] \n",
    "# изначально список с чеками пустой\n",
    "orders_daily.append(\"order1\")\n",
    "orders_daily \n",
    "# [“order1”] — в списке появился первый чек."
   ]
  },
  {
   "cell_type": "code",
   "execution_count": null,
   "metadata": {},
   "outputs": [
    {
     "name": "stdout",
     "output_type": "stream",
     "text": [
      "['order1', 'order2', 'order3']\n"
     ]
    }
   ],
   "source": [
    "a='order1'\n",
    "b='order2'\n",
    "c='order3'\n",
    "orders=[]\n",
    "orders.append(a)\n",
    "orders.append(b)\n",
    "orders.append(c)\n",
    "print(orders)\n"
   ]
  },
  {
   "cell_type": "code",
   "execution_count": null,
   "metadata": {},
   "outputs": [
    {
     "name": "stdout",
     "output_type": "stream",
     "text": [
      "['all_books', 'my book', 'your book']\n"
     ]
    }
   ],
   "source": [
    "book1='my book'\n",
    "book2='your book'\n",
    "books=['all_books']\n",
    "books.append(book1)\n",
    "books.append(book2)\n",
    "print(books)"
   ]
  },
  {
   "cell_type": "code",
   "execution_count": null,
   "metadata": {},
   "outputs": [
    {
     "data": {
      "text/plain": [
       "4"
      ]
     },
     "execution_count": 38,
     "metadata": {},
     "output_type": "execute_result"
    }
   ],
   "source": [
    "a = [\"a\", \"b\", \"c\", \"d\", \"b\", \"b\", \"g\", \"b\", \"r\"]\n",
    "a.count('''b''')"
   ]
  },
  {
   "cell_type": "code",
   "execution_count": null,
   "metadata": {},
   "outputs": [
    {
     "data": {
      "text/plain": [
       "[1, 2, 3]"
      ]
     },
     "execution_count": 41,
     "metadata": {},
     "output_type": "execute_result"
    }
   ],
   "source": [
    "a = [1,2,3]\n",
    "#b = a.copy()\n",
    "b=a[:]\n",
    "b \n",
    "# [1,2,3]"
   ]
  },
  {
   "cell_type": "code",
   "execution_count": null,
   "metadata": {},
   "outputs": [
    {
     "name": "stdout",
     "output_type": "stream",
     "text": [
      "[0, 1, 2, 3, 4, 5, 10]\n"
     ]
    }
   ],
   "source": [
    "a = [3,4,1,5,10,0, 2]\n",
    "a.sort()\n",
    "print(a)"
   ]
  },
  {
   "cell_type": "code",
   "execution_count": null,
   "metadata": {},
   "outputs": [
    {
     "name": "stdout",
     "output_type": "stream",
     "text": [
      "[[1, 2, 3], [4, 5, 6], [7, 8, 9]]\n",
      "[[3, 2, 4], (3, 4), '5.6', 7]\n"
     ]
    }
   ],
   "source": [
    "list1 = [[1,2,3], [4,5,6], [7,8,9]]\n",
    "list2 = [[3,2,4], (3,4), \"5.6\", 7]\n",
    "print(list1)\n",
    "print(list2)"
   ]
  },
  {
   "cell_type": "code",
   "execution_count": null,
   "metadata": {},
   "outputs": [
    {
     "name": "stdout",
     "output_type": "stream",
     "text": [
      "72\n",
      "136\n"
     ]
    }
   ],
   "source": [
    "a = (1,2,3,4,5,6) \n",
    "# создадим кортеж \n",
    "b = [1,2,3,4,5,6] \n",
    "# создадим список с теми же элементами, что в кортеже выше\n",
    "print(a.__sizeof__())\n",
    "# 72\n",
    "print(b.__sizeof__())\n",
    "# 88"
   ]
  },
  {
   "cell_type": "code",
   "execution_count": null,
   "metadata": {},
   "outputs": [
    {
     "name": "stdout",
     "output_type": "stream",
     "text": [
      "[('+79033923029', 'Ivan Ivanov'), ('+78125849204', 'Kirill Smirnov'), ('+79053049385', 'Mark Parkhomenko'), ('+79265748370', 'Ekaterina Dmitrieva'), ('+79030598495', 'Ruslan Belyi')]\n"
     ]
    }
   ],
   "source": [
    "phones = ['+79033923029', '+78125849204', '+79053049385', '+79265748370', '+79030598495']\n",
    "phones = [('+79033923029', 'Ivan Ivanov'), ('+78125849204', 'Kirill Smirnov'), ('+79053049385', 'Mark Parkhomenko'), ('+79265748370', 'Ekaterina Dmitrieva'), ('+79030598495', 'Ruslan Belyi')]\n",
    "print(phones)"
   ]
  },
  {
   "cell_type": "code",
   "execution_count": null,
   "metadata": {},
   "outputs": [
    {
     "name": "stdout",
     "output_type": "stream",
     "text": [
      "Ekaterina Dmitrieva\n"
     ]
    }
   ],
   "source": [
    "phones = {'+79033923029': 'Ivan Ivanov', '+78125849204': 'Kirill Smirnov', '+79053049385': 'Mark Parkhomenko', '+79265748370': 'Ekaterina Dmitrieva', '+79030598495': 'Ruslan Belyi'}\n",
    "print(phones[\"+79265748370\"])\n",
    "#print(phones['Ekaterina Dmitrieva'])"
   ]
  },
  {
   "cell_type": "code",
   "execution_count": null,
   "metadata": {},
   "outputs": [
    {
     "data": {
      "text/plain": [
       "7"
      ]
     },
     "execution_count": 67,
     "metadata": {},
     "output_type": "execute_result"
    }
   ],
   "source": [
    "d = {\"a\": 6, \"b\":3, \"a\": 7}\n",
    "d[\"a\"] "
   ]
  },
  {
   "cell_type": "code",
   "execution_count": null,
   "metadata": {},
   "outputs": [
    {
     "name": "stdout",
     "output_type": "stream",
     "text": [
      "{'Kolya': 180, 'Marina': 176, 'Misha': 158, 'Dima': 201, 'Yana': 183, 'Nina': 156}\n",
      "['Kolya', 'Marina', 'Misha', 'Dima', 'Yana', 'Nina']\n",
      "[180, 176, 158, 201, 183, 156]\n"
     ]
    }
   ],
   "source": [
    "friends = {\"Kolya\": 180, \"Marina\": 176,\"Kolya\": 180, \"Marina\": 176, \"Misha\": 158, \"Dima\": 201, \"Yana\": 183, \"Nina\": 156}\n",
    "friends_keys = list(friends.keys())\n",
    "friends_values = list(friends.values())\n",
    "#friends_keys.sort()\n",
    "#friends_values.sort()\n",
    "print(friends)\n",
    "print(friends_keys)\n",
    "print(friends_values)\n",
    "#['Dima', 'Kolya', 'Marina', 'Misha', 'Nina', 'Yana']"
   ]
  },
  {
   "cell_type": "code",
   "execution_count": null,
   "metadata": {},
   "outputs": [
    {
     "name": "stdout",
     "output_type": "stream",
     "text": [
      "50\n"
     ]
    }
   ],
   "source": [
    "place_and_money={1:100,2:50,3:10}\n",
    "print(place_and_money[2])"
   ]
  },
  {
   "cell_type": "code",
   "execution_count": null,
   "metadata": {},
   "outputs": [
    {
     "data": {
      "text/plain": [
       "'Ekaterina Ershova'"
      ]
     },
     "execution_count": 75,
     "metadata": {},
     "output_type": "execute_result"
    }
   ],
   "source": [
    "phones[\"+79265748370\"]  = 'Ekaterina Ershova'\n",
    "phones[\"+79265748370\"] "
   ]
  },
  {
   "cell_type": "code",
   "execution_count": null,
   "metadata": {},
   "outputs": [
    {
     "data": {
      "text/plain": [
       "{'+79033923029': 'Ivan Ivanov',\n",
       " '+78125849204': 'Kirill Smirnov',\n",
       " '+79053049385': 'Mark Parkhomenko',\n",
       " '+79265748370': 'Ekaterina Dmitrieva',\n",
       " '+79030598495': 'Ruslan Belyi',\n",
       " '+79686581788': 'Artem Pliev'}"
      ]
     },
     "execution_count": 77,
     "metadata": {},
     "output_type": "execute_result"
    }
   ],
   "source": [
    "phones = {'+79033923029': 'Ivan Ivanov', '+78125849204': 'Kirill Smirnov', '+79053049385': 'Mark Parkhomenko', '+79265748370': 'Ekaterina Dmitrieva', '+79030598495': 'Ruslan Belyi'}\n",
    "phones[\"+79686581788\"]  = 'Artem Pliev'\n",
    "phones#[\"+79265748370\"] # Ekaterina Dmitrieva"
   ]
  },
  {
   "cell_type": "code",
   "execution_count": null,
   "metadata": {},
   "outputs": [
    {
     "data": {
      "text/plain": [
       "{1: 100, 2: 50, 3: 10, 4: 5}"
      ]
     },
     "execution_count": 78,
     "metadata": {},
     "output_type": "execute_result"
    }
   ],
   "source": [
    "place_and_money = {1: 100, 2: 50, 3: 10}\n",
    "place_and_money[4]=5\n",
    "place_and_money"
   ]
  },
  {
   "cell_type": "code",
   "execution_count": null,
   "metadata": {},
   "outputs": [
    {
     "name": "stdout",
     "output_type": "stream",
     "text": [
      "['Kolya', 'Marina', 'Misha', 'Dima', 'Yana', 'Nina', 'Stas', 'Nastya']\n",
      "[180, 176, 158, 201, 183, 156, 183, 163]\n",
      "I don't have a friend with such a name.\n"
     ]
    }
   ],
   "source": [
    "friends = {\"Kolya\": 180, \"Marina\": 176, \"Misha\": 158, \"Dima\": 201, \"Yana\": 183, \"Nina\": 156}\n",
    "friends.update({\"Stas\":171, \"Nastya\": 163})\n",
    "friends.update({\"Stas\":183})\n",
    "#friends.clear()\n",
    "#friends ={}\n",
    "print(list(friends.keys()))\n",
    "print(list(friends.values()))\n",
    "#friends[\"Matvey\"] \n",
    "# Ошибка KeyError: \"Matvey\"\n",
    "\n",
    "print(friends.get(\"Matvey\", \"I don't have a friend with such a name.\"))\n",
    "# None\n",
    "#friends"
   ]
  },
  {
   "cell_type": "code",
   "execution_count": null,
   "metadata": {},
   "outputs": [
    {
     "name": "stdout",
     "output_type": "stream",
     "text": [
      "{5: [3, 4, 5], (3, 4, 5): 'strong man'}\n"
     ]
    }
   ],
   "source": [
    "test_dict={}\n",
    "test_dict.update({5: [3, 4, 5]})\n",
    "test_dict.update({(3,4,5): 'strong man'})\n",
    "print(test_dict)"
   ]
  },
  {
   "cell_type": "code",
   "execution_count": null,
   "metadata": {},
   "outputs": [
    {
     "name": "stdout",
     "output_type": "stream",
     "text": [
      "{5: [3, 4, 5], (3, 4, 5): 'strong man'}\n"
     ]
    }
   ],
   "source": [
    "test_dict = dict()\n",
    "test_dict[5] = [3, 4, 5]\n",
    "test_dict[(3, 4, 5)] = 'strong man'\n",
    "print(test_dict)"
   ]
  },
  {
   "cell_type": "code",
   "execution_count": null,
   "metadata": {},
   "outputs": [
    {
     "name": "stdout",
     "output_type": "stream",
     "text": [
      "{'h', 'l', 'e', 'o'}\n",
      "{'h', 'l', 'e', 'o'}\n"
     ]
    }
   ],
   "source": [
    "s1 = set(\"hello\")\n",
    "s2 = set(\"hello\")\n",
    "s1\n",
    "print(s1)\n",
    "print(s2)"
   ]
  },
  {
   "cell_type": "code",
   "execution_count": null,
   "metadata": {},
   "outputs": [
    {
     "data": {
      "text/plain": [
       "dict"
      ]
     },
     "execution_count": 103,
     "metadata": {},
     "output_type": "execute_result"
    }
   ],
   "source": [
    "s1 = {}\n",
    "type(s1) \n",
    "# <class 'dict'>"
   ]
  },
  {
   "cell_type": "code",
   "execution_count": null,
   "metadata": {},
   "outputs": [
    {
     "data": {
      "text/plain": [
       "set"
      ]
     },
     "execution_count": 104,
     "metadata": {},
     "output_type": "execute_result"
    }
   ],
   "source": [
    "s2 = {1,2,3}\n",
    "type(s2)"
   ]
  },
  {
   "cell_type": "code",
   "execution_count": null,
   "metadata": {},
   "outputs": [
    {
     "data": {
      "text/plain": [
       "{2, 3, 5, 10, 11}"
      ]
     },
     "execution_count": 106,
     "metadata": {},
     "output_type": "execute_result"
    }
   ],
   "source": [
    "s2={5,10,3,2,11}\n",
    "s2"
   ]
  },
  {
   "cell_type": "code",
   "execution_count": null,
   "metadata": {},
   "outputs": [
    {
     "data": {
      "text/plain": [
       "{1, 2, 3, 4, 5, 6, 7, 8, 9}"
      ]
     },
     "execution_count": 120,
     "metadata": {},
     "output_type": "execute_result"
    }
   ],
   "source": [
    "s = {1, 2, 3, 4}\n",
    "s.add(5)\n",
    "s.update({6,7,8,9,1})\n",
    "s"
   ]
  },
  {
   "cell_type": "code",
   "execution_count": null,
   "metadata": {},
   "outputs": [
    {
     "data": {
      "text/plain": [
       "{'item1', 'item4'}"
      ]
     },
     "execution_count": 129,
     "metadata": {},
     "output_type": "execute_result"
    }
   ],
   "source": [
    "cluster1 = {\"item1\", \"item2\", \"item3\", \"item4\"}\n",
    "cluster2 = {\"item2\", \"item3\", \"item5\", \"item7\"}\n",
    "cluster1.union(cluster2)\n",
    "cluster1.intersection(cluster2)\n",
    "cluster1.difference(cluster2)"
   ]
  },
  {
   "cell_type": "code",
   "execution_count": null,
   "metadata": {},
   "outputs": [
    {
     "data": {
      "text/plain": [
       "{'c', 'e'}"
      ]
     },
     "execution_count": 130,
     "metadata": {},
     "output_type": "execute_result"
    }
   ],
   "source": [
    "alpha_set={'a','b','c','d','e'}\n",
    "name=set('bad boy')\n",
    "alpha_set.union(name)\n",
    "alpha_set.intersection(name)\n",
    "alpha_set.difference(name)"
   ]
  },
  {
   "cell_type": "code",
   "execution_count": null,
   "metadata": {},
   "outputs": [
    {
     "data": {
      "text/plain": [
       "{0, 2, 3, 5, 6, 7, 10}"
      ]
     },
     "execution_count": 131,
     "metadata": {},
     "output_type": "execute_result"
    }
   ],
   "source": [
    "num_set={0,1,2,3,4,5,6,7,8,9,10}\n",
    "date_num={1,9,4,8}\n",
    "num_set.union(date_num)\n",
    "num_set.intersection(date_num)\n",
    "num_set.difference(date_num)"
   ]
  },
  {
   "cell_type": "code",
   "execution_count": null,
   "metadata": {},
   "outputs": [
    {
     "data": {
      "text/plain": [
       "10.0"
      ]
     },
     "execution_count": 132,
     "metadata": {},
     "output_type": "execute_result"
    }
   ],
   "source": [
    "int_var = 10\n",
    "# присвоим переменной int_var целое число — 10.\n",
    "float_var = float(10)\n",
    "# запишем в переменную float_var преобразованное в вещественное целое число 10.\n",
    "int_var \n",
    "# 10\n",
    "float_var \n",
    "# 10.0"
   ]
  },
  {
   "cell_type": "code",
   "execution_count": null,
   "metadata": {},
   "outputs": [
    {
     "data": {
      "text/plain": [
       "7"
      ]
     },
     "execution_count": 133,
     "metadata": {},
     "output_type": "execute_result"
    }
   ],
   "source": [
    "float_var = 7.5\n",
    "# запишем в переменную float_var вещественное число\n",
    "int_var = int(7.5)\n",
    "# запишем в переменную int_var преобразованное в целое число число 7.5\n",
    "int_var "
   ]
  },
  {
   "cell_type": "code",
   "execution_count": null,
   "metadata": {},
   "outputs": [
    {
     "data": {
      "text/plain": [
       "'5'"
      ]
     },
     "execution_count": 134,
     "metadata": {},
     "output_type": "execute_result"
    }
   ],
   "source": [
    "int_var = 5\n",
    "str_var = str(int_var)\n",
    "str_var # '5'"
   ]
  },
  {
   "cell_type": "code",
   "execution_count": null,
   "metadata": {},
   "outputs": [
    {
     "data": {
      "text/plain": [
       "'I am10years old'"
      ]
     },
     "execution_count": 136,
     "metadata": {},
     "output_type": "execute_result"
    }
   ],
   "source": [
    "str_var1 = \"I am\"\n",
    "# создали строковую переменную str_var1\n",
    "int_var = 10\n",
    "# затем переменную int_var с целым числом в значении\n",
    "str_var2 = \"years old\"\n",
    "# ещё одна строковая переменная str_var2\n",
    "str_var1 + str(int_var) + str_var2 "
   ]
  },
  {
   "cell_type": "code",
   "execution_count": null,
   "metadata": {},
   "outputs": [],
   "source": [
    "Создайте переменную str_age_begin, равную 'my age is ' (в конце строки есть пробел).\n",
    "Создайте переменную int_age, равную 18.\n",
    "Преобразуйте переменную int_age в строку и сложите с переменной str_age_begin.\n",
    "Сохраните результат в переменную result_string"
   ]
  },
  {
   "cell_type": "code",
   "execution_count": null,
   "metadata": {},
   "outputs": [
    {
     "data": {
      "text/plain": [
       "'my age is 18'"
      ]
     },
     "execution_count": 138,
     "metadata": {},
     "output_type": "execute_result"
    }
   ],
   "source": [
    "str_age_begin='my age is '\n",
    "int_age=18\n",
    "result_string=str_age_begin+str(int_age)\n",
    "result_string"
   ]
  },
  {
   "cell_type": "code",
   "execution_count": null,
   "metadata": {},
   "outputs": [
    {
     "data": {
      "text/plain": [
       "33"
      ]
     },
     "execution_count": 141,
     "metadata": {},
     "output_type": "execute_result"
    }
   ],
   "source": [
    "my_date = int(\"1990\")\n",
    "mom_date = int(\"1957\")\n",
    "my_date-mom_date"
   ]
  },
  {
   "cell_type": "code",
   "execution_count": null,
   "metadata": {},
   "outputs": [
    {
     "name": "stdout",
     "output_type": "stream",
     "text": [
      "['Anne', 'Sam', 'Marie', 'Tom', 'Curt']\n"
     ]
    }
   ],
   "source": [
    "dictionary = {\"Anne\": 15, \"Sam\": 30, \"Marie\": 22} \n",
    "only_keys = list(dictionary.keys())\n",
    "only_keys \n",
    "# dict_keys([\"Anne\", \"Sam\", \"Marie\"])\n",
    "\n",
    "only_keys = only_keys + [\"Tom\", \"Curt\"] \n",
    "# TypeError: unsupported operand type(s) for +: 'dict_keys' and 'list'\n",
    "print(only_keys)"
   ]
  },
  {
   "cell_type": "code",
   "execution_count": null,
   "metadata": {},
   "outputs": [
    {
     "data": {
      "text/plain": [
       "{('Amanda', 22, 'NY'): '3rd place', ('Collin', 23, 'LA'): '2nd place'}"
      ]
     },
     "execution_count": 148,
     "metadata": {},
     "output_type": "execute_result"
    }
   ],
   "source": [
    "d = {(\"Amanda\", 22, \"NY\"): \"3rd place\"}\n",
    "input_list = tuple([\"Collin\", 23, \"LA\"])\n",
    "# создаём новый ключ для словаря. Но пока этот ключ в виде списка.\n",
    "input_place = \"2nd place\"\n",
    "# также определяем значение для нового ключа.\n",
    "\n",
    "d[input_list] = input_place \n",
    "# TypeError: unhashable type: 'list'\n",
    "d"
   ]
  },
  {
   "cell_type": "code",
   "execution_count": null,
   "metadata": {},
   "outputs": [
    {
     "data": {
      "text/plain": [
       "(1, 2, 3, 4, 5)"
      ]
     },
     "execution_count": 150,
     "metadata": {},
     "output_type": "execute_result"
    }
   ],
   "source": [
    "list1=(1,2,3,4,5)\n",
    "tpl1=tuple(list1)\n",
    "tpl1"
   ]
  },
  {
   "cell_type": "code",
   "execution_count": null,
   "metadata": {},
   "outputs": [
    {
     "data": {
      "text/plain": [
       "[1, 2, 3]"
      ]
     },
     "execution_count": 153,
     "metadata": {},
     "output_type": "execute_result"
    }
   ],
   "source": [
    "list1=[]\n",
    "list1.append(1)\n",
    "list1.append(2)\n",
    "list1.append(3)\n",
    "list1\n"
   ]
  },
  {
   "cell_type": "code",
   "execution_count": null,
   "metadata": {},
   "outputs": [
    {
     "data": {
      "text/plain": [
       "[1, 2, 3, 4, -5, -3, -1, 1, 3, 5, 7, 9, 11, 13]"
      ]
     },
     "execution_count": 157,
     "metadata": {},
     "output_type": "execute_result"
    }
   ],
   "source": [
    "list2=range(-5,15,2)\n",
    "list3=[1,2,3,4]\n",
    "list3.extend(list2)\n",
    "list3"
   ]
  },
  {
   "cell_type": "code",
   "execution_count": null,
   "metadata": {},
   "outputs": [
    {
     "name": "stdout",
     "output_type": "stream",
     "text": [
      "[20, 11, 5, 3, 1, 1, -10, -10]\n",
      "[-10, -10, 1, 1, 3, 5, 11, 20]\n"
     ]
    }
   ],
   "source": [
    "list6=[3, 1, -10, 5, 11, 20, 1, -10]\n",
    "list7=list6\n",
    "list6.sort()\n",
    "list_result=list6[::-1]\n",
    "print(list_result)\n",
    "print(list7)\n"
   ]
  },
  {
   "cell_type": "code",
   "execution_count": null,
   "metadata": {},
   "outputs": [
    {
     "name": "stdout",
     "output_type": "stream",
     "text": [
      "False\n",
      "True\n"
     ]
    }
   ],
   "source": [
    "name_user_1029 = 'Andrey'\n",
    "name_user_1040 = 'Vladimir'\n",
    "name_user_1042 = 'Andrey'\n",
    "print(name_user_1029==name_user_1040)\n",
    "print(name_user_1029==name_user_1042)"
   ]
  },
  {
   "cell_type": "code",
   "execution_count": null,
   "metadata": {},
   "outputs": [
    {
     "name": "stdout",
     "output_type": "stream",
     "text": [
      "True\n"
     ]
    }
   ],
   "source": [
    "languages_list_1 = ['Python', 'C++', 'C#', 'Java']\n",
    "languages_list_2 = ['Python', 'C++', 'C#', 'Java']\n",
    "print(languages_list_1 == languages_list_2)"
   ]
  },
  {
   "cell_type": "code",
   "execution_count": null,
   "metadata": {},
   "outputs": [
    {
     "name": "stdout",
     "output_type": "stream",
     "text": [
      "True\n"
     ]
    }
   ],
   "source": [
    "# Создаём 2 идентичных словаря, различающихся порядком записи ключей\n",
    "store_dict_1 = {'Яблоки': 158, 'Мандарины': 178, 'Хлеб': 56}\n",
    "store_dict_2 = {'Хлеб': 56, 'Яблоки': 158, 'Мандарины': 178}\n",
    "# Проверяем их равенство\n",
    "print(store_dict_1 == store_dict_2)\n",
    "## True"
   ]
  },
  {
   "cell_type": "code",
   "execution_count": null,
   "metadata": {},
   "outputs": [
    {
     "name": "stdout",
     "output_type": "stream",
     "text": [
      "котутащатуток\n"
     ]
    },
    {
     "data": {
      "text/plain": [
       "True"
      ]
     },
     "execution_count": 174,
     "metadata": {},
     "output_type": "execute_result"
    }
   ],
   "source": [
    "target_string = 'коту тащат уток'\n",
    "#target_string = 'Шалаш'\n",
    "#target_string = 'кота тащат в шалаш'\n",
    "target_string=target_string.lower().replace(' ', '')\n",
    "print(target_string)\n",
    "target_string==target_string[::-1]"
   ]
  },
  {
   "cell_type": "code",
   "execution_count": null,
   "metadata": {},
   "outputs": [
    {
     "name": "stdout",
     "output_type": "stream",
     "text": [
      "True\n"
     ]
    }
   ],
   "source": [
    "a=1\n",
    "cond1=0<a\n",
    "cond2=4>a\n",
    "print(cond1 and cond2)\n"
   ]
  },
  {
   "cell_type": "code",
   "execution_count": null,
   "metadata": {},
   "outputs": [
    {
     "name": "stdout",
     "output_type": "stream",
     "text": [
      "False\n"
     ]
    }
   ],
   "source": [
    "sym='t'\n",
    "cond3=sym in \"python\"\n",
    "cond4=sym in \"django\"\n",
    "print(cond3 and cond4)"
   ]
  },
  {
   "cell_type": "code",
   "execution_count": null,
   "metadata": {},
   "outputs": [
    {
     "name": "stdout",
     "output_type": "stream",
     "text": [
      "True\n"
     ]
    }
   ],
   "source": [
    "word1 = 'Institute'\n",
    "word2 = 'University'\n",
    "target_string = \"I graduated from the Moscow Aviation Institute in 2015, after which I got a job at…\"\n",
    "print((word1 in target_string) or (word2 in target_string))"
   ]
  },
  {
   "cell_type": "code",
   "execution_count": null,
   "metadata": {},
   "outputs": [
    {
     "name": "stdout",
     "output_type": "stream",
     "text": [
      "True\n"
     ]
    }
   ],
   "source": [
    "#a, b, c = 2, 5, 10\n",
    "result=(a**2>b) and (a**2>c)\n",
    "\n",
    "# result = False\n",
    "\n",
    "a, b, c = 3, 5, 8\n",
    "# result = True\n",
    "print(result)"
   ]
  },
  {
   "cell_type": "code",
   "execution_count": null,
   "metadata": {},
   "outputs": [
    {
     "name": "stdout",
     "output_type": "stream",
     "text": [
      "True\n"
     ]
    }
   ],
   "source": [
    "diagnosis_1 = 'yes'\n",
    "diagnosis_2 = 'yes'\n",
    "diagnosis_3 = 'no'\n",
    "result= (diagnosis_1=='yes') or (diagnosis_1=='yes') or (diagnosis_1=='yes')\n",
    "print (result)\n",
    "# result = True"
   ]
  },
  {
   "cell_type": "code",
   "execution_count": null,
   "metadata": {},
   "outputs": [
    {
     "name": "stdout",
     "output_type": "stream",
     "text": [
      "2188108774640\n"
     ]
    }
   ],
   "source": [
    "a = 'Hello world!'\n",
    "print(id(a))\n",
    "## 1887879822657"
   ]
  },
  {
   "cell_type": "code",
   "execution_count": null,
   "metadata": {},
   "outputs": [
    {
     "name": "stdout",
     "output_type": "stream",
     "text": [
      "2188110500336 2188110500336\n",
      "True\n",
      "True\n"
     ]
    }
   ],
   "source": [
    "a = 'simple string'\n",
    "b = a\n",
    "# Смотрим на идентификаторы переменных a и b\n",
    "print(id(a), id(b))\n",
    "## 140227942415216 140227942415216\n",
    "# Проверяем равенство идентификаторов\n",
    "print(id(a) == id(b))\n",
    "## True\n",
    "\n",
    "# Проверяем эквивалентность двух объектов\n",
    "print(a is b)\n",
    "## True"
   ]
  },
  {
   "cell_type": "code",
   "execution_count": null,
   "metadata": {},
   "outputs": [
    {
     "name": "stdout",
     "output_type": "stream",
     "text": [
      "2188087344656\n",
      "2188086030640\n",
      "True\n",
      "False\n"
     ]
    }
   ],
   "source": [
    "x = 15.35\n",
    "y = 15.35\n",
    "# Смотрим на идентификатор переменной x\n",
    "print(id(x))\n",
    "## 1887879819984\n",
    "# Смотрим на идентификатор переменной y\n",
    "print(id(y))\n",
    "## 1887879822608\n",
    "# Проверяем равенство двух объектов\n",
    "print(x == y)\n",
    "## True\n",
    "# Проверяем эквивалентность двух объектов\n",
    "print(x is y)\n",
    "## False"
   ]
  },
  {
   "cell_type": "code",
   "execution_count": null,
   "metadata": {},
   "outputs": [
    {
     "name": "stdout",
     "output_type": "stream",
     "text": [
      "True True\n",
      "True False\n"
     ]
    }
   ],
   "source": [
    "x = 256\n",
    "y = 256\n",
    "# Проверяем равенство и эквивалентность двух объектов\n",
    "print(x == y, x is y)\n",
    "## True True\n",
    "w = 257\n",
    "v = 257\n",
    "# Проверяем равенство и эквивалентность двух объектов\n",
    "print(w == v, w is v)\n",
    "## True False"
   ]
  },
  {
   "cell_type": "code",
   "execution_count": null,
   "metadata": {},
   "outputs": [
    {
     "name": "stdout",
     "output_type": "stream",
     "text": [
      "True True True False\n"
     ]
    }
   ],
   "source": [
    "a = [1, 2, 3]\n",
    "b = a\n",
    "c = [1, 2, 3]\n",
    "print(a == b, a == c, a is b, a is c)"
   ]
  },
  {
   "cell_type": "code",
   "execution_count": null,
   "metadata": {},
   "outputs": [
    {
     "name": "stdout",
     "output_type": "stream",
     "text": [
      "True\n"
     ]
    }
   ],
   "source": [
    "orders = {\n",
    "    '2022-10-10': ['F124', 'D89D', '142L'],\n",
    "    '2022-10-11': ['H241', 'OR24', 'BE14', '348F'],\n",
    "    '2022-10-12': ['H429', 'JAS2']\n",
    "}\n",
    "target_order = 'BE14'\n",
    "result=(target_order in orders['2022-10-10']) or \\\n",
    "    (target_order in orders['2022-10-11']) or \\\n",
    "(target_order in orders['2022-10-12'])\n",
    "print(result)\n"
   ]
  },
  {
   "cell_type": "code",
   "execution_count": null,
   "metadata": {},
   "outputs": [
    {
     "name": "stdout",
     "output_type": "stream",
     "text": [
      "14093530013530593\n"
     ]
    }
   ],
   "source": [
    "message = 14093530013530593\n",
    "print (message)\n",
    "#print('5' not in str(message)[:6])"
   ]
  },
  {
   "cell_type": "code",
   "execution_count": null,
   "metadata": {},
   "outputs": [
    {
     "name": "stdout",
     "output_type": "stream",
     "text": [
      "True\n"
     ]
    }
   ],
   "source": [
    "N = 12043879584\n",
    "contains = ('3'in str(N)) and ('7' in str(N))\n",
    "print(contains)"
   ]
  },
  {
   "attachments": {},
   "cell_type": "markdown",
   "metadata": {},
   "source": [
    "Задание 3.2 (External resource)"
   ]
  },
  {
   "cell_type": "code",
   "execution_count": null,
   "metadata": {},
   "outputs": [
    {
     "name": "stdout",
     "output_type": "stream",
     "text": [
      "True\n"
     ]
    }
   ],
   "source": [
    "x, y = 'F', 7\n",
    "x_correct=['A','B','C','D','E','F','G','H']\n",
    "y_correct=[1,2,3,4,5,6,7,8]\n",
    "move_is_correct=(x in x_correct) and (y in y_correct)\n",
    "print(move_is_correct)"
   ]
  },
  {
   "cell_type": "code",
   "execution_count": null,
   "metadata": {},
   "outputs": [
    {
     "name": "stdout",
     "output_type": "stream",
     "text": [
      "True\n",
      "False\n"
     ]
    }
   ],
   "source": [
    "available_packages = 105\n",
    "total_count = 1677\n",
    "# Проверяем, что все карандаши удастся распределить по упаковкам\n",
    "print(total_count % 13 == 0)\n",
    "## True\n",
    "# Проверяем, достаточно ли у нас упаковок на складе\n",
    "print(total_count // 13 <= available_packages)\n",
    "## False"
   ]
  },
  {
   "cell_type": "code",
   "execution_count": null,
   "metadata": {},
   "outputs": [
    {
     "name": "stdout",
     "output_type": "stream",
     "text": [
      "False\n"
     ]
    }
   ],
   "source": [
    "available_packages = 105\n",
    "total_count = 1677\n",
    "condition_1 = total_count % 13 == 0\n",
    "condition_2 = total_count // 13 < available_packages\n",
    "result = condition_1 and condition_2\n",
    "print(result)"
   ]
  },
  {
   "attachments": {},
   "cell_type": "markdown",
   "metadata": {},
   "source": [
    "Задание 3.3 (External resource)"
   ]
  },
  {
   "cell_type": "code",
   "execution_count": null,
   "metadata": {},
   "outputs": [
    {
     "name": "stdout",
     "output_type": "stream",
     "text": [
      "True\n"
     ]
    }
   ],
   "source": [
    "N = 45901\n",
    "first_is_even=(int(str(N)[0]))%2==0\n",
    "print(first_is_even)\n",
    "# first_is_even = False"
   ]
  },
  {
   "attachments": {},
   "cell_type": "markdown",
   "metadata": {},
   "source": [
    "Задание 3.4 (External resource)"
   ]
  },
  {
   "cell_type": "code",
   "execution_count": null,
   "metadata": {},
   "outputs": [
    {
     "name": "stdout",
     "output_type": "stream",
     "text": [
      "True\n"
     ]
    }
   ],
   "source": [
    "year = 2000\n",
    "condition_3=year%400==0\n",
    "condition_4=year%4==0 and year%100 !=0\n",
    "year_is_leap= condition_3 or condition_4\n",
    "print (year_is_leap)"
   ]
  },
  {
   "attachments": {},
   "cell_type": "markdown",
   "metadata": {},
   "source": [
    "Задание 3.5 (External resource)"
   ]
  },
  {
   "cell_type": "code",
   "execution_count": null,
   "metadata": {},
   "outputs": [
    {
     "name": "stdout",
     "output_type": "stream",
     "text": [
      "True\n"
     ]
    }
   ],
   "source": [
    "n, m, k = 5, 4, 8\n",
    "result=(n*m>k and k%2==0)\n",
    "print(result)"
   ]
  },
  {
   "cell_type": "code",
   "execution_count": null,
   "metadata": {},
   "outputs": [
    {
     "name": "stdout",
     "output_type": "stream",
     "text": [
      "None\n",
      "<class 'NoneType'>\n",
      "True\n",
      "True\n"
     ]
    }
   ],
   "source": [
    "name = None\n",
    "surname = None\n",
    "second_name = None\n",
    "print(name)\n",
    "print(type(name))\n",
    "print(id(name) == id(surname) and id(name) == id(second_name))\n",
    "print(second_name is None)"
   ]
  },
  {
   "attachments": {},
   "cell_type": "markdown",
   "metadata": {},
   "source": [
    "Задание 3.6 (External resource)"
   ]
  },
  {
   "cell_type": "code",
   "execution_count": null,
   "metadata": {},
   "outputs": [
    {
     "name": "stdout",
     "output_type": "stream",
     "text": [
      "True\n"
     ]
    }
   ],
   "source": [
    "phone = '+7 927 124 42 12'\n",
    "phone_is_defined=phone is not None\n",
    "print(phone_is_defined) \n",
    "# phone_is_defined = True"
   ]
  },
  {
   "attachments": {},
   "cell_type": "markdown",
   "metadata": {},
   "source": [
    "Задание 3.7 (External resource)"
   ]
  },
  {
   "cell_type": "code",
   "execution_count": null,
   "metadata": {},
   "outputs": [
    {
     "name": "stdout",
     "output_type": "stream",
     "text": [
      "False\n"
     ]
    }
   ],
   "source": [
    "arrival_of_goods = {\n",
    "    '148902': {\n",
    "        'Футболка с принтом': 180,\n",
    "        'Свитшот черный': 245,\n",
    "        'Джинсы серые': 252\n",
    "    },\n",
    "    '893516': {\n",
    "        'Футболка с принтом': 43,\n",
    "        'Свитшот черный': 64,\n",
    "        'Джинсы черные': 102\n",
    "    },\n",
    "    '893481': {\n",
    "        'Кружка керамическая': 35,\n",
    "        'Свитшот черный': 10,\n",
    "        'Джинсы сервые': 14\n",
    "    }\n",
    "}\n",
    "invoice_number = '892421'\n",
    "invoice_exists=arrival_of_goods.get(invoice_number)\n",
    "print(invoice_exists is not None)"
   ]
  },
  {
   "cell_type": "code",
   "execution_count": null,
   "metadata": {},
   "outputs": [
    {
     "name": "stdout",
     "output_type": "stream",
     "text": [
      "Take an umbrella\n"
     ]
    }
   ],
   "source": [
    "is_rainy = True  # дождь будет\n",
    " \n",
    "# Реализуем условный оператор\n",
    "# В блок if помещаем условие \n",
    "if is_rainy:\n",
    "    # брать зонт\n",
    "    print(\"Take an umbrella\") \n",
    "#else:\n",
    "    # не брать зонт\n",
    "    #print(\"Don't take an umbrella\") \n",
    " \n",
    "## Брать зонт"
   ]
  },
  {
   "cell_type": "code",
   "execution_count": null,
   "metadata": {},
   "outputs": [
    {
     "name": "stdout",
     "output_type": "stream",
     "text": [
      "Value of variable a > value of variable b\n"
     ]
    }
   ],
   "source": [
    "a = 2 ** 10\n",
    "b = 3 ** 5\n",
    "if a>b:\n",
    "    print('Value of variable a > value of variable b')\n",
    "else:\n",
    "    print('Value of variable a <= value of variable b')"
   ]
  },
  {
   "cell_type": "code",
   "execution_count": null,
   "metadata": {},
   "outputs": [
    {
     "name": "stdout",
     "output_type": "stream",
     "text": [
      "on-target_word\n",
      "['and', 'or', 'not']-list of words\n"
     ]
    }
   ],
   "source": [
    "target_word = 'on'\n",
    "words = ['and', 'or', 'not']\n",
    "# Проверяем, что строка target_word есть в списке words\n",
    "if target_word in words:\n",
    "    # целевое слово есть в списке\n",
    "    print('String \"{}\" is in list'.format(target_word))\n",
    "print('{}-target_word'.format(target_word))\n",
    "print('{}-list of words'.format(words))\n",
    "## String \"and\" is in list"
   ]
  },
  {
   "cell_type": "code",
   "execution_count": null,
   "metadata": {},
   "outputs": [
    {
     "name": "stdout",
     "output_type": "stream",
     "text": [
      "a=F( 16 )\n"
     ]
    }
   ],
   "source": [
    "a=7\n",
    "b=9+a\n",
    "print(\"a=F(\",b,\")\")"
   ]
  },
  {
   "attachments": {},
   "cell_type": "markdown",
   "metadata": {},
   "source": [
    "Задание 4.3 (External resource)"
   ]
  },
  {
   "cell_type": "code",
   "execution_count": null,
   "metadata": {},
   "outputs": [
    {
     "name": "stdout",
     "output_type": "stream",
     "text": [
      "-5\n",
      "0\n"
     ]
    }
   ],
   "source": [
    "mx = 0\n",
    "s = 0\n",
    "x = -5\n",
    "if x < 0:\n",
    "    s = x\n",
    "if x > mx:\n",
    "    mx = x\n",
    "print(s)\n",
    "print(mx)"
   ]
  },
  {
   "attachments": {},
   "cell_type": "markdown",
   "metadata": {},
   "source": [
    "Задание 4.4 (External resource)"
   ]
  },
  {
   "cell_type": "code",
   "execution_count": null,
   "metadata": {},
   "outputs": [
    {
     "name": "stdout",
     "output_type": "stream",
     "text": [
      "«Добро пожаловать!»\n"
     ]
    }
   ],
   "source": [
    "people_count = 3.45\n",
    "if people_count<10:\n",
    "    print('«Добро пожаловать!»')\n",
    "else:\n",
    "    print('«Всё занято. Подождите!»')\n",
    "\n",
    "\n",
    "#«Добро пожаловать!»\n",
    "#«Всё занято. Подождите!»\n"
   ]
  },
  {
   "attachments": {},
   "cell_type": "markdown",
   "metadata": {},
   "source": [
    "Задание 4.5 (External resource)"
   ]
  },
  {
   "cell_type": "code",
   "execution_count": null,
   "metadata": {},
   "outputs": [
    {
     "name": "stdout",
     "output_type": "stream",
     "text": [
      "«Вы ввели неверный пароль!»\n"
     ]
    }
   ],
   "source": [
    "password = '879f2aabS'\n",
    "answer = '879f2aabS!'\n",
    "if answer == password:\n",
    "    print('«Добро пожаловать!»')\n",
    "if answer != password:\n",
    "    print('«Вы ввели неверный пароль!»')\n",
    "    \n",
    "#«Добро пожаловать!»\n",
    "#«Вы ввели неверный пароль!»\n"
   ]
  },
  {
   "attachments": {},
   "cell_type": "markdown",
   "metadata": {},
   "source": [
    "Задание 4.6 (External resource)"
   ]
  },
  {
   "cell_type": "code",
   "execution_count": null,
   "metadata": {},
   "outputs": [
    {
     "name": "stdout",
     "output_type": "stream",
     "text": [
      "Привет, Андрей! Приносим свои извинения, но вы не можете гулять после 22:00\n"
     ]
    }
   ],
   "source": [
    "name = 'Андрей'\n",
    "age = 13\n",
    "if age>=18:\n",
    "    print('\"Добрый вечер, {}!\"'.format(name))\n",
    "if age<18:\n",
    "    print(\"Привет, {}! Приносим свои извинения, но вы не можете гулять после 22:00\".format(name))\n",
    "#\"Добрый вечер, <name>!\"\n",
    "#\"Привет, <name>! Приносим свои извинения, но вы не можете гулять после 22:00\"\n"
   ]
  },
  {
   "cell_type": "code",
   "execution_count": null,
   "metadata": {},
   "outputs": [
    {
     "name": "stdout",
     "output_type": "stream",
     "text": [
      "Put on a raincoat\n"
     ]
    }
   ],
   "source": [
    "is_rainy = True  # дождь будет\n",
    "heavy_rain = False  # не сильный дождь\n",
    "\n",
    "if is_rainy:\n",
    "    # в данный блок дописали ещё один условный оператор\n",
    "    if heavy_rain:\n",
    "        #брать зонт\n",
    "        print(\"Take an umbrella\")  \n",
    "    else:\n",
    "        #надеть дождевик\n",
    "        print(\"Put on a raincoat\") \n",
    "else:\n",
    "    #не брать зонт\n",
    "    print(\"Don't take an umbrella\") \n",
    "\n",
    "## Put on a raincoat"
   ]
  },
  {
   "cell_type": "code",
   "execution_count": null,
   "metadata": {},
   "outputs": [
    {
     "name": "stdout",
     "output_type": "stream",
     "text": [
      "Not to issue a loan\n"
     ]
    }
   ],
   "source": [
    "credit_history = 'bad'\n",
    "deposit = True\n",
    "guarantors = False\n",
    "credit = 3000.0\n",
    "if credit_history == 'bad':\n",
    "    if deposit:\n",
    "        if guarantors:\n",
    "            print('Issue a loan')\n",
    "        else:\n",
    "            print('Not to issue a loan')\n",
    "    else:\n",
    "        print('Not to issue a loan')\n",
    "else:\n",
    "    if credit < 1000:\n",
    "        print('Issue a loan')\n",
    "    else:\n",
    "        print('Not to issue a loan')"
   ]
  },
  {
   "cell_type": "code",
   "execution_count": null,
   "metadata": {},
   "outputs": [],
   "source": [
    "credit_history = 'bad'\n",
    "deposit = True\n",
    "guarantors = False\n",
    "credit = 3000.0"
   ]
  },
  {
   "attachments": {},
   "cell_type": "markdown",
   "metadata": {},
   "source": [
    "Задание 4.7 (External resource)"
   ]
  },
  {
   "cell_type": "code",
   "execution_count": null,
   "metadata": {},
   "outputs": [
    {
     "name": "stdout",
     "output_type": "stream",
     "text": [
      "27 не делится ни на 2, ни на 5\n"
     ]
    }
   ],
   "source": [
    "number = 27\n",
    "if number %2==0 and number%5==0:\n",
    "    print(\"{} делится на 2 и на 5\".format(number))\n",
    "if number %2==0 and number%5!=0:\n",
    "    print(\"{} делится на 2, но не делится на 5\".format(number))\n",
    "if number %2!=0 and number%5==0:\n",
    "    print(\"{} не делится на 2, но делится на 5\".format(number))\n",
    "if number %2!=0 and number%5!=0:\n",
    "    print(\"{} не делится ни на 2, ни на 5\".format(number))\n",
    "\n"
   ]
  },
  {
   "cell_type": "code",
   "execution_count": null,
   "metadata": {},
   "outputs": [
    {
     "name": "stdout",
     "output_type": "stream",
     "text": [
      "Eligible for discount\n"
     ]
    }
   ],
   "source": [
    "cust_age = 60\n",
    "# Проверяем условие: возраст больше 60 \n",
    "if cust_age >= 60:\n",
    "    # условие выполняется\n",
    "    print(\"Eligible for discount\")\n",
    "else:\n",
    "    # условие не выполняется\n",
    "    print(\"Not eligible for discount\")\n",
    "## Not eligible for discount"
   ]
  },
  {
   "cell_type": "code",
   "execution_count": null,
   "metadata": {},
   "outputs": [
    {
     "name": "stdout",
     "output_type": "stream",
     "text": [
      "Not eligible for discount\n"
     ]
    }
   ],
   "source": [
    "cust_age = 37\n",
    "cust_discount= \"Eligible for discount\" if cust_age>=60 else \"Not eligible for discount\"\n",
    "print(cust_discount)  "
   ]
  },
  {
   "cell_type": "code",
   "execution_count": null,
   "metadata": {},
   "outputs": [
    {
     "name": "stdout",
     "output_type": "stream",
     "text": [
      "5\n"
     ]
    }
   ],
   "source": [
    "lst = ['a', 'b', 'c']\n",
    "lst_i= 5 if 'a' in lst else None\n",
    "print (lst_i)"
   ]
  },
  {
   "cell_type": "code",
   "execution_count": null,
   "metadata": {},
   "outputs": [
    {
     "name": "stdout",
     "output_type": "stream",
     "text": [
      "cust_discount  = 10\n"
     ]
    }
   ],
   "source": [
    "cust_age = 40\n",
    "cust_discount= \"cust_discount  = 20\" if cust_age>60 else \"cust_discount  = 10\"\n",
    "print(cust_discount)\n"
   ]
  },
  {
   "cell_type": "code",
   "execution_count": null,
   "metadata": {},
   "outputs": [
    {
     "name": "stdout",
     "output_type": "stream",
     "text": [
      "Morning!\n"
     ]
    }
   ],
   "source": [
    "now = '11:24:39'\n",
    "hour, minute, second = now.split(':')\n",
    "hour, minute, second = int(hour), int(minute), int(second)\n",
    "if 6<=hour<12:\n",
    "    print(\"Morning!\")\n",
    "\n",
    "#print(hour, minute, second)"
   ]
  },
  {
   "cell_type": "code",
   "execution_count": null,
   "metadata": {},
   "outputs": [
    {
     "name": "stdout",
     "output_type": "stream",
     "text": [
      "IV quarter\n"
     ]
    }
   ],
   "source": [
    "x, y = (6.3, -5.3)\n",
    "if x>0:\n",
    "    if y>0:\n",
    "        print(\"I quarter\")\n",
    "    else:\n",
    "        print(\"IV quarter\")\n",
    "else:\n",
    "    if y>0:\n",
    "        print(\"II quarter\")\n",
    "    else:\n",
    "        print(\"III quarter\")       "
   ]
  },
  {
   "attachments": {},
   "cell_type": "markdown",
   "metadata": {},
   "source": [
    "Задание 5.1 (External resource)"
   ]
  },
  {
   "cell_type": "code",
   "execution_count": null,
   "metadata": {},
   "outputs": [
    {
     "name": "stdout",
     "output_type": "stream",
     "text": [
      "«Пора вставать!»\n"
     ]
    }
   ],
   "source": [
    "time = 8\n",
    "if 7<=time<=10:\n",
    "    print(\"«Пора вставать!»\")\n",
    "else:\n",
    "    print(\"Ты проспал!\")  "
   ]
  },
  {
   "attachments": {},
   "cell_type": "markdown",
   "metadata": {},
   "source": [
    "Задание 5.2"
   ]
  },
  {
   "cell_type": "code",
   "execution_count": null,
   "metadata": {},
   "outputs": [
    {
     "name": "stdout",
     "output_type": "stream",
     "text": [
      "«Это не очень редкое слово...»\n"
     ]
    }
   ],
   "source": [
    "target_word = \"uantity\"\n",
    "if (\"q\" in target_word) or (\"z\" in target_word):\n",
    "    print(\"«Ух ты! Вы ввели редкое слово!»\")\n",
    "else:\n",
    "    print(\"«Это не очень редкое слово...»\")\n",
    "#«Ух ты! Вы ввели редкое слово!»\n",
    "#«Это не очень редкое слово...»"
   ]
  },
  {
   "attachments": {},
   "cell_type": "markdown",
   "metadata": {},
   "source": [
    "Задание 5.3 (External resource)"
   ]
  },
  {
   "cell_type": "code",
   "execution_count": null,
   "metadata": {},
   "outputs": [
    {
     "name": "stdout",
     "output_type": "stream",
     "text": [
      "«Ваша половинка нашлась!»\n"
     ]
    }
   ],
   "source": [
    "height = 183\n",
    "weight = 78\n",
    "zodiac_sign = 'козерог'\n",
    "zodiac_aprove=('весы', 'дева', 'козерог', 'овен')\n",
    "if height >180 and weight<80 and zodiac_sign in zodiac_aprove:\n",
    "    print('«Ваша половинка нашлась!»')\n",
    "else:\n",
    "    print('«Попробуем поискать еще!»')\n",
    "# «Ваша половинка нашлась!»\n",
    "#«Попробуем поискать еще!»"
   ]
  },
  {
   "cell_type": "code",
   "execution_count": null,
   "metadata": {},
   "outputs": [
    {
     "name": "stdout",
     "output_type": "stream",
     "text": [
      "Spring\n"
     ]
    }
   ],
   "source": [
    "month=5\n",
    "if month in [3, 4, 5]:     # весна\n",
    "   print(\"Spring\")\n",
    "elif month in [6, 7, 8]:   # лето\n",
    "   print(\"Summer\")\n",
    "elif month in [9, 10, 11]: # осень\n",
    "   print(\"Autumn\")\n",
    "elif month in [12, 1, 2]:  # зима\n",
    "   print(\"Winter\")\n",
    "else:                      # некорректный номер месяца\n",
    "   print(\"Incorrect month number\")"
   ]
  },
  {
   "cell_type": "code",
   "execution_count": null,
   "metadata": {},
   "outputs": [],
   "source": [
    "\n",
    "\"weak [1]\" — от 1 до 4 м/с\n",
    "\n",
    "\"moderate [2]\" — от 5 до 10 м/c\n",
    "\n",
    "\"strong [3]\" — от 11 до 18 м/c\n",
    "\n",
    "\"hurricane [4]\" — от 19 м/c"
   ]
  },
  {
   "attachments": {},
   "cell_type": "markdown",
   "metadata": {},
   "source": [
    "Задание 5.4"
   ]
  },
  {
   "cell_type": "code",
   "execution_count": null,
   "metadata": {},
   "outputs": [],
   "source": [
    "speed = 4.5\n",
    "if 1<=speed<=4:\n",
    "    print(\"weak [1]\")\n",
    "elif 5<=speed<=10:\n",
    "    print(\"moderate [2]\")\n",
    "elif 11<=speed<=18:\n",
    "    print(\"strong [3]\")\n",
    "elif 19<=speed:\n",
    "    print(\"hurricane [4]\")"
   ]
  },
  {
   "attachments": {},
   "cell_type": "markdown",
   "metadata": {},
   "source": [
    "Задание 5.5"
   ]
  },
  {
   "cell_type": "code",
   "execution_count": null,
   "metadata": {},
   "outputs": [
    {
     "name": "stdout",
     "output_type": "stream",
     "text": [
      "Ничья!\n"
     ]
    }
   ],
   "source": [
    "player_1 = 'камень'\n",
    "player_2 = 'камень'\n",
    "if player_1=='камень' and player_2=='ножницы':\n",
    "    print (\"Первый игрок — победитель!\")\n",
    "elif player_1=='ножницы' and player_2=='бумага':\n",
    "    print (\"Первый игрок — победитель!\")\n",
    "elif player_1=='бумага' and player_2=='камень':\n",
    "    print (\"Первый игрок — победитель!\")\n",
    "elif player_1=='бумага' and player_2=='бумага':\n",
    "    print (\"Ничья!\")\n",
    "elif player_1=='камень' and player_2=='камень':\n",
    "    print (\"Ничья!\")\n",
    "elif player_1=='ножницы' and player_2=='ножницы':\n",
    "    print (\"Ничья!\")\n",
    "else:\n",
    "    print (\"Второй игрок — победитель!\")"
   ]
  },
  {
   "cell_type": "code",
   "execution_count": null,
   "metadata": {},
   "outputs": [
    {
     "name": "stdout",
     "output_type": "stream",
     "text": [
      "Курьер задержится на 8 минут\n"
     ]
    }
   ],
   "source": [
    "dish_time_dict = {\n",
    "    'Рамен с говядиной': 15,\n",
    "    'Суши': 18,\n",
    "    'Лагман с курицей': 20,\n",
    "    'Лагман с говядиной': 24,\n",
    "    'Плов с курицей': 28\n",
    "}\n",
    "street_time_dict  = {\n",
    "    'Дзержинский': 39,\n",
    "    'Солнечный': 40,\n",
    "    'Заводской': 27,\n",
    "    'Гагаринский': 43,\n",
    "    'Кировский': 37,\n",
    "    'Октябрьский': 34\n",
    "}\n",
    "#dish, street = 'Рамен с говядиной', 'Заводской'\n",
    "dish, street = 'Плов с курицей', 'Солнечный'\n",
    "#dish, street = 'Бургер с говядиной', 'Солнечный'\n",
    "if street not in street_time_dict:\n",
    "    print(\"Доставка в ваш район недоступна\")\n",
    "elif dish not in dish_time_dict:\n",
    "\tprint(\"Блюдо недоступно, закажите что-то другое\")\n",
    "else:\n",
    "    dish_time = dish_time_dict[dish] # время приготовления блюда\n",
    "    street_time = street_time_dict[street] # время доставки\n",
    "    full_time = dish_time + street_time  # общее время доставки\n",
    "    delay = full_time - 60  # задержка\n",
    "    if delay <= 0: \n",
    "    # задержка не положительна\n",
    "        print(\"Заказ будет доставлен вовремя\")\n",
    "    else:# задержка положительная\n",
    "        print(\"Курьер задержится на {} минут\".format(delay))"
   ]
  },
  {
   "cell_type": "code",
   "execution_count": null,
   "metadata": {},
   "outputs": [
    {
     "name": "stdout",
     "output_type": "stream",
     "text": [
      "Пароль идеален!\n"
     ]
    }
   ],
   "source": [
    "password = 'Aafaf*al'\n",
    "errors_dict = {\n",
    "    'length': 'Длина пароля не равна 8 символам',\n",
    "    'digits': 'Пароль состоит только из цифр',\n",
    "    'letters': 'Пароль состоит только из букв',\n",
    "    'upper': 'Отсутствуют заглавные буквы',\n",
    "    'lower': 'Отсутствуют строчные буквы',\n",
    "    'spec': 'Отсутствуют спецсимволы в пароле', # ('*', '-', '#')\n",
    "    'bad_symbols': 'В пароле использованы непредусмотренные символы'\n",
    "}\n",
    "bad_symbols = ['!', '@', '$', '%', '^', '`', '&', '(', ')', '+', '=', '_', '~']\n",
    "if len(password) == 8:\n",
    "    errors_dict .pop('length')\n",
    "if not password.isdigit():\n",
    "    errors_dict.pop('digits')\n",
    "if not password.isalpha():\n",
    "    errors_dict.pop('letters')\n",
    "if password.lower() != password:\n",
    "    errors_dict.pop('upper')\n",
    "if password.upper() != password:\n",
    "    errors_dict.pop('lower')\n",
    "if '*' in password or '-' in password or '#' in password:\n",
    "    errors_dict.pop('spec')\n",
    "if password.count('*') > 1 or password.count('-') > 1 or password.count('#') > 1:\n",
    "        errors_dict['spec_count'] = 'Какой-то из спецсимволов в пароле использован более одного раза'\n",
    "if len(set(password).intersection(set(bad_symbols))) == 0:\n",
    "    errors_dict.pop('bad_symbols')\n",
    "if len(errors_dict) > 0:\n",
    "    print(list(errors_dict.values()))\n",
    "else:\n",
    "    print('Пароль идеален!')\n",
    "\n"
   ]
  },
  {
   "attachments": {},
   "cell_type": "markdown",
   "metadata": {},
   "source": [
    "Задание 5.6 (External resource)"
   ]
  },
  {
   "cell_type": "code",
   "execution_count": null,
   "metadata": {},
   "outputs": [],
   "source": [
    "\n",
    "prices = {'Adidas': 4298, 'Nike': 6550, 'Puma': 4490, 'Asics': 3879}\n",
    "#если клиент покупает одновременно кроссовки двух разных брендов, то его общая скидка \n",
    "# составит 5 %, \n",
    "# если две пары от одного бренда — то 10 %\n",
    "purchases = [\"Adidas\", \"Nike\"]\n",
    "if purchases:\n",
    "    if len(purchases)==1:\n",
    "        cost=prices[purchases[0]]\n",
    "    print(\"Стоимость заказа составила: {}\".format(cost))\n",
    "    elif len(purchases)==2:\n",
    "        \n",
    "else:\n",
    "    print(\"Ваша корзина пуста\")\n",
    "\n",
    "# Стоимость заказа составила: 10848. С учетом скидки в 5% — 10305.6\n",
    "#purchases = [\"Nike\", \"Nike\"]\n",
    "# Стоимость заказа составила: 13100. С учетом скидки в 10% — 11790.0\n",
    "#purchases = []\n",
    "# Ваша корзина пуста\n"
   ]
  },
  {
   "cell_type": "code",
   "execution_count": null,
   "metadata": {},
   "outputs": [],
   "source": [
    "print(\"Before exception\")\n",
    "I = 1 / 0 # Здесь что-то не так….\n",
    "print(\"After exception\")"
   ]
  },
  {
   "cell_type": "code",
   "execution_count": null,
   "metadata": {},
   "outputs": [],
   "source": [
    "print(\"Before exception\")\n",
    "# Теперь пользователь сам вводит числа для деления\n",
    "a = int(input(\"a: \"))\n",
    "b = int(input(\"b: \"))\n",
    "# Здесь может возникнуть исключение деления на ноль\n",
    "c = a / b \n",
    "# Печатаем c = a / b если всё хорошо   \n",
    "print(c)  \n",
    " \n",
    "print(\"After exception\")"
   ]
  },
  {
   "cell_type": "code",
   "execution_count": null,
   "metadata": {},
   "outputs": [
    {
     "name": "stdout",
     "output_type": "stream",
     "text": [
      "Before exception\n",
      "division by zero\n",
      "After exception\n",
      "After after exception\n"
     ]
    }
   ],
   "source": [
    "# Добавляем конструкцию try-except для отлова нашей ошибки\n",
    "try: \n",
    "    print(\"Before exception\")\n",
    "    # Теперь пользователь сам вводит числа для деления\n",
    "    a = int(input(\"a: \"))\n",
    "    b = int(input(\"b: \"))\n",
    "    # Здесь может возникнуть исключение деления на ноль\n",
    "    c = a / b\n",
    "    # Печатаем c = a / b если всё хорошо\n",
    "    print(c) \n",
    "# Добавляем тип именно той ошибки которую хотим отловить.     \n",
    "except ZeroDivisionError as e: \n",
    "    # Выводим информацию об ошибке\n",
    "    print(e) \n",
    "    print(\"After exception\")\n",
    " \n",
    "print(\"After after exception\")"
   ]
  },
  {
   "cell_type": "code",
   "execution_count": null,
   "metadata": {},
   "outputs": [
    {
     "name": "stdout",
     "output_type": "stream",
     "text": [
      "Before exception\n",
      "1.0\n",
      "Everything's fine!\n",
      "Finally finished!\n",
      "After After exception\n"
     ]
    }
   ],
   "source": [
    "# Добавляем конструкцию try-except для отлова нашей ошибки\n",
    "try:\n",
    "    print(\"Before exception\") # Перед исключением\n",
    "    # Теперь пользователь сам вводит числа для деления\n",
    "    a = int(input(\"a: \"))\n",
    "    b = int(input(\"b: \"))\n",
    "    c = a / b\n",
    "    # Печатаем c = a / b, если всё хорошо\n",
    "    print(c) \n",
    "# Добавляем тип именно той ошибки которую хотим отловить. \n",
    "except ZeroDivisionError as e:\n",
    "    print(\"After exception\") # После исключения\n",
    "# код в блоке else выполняется только в том случае, если код в блоке try выполнился успешно (т. е. не произошло никакого исключения)\n",
    "else: \n",
    "    print(\"Everything's fine!\")# Всё отлично!\n",
    "# код в блоке finally выполнится в любом случае при выходе из try-except \n",
    "finally: \n",
    "    print(\"Finally finished!\") # Наконец-то завершено!\n",
    " \n",
    "print(\"After After exception\") # После после исключения"
   ]
  },
  {
   "cell_type": "code",
   "execution_count": null,
   "metadata": {},
   "outputs": [
    {
     "name": "stdout",
     "output_type": "stream",
     "text": [
      "Image id:215251\n"
     ]
    }
   ],
   "source": [
    "\n",
    "index=3\n",
    "images_db = [101252, 521929, 215251]\n",
    "try:\n",
    "    img_id=images_db[index]\n",
    "except:\n",
    "    img_id=images_db[-1]\n",
    "print(f'Image id:{img_id}')"
   ]
  },
  {
   "cell_type": "code",
   "execution_count": null,
   "metadata": {},
   "outputs": [
    {
     "name": "stdout",
     "output_type": "stream",
     "text": [
      "Неверное преобразование типов\n"
     ]
    }
   ],
   "source": [
    "key_1, key_2 = 'a', 'c'\n",
    "my_dict = {'a': 10, 'b': '5.214', 'c': 'simple_string'}\n",
    "try:\n",
    "    value_1 = my_dict[key_1]\n",
    "    value_2 = my_dict[key_2]\n",
    "    value_1, value_2 = float(value_1), float(value_2)\n",
    "    new_value = value_1 + value_2\n",
    "except KeyError:\n",
    "    print('Введен неверный ключ')\n",
    "except ValueError:\n",
    "    print('Неверное преобразование типов')"
   ]
  },
  {
   "cell_type": "code",
   "execution_count": null,
   "metadata": {},
   "outputs": [
    {
     "name": "stdout",
     "output_type": "stream",
     "text": [
      "Код завершился с ошибкой: could not convert string to float: 'simple_string'\n"
     ]
    }
   ],
   "source": [
    "try:\n",
    "    value_1 = my_dict[key_1]\n",
    "    value_2 = my_dict[key_2]\n",
    "    value_1, value_2 = float(value_1), float(value_2)\n",
    "    new_value = value_1 + value_2\n",
    "except Exception as e:\n",
    "    print('Код завершился с ошибкой: {}'.format(e))"
   ]
  },
  {
   "cell_type": "code",
   "execution_count": null,
   "metadata": {},
   "outputs": [
    {
     "name": "stdout",
     "output_type": "stream",
     "text": [
      "Такого ключа в словаре нет\n"
     ]
    }
   ],
   "source": [
    "medicines = {'Ибупрофен': 99, 'Эспумизан': 279, 'Пенталгин': 119}\n",
    "name = 'Визин'\n",
    "try:\n",
    "    medicines_cost=medicines[name]\n",
    "    print(medicines_cost)\n",
    "except:\n",
    "    print('Такого ключа в словаре нет')\n",
    "# Такого ключа в словаре нет"
   ]
  },
  {
   "cell_type": "code",
   "execution_count": null,
   "metadata": {},
   "outputs": [
    {
     "ename": "ValueError",
     "evalue": "You are too old or don't exist",
     "output_type": "error",
     "traceback": [
      "\u001b[1;31m---------------------------------------------------------------------------\u001b[0m",
      "\u001b[1;31mValueError\u001b[0m                                Traceback (most recent call last)",
      "Cell \u001b[1;32mIn[312], line 6\u001b[0m\n\u001b[0;32m      3\u001b[0m \u001b[39m# Проверяем, что возраст пользователя корректный\u001b[39;00m\n\u001b[0;32m      4\u001b[0m \u001b[39mif\u001b[39;00m age \u001b[39m>\u001b[39m \u001b[39m100\u001b[39m \u001b[39mor\u001b[39;00m age \u001b[39m<\u001b[39m\u001b[39m=\u001b[39m \u001b[39m0\u001b[39m:\n\u001b[0;32m      5\u001b[0m     \u001b[39m# Намеренно вызываем ошибку, в скобках указываем текст ошибки\u001b[39;00m\n\u001b[1;32m----> 6\u001b[0m     \u001b[39mraise\u001b[39;00m \u001b[39mValueError\u001b[39;00m(\u001b[39m\"\u001b[39m\u001b[39mYou are too old or don\u001b[39m\u001b[39m'\u001b[39m\u001b[39mt exist\u001b[39m\u001b[39m\"\u001b[39m) \n\u001b[0;32m      7\u001b[0m \u001b[39m# Возраст выводится только в том случае, если пользователь ввёл правильный возраст. \u001b[39;00m\n\u001b[0;32m      8\u001b[0m \u001b[39mprint\u001b[39m(\u001b[39m\"\u001b[39m\u001b[39mYou are \u001b[39m\u001b[39m{}\u001b[39;00m\u001b[39m years old!\u001b[39m\u001b[39m\"\u001b[39m\u001b[39m.\u001b[39mformat(age)) \n",
      "\u001b[1;31mValueError\u001b[0m: You are too old or don't exist"
     ]
    }
   ],
   "source": [
    "age = int(input(\"How old are you?\"))\n",
    "\n",
    "# Проверяем, что возраст пользователя корректный\n",
    "if age > 100 or age <= 0:\n",
    "    # Намеренно вызываем ошибку, в скобках указываем текст ошибки\n",
    "    raise ValueError(\"You are too old or don't exist\") \n",
    "# Возраст выводится только в том случае, если пользователь ввёл правильный возраст. \n",
    "print(\"You are {} years old!\".format(age)) "
   ]
  },
  {
   "cell_type": "code",
   "execution_count": null,
   "metadata": {},
   "outputs": [
    {
     "name": "stdout",
     "output_type": "stream",
     "text": [
      "Element 5\n",
      "Element 9\n",
      "Element 19\n"
     ]
    }
   ],
   "source": [
    "my_list= [5, 9, 19]\n",
    "for element in my_list:\n",
    "    print('Element',element)"
   ]
  },
  {
   "cell_type": "code",
   "execution_count": null,
   "metadata": {},
   "outputs": [],
   "source": [
    "incomes = [120, 38.5, 40.5, 80]\n",
    "s=0\n",
    "for income in incomes:\n",
    "    print('Current income', income)\n",
    "    print('Current S', s)\n",
    "    s+=income\n",
    "    print('New S',s)\n",
    "    print()\n",
    "print('Answer: s=',s)\n",
    "    \n",
    "    "
   ]
  },
  {
   "cell_type": "code",
   "execution_count": null,
   "metadata": {},
   "outputs": [
    {
     "name": "stdout",
     "output_type": "stream",
     "text": [
      "1947456\n"
     ]
    }
   ],
   "source": [
    "num_list = [98, 24, 23, 12, 3]\n",
    "p=1\n",
    "for element in num_list:\n",
    "    p *= element\n",
    "print(p)"
   ]
  },
  {
   "cell_type": "code",
   "execution_count": null,
   "metadata": {},
   "outputs": [
    {
     "name": "stdout",
     "output_type": "stream",
     "text": [
      "Answer: sum =  29161\n"
     ]
    }
   ],
   "source": [
    "N = 241\n",
    "S=0\n",
    "for i in range(1,N+1):\n",
    "    S+=i\n",
    "print(\"Answer: sum = \", S)\n"
   ]
  },
  {
   "attachments": {},
   "cell_type": "markdown",
   "metadata": {},
   "source": [
    "Задание 2.4"
   ]
  },
  {
   "cell_type": "code",
   "execution_count": null,
   "metadata": {},
   "outputs": [
    {
     "name": "stdout",
     "output_type": "stream",
     "text": [
      "3628800\n"
     ]
    }
   ],
   "source": [
    "n = 10\n",
    "p=1\n",
    "for i in range(1,n+1):\n",
    "    p*=i\n",
    "print(p)"
   ]
  },
  {
   "attachments": {},
   "cell_type": "markdown",
   "metadata": {},
   "source": [
    "Задание 2.5"
   ]
  },
  {
   "cell_type": "code",
   "execution_count": null,
   "metadata": {},
   "outputs": [],
   "source": [
    "n = 10\n",
    "for i in range(1,n+1):\n",
    "    print('*'*i)\n",
    "    "
   ]
  },
  {
   "cell_type": "code",
   "execution_count": null,
   "metadata": {},
   "outputs": [
    {
     "name": "stdout",
     "output_type": "stream",
     "text": [
      "Product 1, weight: 10- passenger car\n",
      "Product 2, weight: 42.4- passenger car\n",
      "Product 3, weight: 240.1- truck\n",
      "Product 4, weight: 101.5- truck\n",
      "Product 5, weight: 98- passenger car\n",
      "Product 6, weight: 0.4- passenger car\n",
      "Product 7, weight: 0.3- passenger car\n",
      "Product 8, weight: 15- passenger car\n"
     ]
    }
   ],
   "source": [
    "\n",
    "weight_of_products= [10, 42.4, 240.1, 101.5, 98, 0.4, 0.3, 15]\n",
    "num=1\n",
    "max_weight=100\n",
    "for weight in weight_of_products:\n",
    "    if weight<max_weight:\n",
    "        print('Product {}, weight: {}- passenger car'.format(num,weight))\n",
    "    else:\n",
    "        print('Product {}, weight: {}- truck'.format(num,weight))\n",
    "    num+=1\n",
    "      "
   ]
  },
  {
   "cell_type": "code",
   "execution_count": null,
   "metadata": {},
   "outputs": [
    {
     "name": "stdout",
     "output_type": "stream",
     "text": [
      "Product 1, weight: 10- passenger car\n",
      "Product 2, weight: 42.4- passenger car\n",
      "Product 3, weight: 240.1- truck\n",
      "Product 4, weight: 101.5- truck\n",
      "Product 5, weight: 98- passenger car\n",
      "Product 6, weight: 0.4- passenger car\n",
      "Product 7, weight: 0.3- passenger car\n",
      "Product 8, weight: 15- passenger car\n"
     ]
    }
   ],
   "source": [
    "weight_of_products= [10, 42.4, 240.1, 101.5, 98, 0.4, 0.3, 15]\n",
    "max_weight=100\n",
    "N=len(weight_of_products)\n",
    "for i in range(N):\n",
    "    if weight_of_products[i]<max_weight:\n",
    "        print('Product {}, weight: {}- passenger car'.format(i+1,weight_of_products[i]))\n",
    "    else:\n",
    "        print('Product {}, weight: {}- truck'.format(i+1,weight_of_products[i]))\n",
    "    num+=1"
   ]
  },
  {
   "attachments": {},
   "cell_type": "markdown",
   "metadata": {},
   "source": [
    "ЗАДАЧА №4"
   ]
  },
  {
   "cell_type": "code",
   "execution_count": null,
   "metadata": {},
   "outputs": [
    {
     "name": "stdout",
     "output_type": "stream",
     "text": [
      "['Red Square', 'Swallow Nest', 'Unavailable', 'Unavailable', 'Unavailable', 'Hermitage']\n"
     ]
    }
   ],
   "source": [
    "places = [\n",
    "    'Red Square',\n",
    "    'Swallow Nest',\n",
    "    'Niagara Falls',\n",
    "    'Grand Canyon',\n",
    "    'Louvre',\n",
    "    'Hermitage'\n",
    "]\n",
    "location = {\n",
    "    'Red Square': 'Russia',\n",
    "    'Swallow Nest': 'Russia',\n",
    "    'Niagara Falls': 'USA',\n",
    "    'Grand Canyon': 'USA',\n",
    "    'Louvre': 'France',\n",
    "    'Hermitage': 'Russia'\n",
    "}\n",
    "N=len(places)\n",
    "for i in range(N):\n",
    "    country=location[places[i]]\n",
    "    #print(country)\n",
    "    if country !='Russia':\n",
    "        places[i]='Unavailable'\n",
    "print(places)"
   ]
  },
  {
   "cell_type": "code",
   "execution_count": null,
   "metadata": {},
   "outputs": [
    {
     "name": "stdout",
     "output_type": "stream",
     "text": [
      "[0, 1, 4, 9, 16, 25, 36, 49, 64, 81]\n"
     ]
    }
   ],
   "source": [
    "my_list = []\n",
    "for number in range(0, 10):\n",
    "    my_list.append(number**2)\n",
    "print(my_list)"
   ]
  },
  {
   "cell_type": "code",
   "execution_count": null,
   "metadata": {},
   "outputs": [
    {
     "name": "stdout",
     "output_type": "stream",
     "text": [
      "[1, 2, 4, 8, 16, 32, 64, 128, 256, 512, 1024]\n"
     ]
    }
   ],
   "source": [
    "my_list = [1]\n",
    "for i in range(10):\n",
    "    my_list.append(my_list[i] * 2)\n",
    "print(my_list)"
   ]
  },
  {
   "attachments": {},
   "cell_type": "markdown",
   "metadata": {},
   "source": [
    "Задание 2.9 (External resource)"
   ]
  },
  {
   "cell_type": "code",
   "execution_count": null,
   "metadata": {},
   "outputs": [
    {
     "name": "stdout",
     "output_type": "stream",
     "text": [
      "element 0: -5\n",
      "element 1: 1\n",
      "element 2: 3\n",
      "element 3: 10\n"
     ]
    }
   ],
   "source": [
    "num_list = [1, 10, 3, -5]\n",
    "num_list.sort()\n",
    "N=len(num_list)\n",
    "for i in range(N):\n",
    "    print('element {}: {}'.format(i,num_list[i]))"
   ]
  },
  {
   "attachments": {},
   "cell_type": "markdown",
   "metadata": {},
   "source": [
    "Задание 2.10 (External resource)"
   ]
  },
  {
   "cell_type": "code",
   "execution_count": null,
   "metadata": {},
   "outputs": [
    {
     "name": "stdout",
     "output_type": "stream",
     "text": [
      "17\n"
     ]
    }
   ],
   "source": [
    "num_list = list(range(0, 100, 3))\n",
    "count_even=0\n",
    "N=len(num_list)\n",
    "for i in range(N):\n",
    "    if num_list[i]%2==0:\n",
    "        count_even+=1 \n",
    "print (count_even)\n"
   ]
  },
  {
   "cell_type": "code",
   "execution_count": null,
   "metadata": {},
   "outputs": [
    {
     "name": "stdout",
     "output_type": "stream",
     "text": [
      "17\n"
     ]
    }
   ],
   "source": [
    "num_list = list(range(0, 100, 3))\n",
    "count_even=0\n",
    "for i in num_list:\n",
    "    if i % 2 == 0:\n",
    "        count_even += 1\n",
    "print (count_even)"
   ]
  },
  {
   "attachments": {},
   "cell_type": "markdown",
   "metadata": {},
   "source": [
    "Задание 2.11 (External resource)"
   ]
  },
  {
   "cell_type": "code",
   "execution_count": null,
   "metadata": {},
   "outputs": [
    {
     "name": "stdout",
     "output_type": "stream",
     "text": [
      "3\n"
     ]
    }
   ],
   "source": [
    "mixture_list = [True, 1, -10, 'hello', False, 'string_1', 123, 2.5, [1, 2], 'another'] \n",
    "count_str=0\n",
    "for i in mixture_list:\n",
    "    if type(i)==str:\n",
    "        count_str+=1\n",
    "print(count_str)\n",
    "        \n",
    "## count_str = 3"
   ]
  },
  {
   "cell_type": "code",
   "execution_count": null,
   "metadata": {},
   "outputs": [
    {
     "name": "stdout",
     "output_type": "stream",
     "text": [
      "3\n"
     ]
    }
   ],
   "source": [
    "mixture_list = [True, 1, -10, 'hello', False, 'string_1', 123, 2.5, [1, 2], 'another'] \n",
    "count_str=0\n",
    "N=len(mixture_list)\n",
    "for i in range(N):\n",
    "    if type(mixture_list[i])== str:\n",
    "        count_str+=1\n",
    "print(count_str)\n",
    "\n",
    "        "
   ]
  },
  {
   "attachments": {},
   "cell_type": "markdown",
   "metadata": {},
   "source": [
    "Задание 2.12 (External resource)"
   ]
  },
  {
   "cell_type": "code",
   "execution_count": null,
   "metadata": {},
   "outputs": [],
   "source": [
    "word_list = [\"My\", \"name\", \"is\", \"Sergei\", \"EOS\", \"I'm\", \"from\", \"Moscow\", \"EOS\"]\n",
    "\n",
    "## text = \"My name is Sergei. I'm from Moscow.\""
   ]
  },
  {
   "cell_type": "code",
   "execution_count": null,
   "metadata": {},
   "outputs": [
    {
     "name": "stdout",
     "output_type": "stream",
     "text": [
      "['b', 'c', 'd', 'e']\n",
      "['c', 'd', 'e']\n",
      "['d', 'e']\n",
      "['e']\n",
      "Result ['e']\n"
     ]
    }
   ],
   "source": [
    "lst = ['a', 'b', 'c', 'd', 'e']\n",
    "while len(lst) > 1:\n",
    "    lst.pop(0)\n",
    "    print(lst)\n",
    "print('Result',lst)"
   ]
  },
  {
   "cell_type": "code",
   "execution_count": null,
   "metadata": {},
   "outputs": [
    {
     "name": "stdout",
     "output_type": "stream",
     "text": [
      "17\n"
     ]
    }
   ],
   "source": [
    "x=21\n",
    "y=55\n",
    "count=0\n",
    "while x<y:\n",
    "    x+=2\n",
    "    count+=1\n",
    "print(count)\n",
    "        "
   ]
  },
  {
   "cell_type": "code",
   "execution_count": null,
   "metadata": {},
   "outputs": [],
   "source": [
    "weight = 67\n",
    "max_weight=400\n",
    "S=0\n",
    "while S<max_weight:\n",
    "    S+=weight\n",
    "    print('Current sum weight',S)\n",
    "print()\n",
    "\n",
    "print('Overweight {} kg',format(S-max_weight))\n",
    "\n",
    "#Overweight N kg\n"
   ]
  },
  {
   "cell_type": "code",
   "execution_count": null,
   "metadata": {},
   "outputs": [],
   "source": [
    "s=0\n",
    "n=1\n",
    "while s<500:\n",
    "    S+=n\n",
    "    n+=1\n",
    "    print (\"Still counting...\")\n",
    "print(n)\n",
    "print() \n",
    "print(\"Sum is: \", S) \n",
    "print(\"Numbers total: \", n-1)"
   ]
  },
  {
   "attachments": {},
   "cell_type": "markdown",
   "metadata": {},
   "source": [
    "Задание 3.3 (External resource)"
   ]
  },
  {
   "cell_type": "code",
   "execution_count": null,
   "metadata": {},
   "outputs": [
    {
     "name": "stdout",
     "output_type": "stream",
     "text": [
      "4\n"
     ]
    }
   ],
   "source": [
    "value = 10\n",
    "number=0\n",
    "n=1\n",
    "while number<value:\n",
    "    number=n**2\n",
    "    n+=1\n",
    "number=n-1\n",
    "print(number) \n",
    "## number = 4"
   ]
  },
  {
   "cell_type": "code",
   "execution_count": null,
   "metadata": {},
   "outputs": [
    {
     "name": "stdout",
     "output_type": "stream",
     "text": [
      "Welcome\n"
     ]
    }
   ],
   "source": [
    "secret_passwords = {\n",
    "    'Enot': 'ulybaka',\n",
    "    'Agent12': '1password1',\n",
    "    'MouseLulu': 'myshkanaruhka'\n",
    "}\n",
    "while True:\n",
    "    name=input('Enter your name:')\n",
    "    if name in secret_passwords:\n",
    "        password=input('Enter your password:')\n",
    "        if password==secret_passwords[name]:\n",
    "            print('Welcome')\n",
    "            break\n",
    "        else:\n",
    "            print('Wrong password')\n",
    "    else:\n",
    "        print('Wrong name')\n",
    "\n"
   ]
  },
  {
   "attachments": {},
   "cell_type": "markdown",
   "metadata": {},
   "source": [
    "Задание 3.4 (External resource)"
   ]
  },
  {
   "cell_type": "code",
   "execution_count": null,
   "metadata": {},
   "outputs": [
    {
     "name": "stdout",
     "output_type": "stream",
     "text": [
      "Required number 22661891\n"
     ]
    }
   ],
   "source": [
    "value = 513561327849897\n",
    "number=1\n",
    "while True:\n",
    "    if number**2>value:\n",
    "        print('Required number',number-1)\n",
    "        break\n",
    "    else:\n",
    "        number+=1\n",
    "#print(number)\n",
    "## number = 4"
   ]
  },
  {
   "attachments": {},
   "cell_type": "markdown",
   "metadata": {},
   "source": [
    "Задание 3.8 (External resource)"
   ]
  },
  {
   "cell_type": "code",
   "execution_count": null,
   "metadata": {},
   "outputs": [
    {
     "name": "stdout",
     "output_type": "stream",
     "text": [
      "Hello\n",
      "Hello\n",
      "Hello\n"
     ]
    }
   ],
   "source": [
    "n=3\n",
    "i = 0\n",
    "while i < n:\n",
    "    i+=1\n",
    "    print('Hello')\n",
    "## Hello\n",
    "## Hello\n",
    "## Hello"
   ]
  },
  {
   "attachments": {},
   "cell_type": "markdown",
   "metadata": {},
   "source": [
    "Задание 3.9 (External resource)"
   ]
  },
  {
   "cell_type": "code",
   "execution_count": null,
   "metadata": {},
   "outputs": [
    {
     "name": "stdout",
     "output_type": "stream",
     "text": [
      "10\n"
     ]
    }
   ],
   "source": [
    "n=10\n",
    "x = 1\n",
    "while x ** 2 % n != 0:\n",
    "    x += 1\n",
    "print(x)"
   ]
  },
  {
   "attachments": {},
   "cell_type": "markdown",
   "metadata": {},
   "source": [
    "Задание 3.10 (External resource)"
   ]
  },
  {
   "cell_type": "code",
   "execution_count": null,
   "metadata": {},
   "outputs": [
    {
     "name": "stdout",
     "output_type": "stream",
     "text": [
      "5040\n"
     ]
    }
   ],
   "source": [
    "n = 1\n",
    "p = 1 # не ноль, так как произведение будет равно нулю постоянно\n",
    "# Создаём цикл, который будет выполняться, пока произведение не превысит value.\n",
    "while p < value: #делай, пока...\n",
    "    # Умножаем произведение на текущее натуральное число\n",
    "    p =p*n\n",
    "    # Увеличиваем натуральное число на 1\n",
    "    n =n+1\n",
    "print(p)"
   ]
  },
  {
   "attachments": {},
   "cell_type": "markdown",
   "metadata": {},
   "source": [
    "Задание 3.11 (External resource)"
   ]
  },
  {
   "cell_type": "code",
   "execution_count": null,
   "metadata": {},
   "outputs": [],
   "source": [
    "money = 8000\n",
    "target_money = 15000\n",
    "year_count=0\n",
    "p=8\n",
    "while target_money > money:\n",
    "    money*=1+p/100\n",
    "    print(money)\n",
    "    year_count+=1\n",
    "print(year_count)"
   ]
  },
  {
   "attachments": {},
   "cell_type": "markdown",
   "metadata": {},
   "source": [
    "Задание 3.12 (External resource)"
   ]
  },
  {
   "cell_type": "code",
   "execution_count": null,
   "metadata": {},
   "outputs": [
    {
     "name": "stdout",
     "output_type": "stream",
     "text": [
      "7\n"
     ]
    }
   ],
   "source": [
    "health = 500\n",
    "damage = 80\n",
    "seconds_num=0\n",
    "damage_num=0\n",
    "while damage_num<health:\n",
    "    damage_num=damage*seconds_num\n",
    "    seconds_num+=1\n",
    "print(seconds_num-1)\n",
    "## seconds_num = 7"
   ]
  },
  {
   "cell_type": "code",
   "execution_count": null,
   "metadata": {},
   "outputs": [],
   "source": [
    "temperature=[[13, 15, 10], [14, 13, 9], [8, 9, 6]]\n",
    "print(temperature[0][0])\n",
    "print(temperature[0][2])#Первая строка, третий столбец \n",
    "print(temperature[1][1])#Вторая строка, второй столбец\n",
    "print(temperature[2][0])#Третья строка, первый столбец"
   ]
  },
  {
   "cell_type": "code",
   "execution_count": null,
   "metadata": {},
   "outputs": [
    {
     "name": "stdout",
     "output_type": "stream",
     "text": [
      "Current row [1, 2]\n",
      "Current elem 1\n",
      "Current elem 2\n",
      "Current row [3, 4]\n",
      "Current elem 3\n",
      "Current elem 4\n",
      "Current row [5, 6]\n",
      "Current elem 5\n",
      "Current elem 6\n"
     ]
    }
   ],
   "source": [
    "matrix = [[1, 2],[3, 4],[5, 6]]\n",
    "for row in matrix:\n",
    "    print('Current row',row)\n",
    "    for elem in row:\n",
    "        print('Current elem',elem)"
   ]
  },
  {
   "cell_type": "code",
   "execution_count": null,
   "metadata": {},
   "outputs": [
    {
     "name": "stdout",
     "output_type": "stream",
     "text": [
      "Current i 0\n",
      "Current row [1, 2]\n",
      "Current j 0\n",
      "Current row 1\n",
      "Current j 1\n",
      "Current row 2\n",
      "\n",
      "Current i 1\n",
      "Current row [3, 4]\n",
      "Current j 0\n",
      "Current row 3\n",
      "Current j 1\n",
      "Current row 4\n",
      "\n",
      "Current i 2\n",
      "Current row [5, 6]\n",
      "Current j 0\n",
      "Current row 5\n",
      "Current j 1\n",
      "Current row 6\n",
      "\n"
     ]
    }
   ],
   "source": [
    "matrix = [[1, 2],[3, 4],[5, 6]]\n",
    "N = len(matrix)\n",
    "M = len(matrix[0])\n",
    "for i in range(N): \n",
    "    print('Current i', i) \n",
    "    print('Current row', matrix[i])\n",
    "    for j in range(M):\n",
    "        print('Current j', j) \n",
    "        print('Current row', matrix[i][j])\n",
    "    print()\n",
    "        \n",
    "    "
   ]
  },
  {
   "attachments": {},
   "cell_type": "markdown",
   "metadata": {},
   "source": [
    "ЗАДАЧА №1"
   ]
  },
  {
   "cell_type": "code",
   "execution_count": null,
   "metadata": {},
   "outputs": [
    {
     "name": "stdout",
     "output_type": "stream",
     "text": [
      "Alarm is set 10:0\n",
      "Alarm is set 10:30\n",
      "Alarm is set 15:0\n",
      "Alarm is set 15:30\n",
      "Alarm is set 20:0\n",
      "Alarm is set 20:30\n"
     ]
    }
   ],
   "source": [
    "hours = list(range(10, 24, 5))\n",
    "minutes = list(range(0, 60, 30))\n",
    "for hour in hours:\n",
    "    for minute in minutes:\n",
    "        print('Alarm is set {}:{}'.format(hour,minute))"
   ]
  },
  {
   "cell_type": "code",
   "execution_count": null,
   "metadata": {},
   "outputs": [],
   "source": [
    "hours = list(range(9, 24, 2))\n",
    "minutes = list(range(0, 60, 15))\n",
    "for hour in hours:\n",
    "    for minute in minutes:\n",
    "        print('Alarm is set {}:{}'.format(hour,minute))"
   ]
  },
  {
   "cell_type": "code",
   "execution_count": null,
   "metadata": {},
   "outputs": [],
   "source": [
    "simple_string = \"simple string\"\n",
    "for s in simple_string:\n",
    "    print(s)"
   ]
  },
  {
   "attachments": {},
   "cell_type": "markdown",
   "metadata": {},
   "source": [
    "ЗАДАЧА №2\n",
    "Условие задачи. Дан список строк str_list = ['text', 'morning', 'notepad', 'television', 'ornament']. Необходимо подсчитать, сколько всего раз во всех строках списка встречается буква 'e'."
   ]
  },
  {
   "cell_type": "code",
   "execution_count": null,
   "metadata": {},
   "outputs": [
    {
     "name": "stdout",
     "output_type": "stream",
     "text": [
      "5\n"
     ]
    }
   ],
   "source": [
    "str_list = ['text', 'morning', 'notepad', 'television', 'ornament']\n",
    "count=0\n",
    "for text in str_list:\n",
    "    for symbol in text:\n",
    "        if symbol =='e':\n",
    "            count+=1\n",
    "print(count)"
   ]
  },
  {
   "cell_type": "code",
   "execution_count": null,
   "metadata": {},
   "outputs": [
    {
     "name": "stdout",
     "output_type": "stream",
     "text": [
      "Count symbol 'e': 5\n"
     ]
    }
   ],
   "source": [
    "str_list = ['text', 'morning', 'notepad', 'television', 'ornament']\n",
    "count = 0 \n",
    "for text in str_list:\n",
    "    count += text.count('e') \n",
    "print(\"Count symbol 'e':\", count) "
   ]
  },
  {
   "cell_type": "code",
   "execution_count": null,
   "metadata": {},
   "outputs": [
    {
     "name": "stdout",
     "output_type": "stream",
     "text": [
      "Current number symbol \"a\": 10\n"
     ]
    }
   ],
   "source": [
    "text_list = ['afbaad','faaf','afaga','agag']\n",
    "count=0\n",
    "for text in text_list:\n",
    "    for symbol in text:\n",
    "        if symbol=='a':\n",
    "            count+=1\n",
    "print('Current number symbol \"a\":', count)"
   ]
  },
  {
   "cell_type": "code",
   "execution_count": null,
   "metadata": {},
   "outputs": [],
   "source": [
    "row = [9, 2, 1]\n",
    "# Начальное значение кандидата на минимум\n",
    "min_value = row[0] \n",
    "# Создаём цикл по элементам списка row\n",
    "for elem in row: # elem — текущий элемент из списка row\n",
    "    # Проверяем условие, что текущий элемент меньше кандидата на минимум.\n",
    "    if elem < min_value: \n",
    "        # Если условие выполняется, заменяем кандидата на минимум.\n",
    "        min_value = elem\n",
    "        #print(min_value)  \n",
    "# Выводим результат\n",
    "print('Min value in row:', min_value)"
   ]
  },
  {
   "cell_type": "code",
   "execution_count": null,
   "metadata": {},
   "outputs": [
    {
     "name": "stdout",
     "output_type": "stream",
     "text": [
      "Minimal elements: [1, 2, 4]\n"
     ]
    }
   ],
   "source": [
    "random_matrix = [\n",
    "    [9, 2, 1],\n",
    "    [2, 5, 3],\n",
    "    [4, 8, 5]\n",
    "]\n",
    "min_value_rows = []\n",
    "for row in random_matrix:\n",
    "    min_value = row[0] \n",
    "# Создаём цикл по элементам списка row\n",
    "    for elem in row: # elem — текущий элемент из списка row\n",
    "    # Проверяем условие, что текущий элемент меньше кандидата на минимум.\n",
    "        if elem < min_value: \n",
    "        # Если условие выполняется, заменяем кандидата на минимум.\n",
    "            min_value = elem\n",
    "        #print(min_value)\n",
    "    min_value_rows.append(min_value)\n",
    "print(\"Minimal elements:\", min_value_rows)  \n",
    "\n",
    "    "
   ]
  },
  {
   "attachments": {},
   "cell_type": "markdown",
   "metadata": {},
   "source": [
    "Задание 4.4"
   ]
  },
  {
   "cell_type": "code",
   "execution_count": null,
   "metadata": {},
   "outputs": [
    {
     "name": "stdout",
     "output_type": "stream",
     "text": [
      "Maximal elements: [9, 5, 8]\n"
     ]
    }
   ],
   "source": [
    "random_matrix = [\n",
    "    [9, 2, 1],\n",
    "    [2, 5, 3],\n",
    "    [4, 8, 5]\n",
    "]\n",
    "max_value_rows = []\n",
    "for row in random_matrix:\n",
    "    max_value = row[0] \n",
    "# Создаём цикл по элементам списка row\n",
    "    for elem in row: # elem — текущий элемент из списка row\n",
    "    # Проверяем условие, что текущий элемент меньше кандидата на минимум.\n",
    "        if elem > max_value: \n",
    "        # Если условие выполняется, заменяем кандидата на минимум.\n",
    "            max_value = elem\n",
    "        #print(min_value)\n",
    "    max_value_rows.append(max_value)\n",
    "print(\"Maximal elements:\", max_value_rows)  "
   ]
  },
  {
   "cell_type": "code",
   "execution_count": null,
   "metadata": {},
   "outputs": [
    {
     "name": "stdout",
     "output_type": "stream",
     "text": [
      "Average math score 76.6\n",
      "Average info score 64.8\n",
      "Average rus score 82.2\n",
      "Average score 74.53333333333333\n"
     ]
    }
   ],
   "source": [
    "student_scores = [\n",
    "    [56, 90, 80],\n",
    "    [80, 86, 92],\n",
    "    [91, 76, 89],\n",
    "    [91, 42, 60],\n",
    "    [65, 30, 90]\n",
    "]\n",
    "N = len(student_scores) # Задаём число студентов\n",
    "M = len(student_scores[0]) # Задаём число экзаменов\n",
    "#print(N,M)\n",
    "summa=0\n",
    "math_sum=0\n",
    "info_sum=0\n",
    "rus_sum=0\n",
    "for i in range(N): # i — индекс строки\n",
    "    # Добавляем баллы по математике i-го студента\n",
    "    math_sum += student_scores[i][0]\n",
    "    # Добавляем баллы по информатике i-го студента \n",
    "    info_sum += student_scores[i][1]\n",
    "    # Добавляем баллы по русскому языку i-го студента \n",
    "    rus_sum += student_scores[i][2]\n",
    "    #print(math_sum)\n",
    "    #print(info_sum)\n",
    "    #print(rus_sum)\n",
    "    # Создаём цикл по последовательности от 0 до M (не включая M)\n",
    "    for j in range(M): # j — индекс столбца\n",
    "        # Добавляем баллы i-го студента по j-му экзамену\n",
    "        summa += student_scores[i][j]\n",
    "        #print(summa)\n",
    "# Выводим средний балл по математике \n",
    "print('Average math score', math_sum / N) \n",
    "# Выводим средний балл по информатике\n",
    "print('Average info score', info_sum / N) \n",
    "# Выводим средний балл по русскому языку\n",
    "print('Average rus score', rus_sum / N)\n",
    "# Выводим общий средний балл \n",
    "print('Average score', summa /(N*M))\n"
   ]
  },
  {
   "attachments": {},
   "cell_type": "markdown",
   "metadata": {},
   "source": [
    "Задание 4.8 (External resource)"
   ]
  },
  {
   "cell_type": "code",
   "execution_count": null,
   "metadata": {},
   "outputs": [
    {
     "name": "stdout",
     "output_type": "stream",
     "text": [
      "False\n"
     ]
    }
   ],
   "source": [
    "test_matrix = [\n",
    "    [1, 2, 3],\n",
    "    [7, -1, 2],\n",
    "    [123, 2, -1],\n",
    "    [123, 5, 1]\n",
    "]\n",
    "num_lines = len(test_matrix)# число строк в матрицы\n",
    "count=0 #задаем начальное количество строк, длинна которых совпадает с числом строк в матрице\n",
    "for line in test_matrix:\n",
    "    if len(line)==num_lines:\n",
    "        count+=1\n",
    "is_square= num_lines==count\n",
    "print(is_square) \n"
   ]
  },
  {
   "attachments": {},
   "cell_type": "markdown",
   "metadata": {},
   "source": [
    "Задание 4.9 (External resource)"
   ]
  },
  {
   "cell_type": "code",
   "execution_count": null,
   "metadata": {},
   "outputs": [],
   "source": [
    "temp = [[25, 27, 28, 26, 27, -26, -25, -2, 26], [21, 22, 28, 27, 28, 26, 25, 19, 26], [-19, 21, 25, -27, 28, 25, 21, 20, 26]]\n",
    "for i in range(len(temp)):\n",
    "    row = temp[i]\n",
    "    #print (row)\n",
    "    for j in range(len(row)):\n",
    "        if temp[i][j]<0:\n",
    "            #print(temp[i][j])\n",
    "            temp[i][j]*=-1\n",
    "print (temp)"
   ]
  },
  {
   "cell_type": "code",
   "execution_count": null,
   "metadata": {},
   "outputs": [],
   "source": [
    "user_dynamics = [-5, 2, 4, 8, 12, -7, 5]\n",
    "for i in range (len(user_dynamics)):\n",
    "    print('Day{}:{}'.format(i+1,user_dynamics[i]))\n",
    "#\"Day 1: -5\""
   ]
  },
  {
   "cell_type": "code",
   "execution_count": null,
   "metadata": {},
   "outputs": [],
   "source": [
    "my_list = [5, 9, 13]\n",
    "# Создаём цикл одновременно по индексам и элементам списка\n",
    "for index, value in enumerate(my_list):\n",
    "    # Выводим индекс и значение\n",
    "    print(index, value)"
   ]
  },
  {
   "cell_type": "code",
   "execution_count": null,
   "metadata": {},
   "outputs": [],
   "source": [
    "user_dynamics = [-5, 2, 4, 8, 12, -7, 5]\n",
    "for i,dynamics in enumerate(user_dynamics):\n",
    "    print('Day{}:{}'.format(i+1,user_dynamics[i]))"
   ]
  },
  {
   "cell_type": "code",
   "execution_count": null,
   "metadata": {},
   "outputs": [
    {
     "name": "stdout",
     "output_type": "stream",
     "text": [
      "Churn value -5 in 1 day\n",
      "Churn value -7 in 6 day\n"
     ]
    }
   ],
   "source": [
    "user_dynamics = [-5, 2, 4, 8, 12, -7, 5]\n",
    "for index,value in enumerate(user_dynamics):\n",
    "    #print(index+1, value)\n",
    "    if value<0:\n",
    "        print(\"Churn value {} in {} day\".format(value,index+1))\n"
   ]
  },
  {
   "cell_type": "code",
   "execution_count": null,
   "metadata": {},
   "outputs": [
    {
     "name": "stdout",
     "output_type": "stream",
     "text": [
      "1 -5\n",
      "2 2\n",
      "3 4\n",
      "4 8\n",
      "5 12\n",
      "6 -7\n",
      "7 5\n"
     ]
    }
   ],
   "source": [
    "user_dynamics = [-5, 2, 4, 8, 12, -7, 5]\n",
    "for index,value in enumerate(user_dynamics):\n",
    "    print(index+1, value)"
   ]
  },
  {
   "attachments": {},
   "cell_type": "markdown",
   "metadata": {},
   "source": [
    "Задание 5.4 (External resource)"
   ]
  },
  {
   "cell_type": "code",
   "execution_count": null,
   "metadata": {},
   "outputs": [
    {
     "name": "stdout",
     "output_type": "stream",
     "text": [
      "[[0, 'Hel'], [1, 'my'], [2, 'nam'], [3, 'is'], [4, 'Eze'], [5, 'I'], [6, 'lik'], [7, 'kni']]\n"
     ]
    }
   ],
   "source": [
    "str_list = ['Hello', 'my', 'name', 'is', 'Ezeikel', 'I', 'like', 'knitting']\n",
    "cut_str_list=[]\n",
    "for index,value in enumerate(str_list):\n",
    "    cut_str_list.append([index,value[:3]])\n",
    "print(cut_str_list)\n",
    "    \n",
    "    \n"
   ]
  },
  {
   "cell_type": "code",
   "execution_count": null,
   "metadata": {},
   "outputs": [
    {
     "name": "stdout",
     "output_type": "stream",
     "text": [
      "[]\n"
     ]
    }
   ],
   "source": [
    "to_inventory = ['Blood Moon Sword', 'Sunset-colored sword', 'Bow of Stars', 'Gain Stone']\n",
    "inventory=[]\n",
    "for item in inventory:\n",
    "    if len(inventory)==3:\n",
    "        print(\"Inventory is full!\")\n",
    "        break\n",
    "    else:\n",
    "        inventory.append(item)\n",
    "print(inventory)\n"
   ]
  },
  {
   "cell_type": "code",
   "execution_count": null,
   "metadata": {},
   "outputs": [
    {
     "name": "stdout",
     "output_type": "stream",
     "text": [
      "n - is the power of the number 3!\n"
     ]
    }
   ],
   "source": [
    "n=27\n",
    "while True:\n",
    "    if n%3==0:\n",
    "        n=n//3\n",
    "        if n==1:\n",
    "            print('n - is the power of the number 3!')\n",
    "            break\n",
    "    else:\n",
    "        print('n - is not the power of the number 3!') \n",
    "        # Выходим из цикла\n",
    "        break\n",
    "        "
   ]
  },
  {
   "attachments": {},
   "cell_type": "markdown",
   "metadata": {},
   "source": [
    "Задание 5.7 (External resource)"
   ]
  },
  {
   "cell_type": "code",
   "execution_count": null,
   "metadata": {},
   "outputs": [
    {
     "name": "stdout",
     "output_type": "stream",
     "text": [
      "Syracuse hypothesis holds for number 19\n"
     ]
    }
   ],
   "source": [
    "n = 19\n",
    "origin =n\n",
    "while True:\n",
    "    if n % 2 == 0:\n",
    "        n=n/2\n",
    "    #если число чётное,\n",
    "    #делим его на 2\n",
    "    else: \n",
    "        n=(n*3+1)//2\n",
    "    if n==1:\n",
    "        print('Syracuse hypothesis holds for number {}'.format(origin))\n",
    "        break\n",
    "    #если число нечётное,\n",
    "    #умножаем его на 3, прибавляем 1 и делим на 2\n",
    "## Syracuse hypothesis holds for number 19"
   ]
  },
  {
   "cell_type": "code",
   "execution_count": null,
   "metadata": {},
   "outputs": [
    {
     "name": "stdout",
     "output_type": "stream",
     "text": [
      "Send present user 103303\n",
      "Send present user 100423\n"
     ]
    }
   ],
   "source": [
    "client_status = {\n",
    "    103303: 'yes', \n",
    "    103044: 'no',\n",
    "    100423: 'yes',\n",
    "    103032: 'no',\n",
    "    103902: 'no'\n",
    "}\n",
    "for user_id in client_status:\n",
    "    if client_status[user_id]=='no':\n",
    "        continue\n",
    "    else:\n",
    "        print('Send present user', user_id)\n",
    "    #print(user_id)\n",
    "#print(client_status[103044])"
   ]
  },
  {
   "attachments": {},
   "cell_type": "markdown",
   "metadata": {},
   "source": [
    "Задание 5.10 (External resource)"
   ]
  },
  {
   "cell_type": "code",
   "execution_count": null,
   "metadata": {},
   "outputs": [
    {
     "name": "stdout",
     "output_type": "stream",
     "text": [
      "4\n"
     ]
    }
   ],
   "source": [
    "mixture_dict = {'a': 15, 'b': 10.5, 'c': '15', 'd': 50, 'e': 15, 'f': '15'}\n",
    "count=0\n",
    "for index in mixture_dict:\n",
    "    if type(mixture_dict[index]) is str:\n",
    "        continue\n",
    "    else:\n",
    "        count+=1\n",
    "print(count)"
   ]
  },
  {
   "cell_type": "code",
   "execution_count": null,
   "metadata": {},
   "outputs": [
    {
     "name": "stdout",
     "output_type": "stream",
     "text": [
      "{'t': 88, 'h': 63, 'e': 112, 'r': 39, 'a': 70, 'b': 15, 'i': 47, '-': 2, 'o': 80, 'l': 55, 'w': 31, 'n': 57, 's': 60, 'g': 17, 'k': 14, 'u': 22, 'f': 28, 'm': 17, 'y': 18, ',': 13, 'd': 43, 'p': 23, 'c': 9, 'v': 8, '.': 5, 'x': 1, ';': 3, 'j': 2, '`': 3, \"'\": 5, ':': 1, '!': 4, '(': 1, ')': 1}\n"
     ]
    }
   ],
   "source": [
    "text = \"\"\"\n",
    "The rabbit-hole went straight on like a tunnel for some way, and then dipped suddenly down, so suddenly that Alice had not a moment to think about stopping herself before she found herself falling down a very deep well.\n",
    "Either the well was very deep, or she fell very slowly, for she had plenty of time as she went down to look about her and to wonder what was going to happen next. First, she tried to look down and make out what she was coming to, but it was too dark to see anything; then she looked at the sides of the well, and noticed that they were filled with cupboards and book-shelves; here and there she saw maps and pictures hung upon pegs. She took down a jar from one of the shelves as she passed; it was labelled `ORANGE MARMALADE', but to her great disappointment it was empty: she did not like to drop the jar for fear of killing somebody, so managed to put it into one of the cupboards as she fell past it.\n",
    "`Well!' thought Alice to herself, `after such a fall as this, I shall think nothing of tumbling down stairs! How brave they'll all think me at home! Why, I wouldn't say anything about it, even if I fell off the top of the house!' (Which was very likely true.)\n",
    "\"\"\"\n",
    "text=text.lower()\n",
    "text=text.replace(\" \",\"\")\n",
    "text=text.replace('\\n',\"\")\n",
    "#print(text)\n",
    "count_dict={}\n",
    "for symbol in text:\n",
    "    if symbol not in count_dict:\n",
    "        count_dict[symbol]=1\n",
    "    else:\n",
    "        count_dict[symbol]+=1\n",
    "print(count_dict)\n"
   ]
  },
  {
   "cell_type": "code",
   "execution_count": null,
   "metadata": {},
   "outputs": [
    {
     "name": "stdout",
     "output_type": "stream",
     "text": [
      "{',': 1, '.': 2, '?': 0, '!': 0, ';': 1, '—': 0}\n"
     ]
    }
   ],
   "source": [
    "text = \"\"\"\n",
    "She sells sea shells on the sea shore;\n",
    "The shells that she sells are sea shells I am sure.\n",
    "So if she sells sea shells on the sea shore,\n",
    "I am sure that the shells are sea shore shells.\n",
    "\"\"\"\n",
    "count_punctuation = {',': 0, '.': 0, '?': 0, '!': 0, ';': 0, '—': 0}\n",
    "for symbol in text:\n",
    "    if symbol in count_punctuation:\n",
    "        count_punctuation[symbol]+=1\n",
    "print(count_punctuation)\n",
    "        "
   ]
  },
  {
   "cell_type": "code",
   "execution_count": null,
   "metadata": {},
   "outputs": [
    {
     "name": "stdout",
     "output_type": "stream",
     "text": [
      "{'': 2, 'she': 3, 'sells': 3, 'sea': 6, 'shells': 6, 'on': 2, 'the': 4, 'shore': 3, 'that': 2, 'are': 2, 'i': 2, 'am': 2, 'sure': 2, 'so': 1, 'if': 1}\n"
     ]
    }
   ],
   "source": [
    "text = \"\"\"\n",
    "She sells sea shells on the sea shore;\n",
    "The shells that she sells are sea shells I am sure.\n",
    "So if she sells sea shells on the sea shore,\n",
    "I am sure that the shells are sea shore shells.\n",
    "\"\"\"\n",
    "text=text.lower()\n",
    "text=text.replace(\"\\n\",\" \")\n",
    "text=text.replace(\";\",\"\")\n",
    "text=text.replace(\".\",\"\")\n",
    "text=text.replace(\",\",\"\")\n",
    "#print(text)\n",
    "word_list=text.split(' ')\n",
    "count_dict = {}\n",
    "for word in word_list:\n",
    "    if word not in count_dict:\n",
    "        count_dict[word]=1\n",
    "    else:\n",
    "        count_dict[word]+=1\n",
    "print(count_dict)\n",
    "\n"
   ]
  },
  {
   "cell_type": "code",
   "execution_count": null,
   "metadata": {},
   "outputs": [],
   "source": [
    "sentence = 'A roboT MAY Not injure a humAn BEING or, tHROugh INACtion, allow a human BEING to come to harm.'\n",
    "sentence=sentence.lower()\n",
    "sentence.replace(\",\",\" \")\n",
    "sentence.replace(\".\",\" \")\n",
    "word_list=sentence.split(\" \")\n",
    "word_dict={}\n",
    "for word in word_list:\n",
    "    if word not in word_dict:\n",
    "        word_dict[word]=1\n",
    "    else:\n",
    "        word_dict[word]+=1\n",
    "print(word_dict)\n",
    "         \n"
   ]
  },
  {
   "attachments": {},
   "cell_type": "markdown",
   "metadata": {},
   "source": [
    "Задание 5.13 (External resource)"
   ]
  },
  {
   "cell_type": "code",
   "execution_count": null,
   "metadata": {},
   "outputs": [],
   "source": [
    "str_list = [\"text\", \"morning\", \"notepad\", \"television\", \"ornament\"]\n",
    "symbol_to_check='t'\n",
    "word_dict={}\n",
    "for word in str_list:\n",
    "    word_dict[word] = 0\n",
    "    for symbol in word:\n",
    "        if symbol == symbol_to_check:\n",
    "            word_dict[symbol]+=1\n",
    "print(word_dict)\n"
   ]
  },
  {
   "cell_type": "code",
   "execution_count": null,
   "metadata": {},
   "outputs": [],
   "source": [
    "str_list = [\"text\", \"morning\", \"notepad\", \"television\", \"ornament\"]\n",
    "symbol_to_check='t'\n",
    "word_dict = {}\n",
    "# Создаём внешний цикл по элементам списка\n",
    "for word in str_list:\n",
    "    # Заносим текущее слово в словарь со значением 0\n",
    "    word_dict[word] = 0\n",
    "    # Создаём внутренний цикл по символам в строке\n",
    "    for letter in word:\n",
    "        # Проверяем условие, что текущий символ в строке — это искомый символ\n",
    "        if letter == symbol_to_check:\n",
    "            # Если условие выполняется, увеличиваем количество символов в слове\n",
    "            word_dict[word] += 1\n",
    "print(word_dict)            "
   ]
  },
  {
   "cell_type": "code",
   "execution_count": null,
   "metadata": {},
   "outputs": [],
   "source": [
    "# Импортируем библиотеку для выполнения HTTP-запросов в интернет\n",
    "import requests\n",
    "# Читаем текстовый файл по url-ссылке\n",
    "data = requests.get(\"https://raw.githubusercontent.com/SkillfactoryDS/Datasets/master/war_peace_processed.txt\").text\n",
    "# Предобрабатываем текстовый файл\n",
    "data = data.split('\\n')\n",
    "data.remove('')\n",
    "data = data + ['[new chapter]']\n",
    "# Выводим первые 100 слов из книги\n",
    "#print(data[:100])\n",
    "# Превращаем список в множество, удаляя дублирующиеся слова\n",
    "word_set = set(data)\n",
    "# Удаляем из множества слово, символизирующее раздел между главами\n",
    "word_set.discard('[new chapter]')\n",
    "# Выводим результаты\n",
    "print('Общее количество слов: {}'.format(len(data)))\n",
    "print('Общее количество уникальных слов: {}'.format(len(word_set)))\n",
    "\n",
    "#Давайте напишем программу, которая посчитает частоту каждого слова. Для этого создадим словарь, ключами \n",
    "# которого будут являться слова, а значения - количество вхождений этого слова в текст произведения. \n",
    "# Заодно подсчитаем количество глав\n",
    "\n",
    "# Инициализируем пустой словарь\n",
    "word_counts = {}\n",
    "# Инициализируем количество глав\n",
    "count_chapter = 0\n",
    "# Создаем цикл по всем словам из списка слов\n",
    "for word in data:\n",
    "    # Проверяем, что текущее слово - обозначение новой главы\n",
    "    if word == '[new chapter]':\n",
    "        # Если условие выполняется, то увеличиваем количество глав на 1\n",
    "        count_chapter += 1\n",
    "        # Переходим на новую итерацию цикла\n",
    "        continue\n",
    "    # Проверяем, что текущего слова еще нет в словаре слов\n",
    "    if word not in word_counts:\n",
    "        # Если условие выполняется, инициализируем новый ключ 1\n",
    "        word_counts[word] = 1\n",
    "    else:\n",
    "        # В противном случае, увеличиваем количество слов на 1\n",
    "        word_counts[word] += 1\n",
    "# Выводим количество глав\n",
    "print('Количество глав: {}'.format(count_chapter))\n",
    "# Создаем цикл по ключам и их порядковым номерам полученного словаря\n",
    "for i, key in enumerate(word_counts):\n",
    "    # Выводим только первые 10 слов\n",
    "    if i == 10:\n",
    "        break\n",
    "    print(key, word_counts[key])\n",
    "\n",
    "# Разделим все слова на главы. Для этого создадим список, в котором будем хранить списки - \n",
    "# слова из определенной главы.\n",
    "\n",
    "# Инициализируем общий список, в котором будем хранить списки слов в каждой главе\n",
    "chapter_data = []\n",
    "# Инициализируем список слов, в котором будет хранить слова одной главы\n",
    "chapter_words = []\n",
    "# Создаем цикл по всем словам из списка\n",
    "for word in data:\n",
    "    # Проверяем, что текущее слово - обозначение новой главы\n",
    "    if word == '[new chapter]':\n",
    "        # Если условие выполняется, добавляем список со словами из главы в общий список\n",
    "        chapter_data.append(chapter_words)\n",
    "        # Обновляем (перезаписываем) список со словами из текущей главы\n",
    "        chapter_words = []\n",
    "    else:\n",
    "        # В противном случае, добавляем текущее слово в список со словами из главы\n",
    "        chapter_words.append(word)\n",
    "\n",
    "# Проверяем, что у нас получилось столько же списков, сколько глав в произведении\n",
    "#print('Вложенный список содержит {} внутренних списка'.format(len(chapter_data)))\n",
    "# Выведем первые 100 слов 0-ой главы\n",
    "#print(chapter_data[0][:100])\n",
    "#print(len(chapter_data[0]))# сколько слов всего в нулевой главе\n",
    "#print(len(chapter_data[1]))# сколько слов всего в первой главе\n",
    "print(len(chapter_data[2]))# сколько слов всего в второй главе\n",
    "#print(len(chapter_data[3]))# сколько слов всего в третьей главе\n",
    "\n",
    "#Подсчитаем, сколько раз каждое слово встречается в каждой из глав\n",
    "\n",
    "# Инициализируем список, в котором будем хранить словари\n",
    "chapter_words_count = []\n",
    "\n",
    "# Создаем цикл по элементам внешнего списка со словами\n",
    "for chapter_words in chapter_data:\n",
    "    # Инициализируем пустой словарь, куда будем добавлять результаты\n",
    "    temp = {}\n",
    "    # Создаем цикл по элементам внутреннего списка\n",
    "    for word in chapter_words:\n",
    "        # Проверяем, что текущего слова еще нет в словаре\n",
    "        if word not in temp:\n",
    "            # Если условие выполняется, добавляем ключ в словарь\n",
    "            temp[word] = 1\n",
    "        else:\n",
    "            # В противном случае, увеличиваем количество влождений слова в главу\n",
    "            temp[word] += 1\n",
    "    # Добавляем получившийся словарь в список\n",
    "    chapter_words_count.append(temp)\n",
    "# Выводим результат\n",
    "#print(chapter_words_count)\n",
    "# Создаем цикл по ключам словаря - спискам слов и их порядковым номерам\n",
    "for chapter_number, chapter_dict in enumerate(chapter_words_count):\n",
    "    # Выводим только первые 5 глав\n",
    "    if chapter_number == 5:\n",
    "        break\n",
    "    # Выводим номер главы\n",
    "    #print('-' * 40)\n",
    "    #print('Chapter: {}'.format(chapter_number))\n",
    "    #print('-' * 40)\n",
    "    # Создаем цикл по ключам - словам и их порядковым номерам\n",
    "    for j, word in enumerate(chapter_dict):\n",
    "        # Выводим первые 10 слов из главы\n",
    "        if j == 10:\n",
    "            break\n",
    "        #print(word, chapter_dict[word])"
   ]
  },
  {
   "cell_type": "code",
   "execution_count": null,
   "metadata": {},
   "outputs": [],
   "source": [
    "# Импортируем библиотеку для выполнения HTTP-запросов в интернет\n",
    "import requests\n",
    "# Читаем текстовый файл по url-ссылке\n",
    "data = requests.get(\"https://raw.githubusercontent.com/SkillfactoryDS/Datasets/master/war_peace_processed.txt\").text\n",
    "data = data.split('\\n') # удаляем переносы\n",
    "data.remove('')\n",
    "data=data+['[new chapter]']\n",
    "#print(data[:20])# вывод первых 20 слов из текста\n",
    "\n",
    "#НАХОДИМ ОБЩЕЕ КОЛИЧЕСТВО СЛОВ И КОЛИЧЕСТВО УНИКАЛЬНЫХ СЛОВ В ТЕКСТЕ\n",
    "word_set=set(data)# превращаем список во множество, при этом удаляются дублирующие слова\n",
    "word_set.discard('[new chapter]')# удаляем из множества слово символизирующее раздел между главами\n",
    "#print('Общее количество слов: {}'.format(len(data)))\n",
    "#print('Общее количество уникальных слов: {}'.format(len(word_set)))\n",
    "\n",
    "# НАПИШЕМ ПРОГРАММУ ДЛЯ ПОДСЧЕТА ЧАСТОТЫ КАЖДОГО СЛОВА ((((word_counts)))).\n",
    "# СОЗДАЕМ СЛОВАРЬ: КЛЮЧ=СЛОВА, ЗНАЧЕНИЯ = КОЛИЧЕСТВО СЛОВ В ТЕКСТЕ\n",
    "word_counts={} # создаем пустой словарь\n",
    "count_chapter=0 # счетчик количества глав\n",
    "for word in data: # создаем цикл по всем словам текста\n",
    "    if word == '[new chapter]': # проверяем, что текущее слово- обозначение новой главы\n",
    "        count_chapter += 1 # если условие выполняется увеличиваем счетчик количества глав на единицу\n",
    "        continue# переходим на новую итерацию цикла\n",
    "    if word not in word_counts: # проверяем что текущего слова нет в словаре\n",
    "        word_counts[word] = 1 # еслу условвие выполняется, то инициализируем новый ключ в словать, т.е. рассматриваемое на данной итереации слово.\n",
    "    else:\n",
    "        word_counts[word] += 1 # в противном случае увеличиваем значение на единицу.\n",
    "#print(('Количество глав: {}'.format(count_chapter)))\n",
    "#print(word_counts)\n",
    "for i, key in enumerate(word_counts): # создаем цикл по ключам и их порядковым номерам полученного словаря\n",
    "    if i == 10:# выводим только первые пять слов\n",
    "        break\n",
    "    #print (key,word_counts[key])\n",
    "    \n",
    "#РАЗДЕЛИМ ВСЕ СЛОВА НА ГЛАВЫ. СОЗДАДИМ СПИСОК В КОТОРОМ БУДУТ ХРАНИТЬСЯ СПИСКИ-СЛОВА ИЗ ОПРЕДЕЛЕННОЙ ГЛАВЫ\n",
    "chapter_data=[]# создаем общий список в котором будут храниться списки слов из каждой главы\n",
    "chapter_words=[]# создаем список слов, в котором будут храниться слова из ОДНОЙ главы\n",
    "for word in data: # создаем цикл по всем словам из списка\n",
    "    if word =='[new chapter]':# проверяем что текущее слово- обозначение новой главы\n",
    "        chapter_data.append(chapter_words) # если условие выполняется, добавляем список со словами из текущей главы\n",
    "        chapter_words=[]# обновляем (перезаписываем) список со словами из текщей главы\n",
    "    else:\n",
    "        chapter_words.append(word)# в противном случае, добавляем текущее слово в списо со словами из главы\n",
    "#print('Вложенный список содержит {} внутренних списка'.format(len(chapter_data)))# Проверяем, что у нас получилось столько же списков, сколько глав в произведении\n",
    "#print(chapter_words)\n",
    "#print(chapter_words[1])\n",
    "#print(chapter_words[2])\n",
    "#print(chapter_words[3])\n",
    "#print(chapter_data[0][:10])# Выведем первые 100 слов 0-ой главы\n",
    "#print(chapter_data[1][:10])# Выведем первые 100 слов 1-ой главы\n",
    "#print(chapter_data[2][:10])# Выведем первые 100 слов 2-ой главы\n",
    "#print(chapter_data[3][:10])# Выведем первые 100 слов 3-ой главы\n",
    "#print(len(chapter_data[0]))# количество слов в 0-ой главе\n",
    "#print(len(chapter_data[1]))# количество слов в 0-ой главе\n",
    "#print(len(chapter_data[2]))# количество слов в 0-ой главе\n",
    "#print(len(chapter_data[3]))# количество слов в 0-ой главе\n",
    "\n",
    "#ПОСЧИТАЕМ СКЛЬКО РАЗ КАЖДОЕ СЛОВО ВСТРЕЧАЕТСЯ В КАЖДОЙ ИЗ ГЛАВ\n",
    "chapter_words_count=[]# создаем список в котором будем хнранить словари\n",
    "for chapter_words in chapter_data: # создаем цикл по элементам внешнего списка со словами\n",
    "    temp={}#создаем пустой словарь куда будем заносить результаты\n",
    "    for word in chapter_words:# создаем цикл по элементам внутреннего списка\n",
    "        if word not in temp: # проверяем, что текущего слова еще нет в промежуточном словаре\n",
    "            temp[word]=1# если условие выполняется, добавляем ключ в словарь\n",
    "        else:\n",
    "            temp[word]+=1 # в противном случае увеличиваем количество вхождений слова в главу на единицу\n",
    "    chapter_words_count.append(temp) # добавляем получившийся словарь в список\n",
    "#print(chapter_words_count)\n",
    "#print(chapter_words_count[2]['первая'])\n"
   ]
  },
  {
   "cell_type": "code",
   "execution_count": null,
   "metadata": {},
   "outputs": [
    {
     "name": "stdout",
     "output_type": "stream",
     "text": [
      "Общее количество слов: 300080\n",
      "Общее количество уникальных слов: 38210\n"
     ]
    }
   ],
   "source": [
    "# Импортируем библиотеку для выполнения HTTP-запросов в интернет\n",
    "import requests\n",
    "\n",
    "# Читаем текстовый файл по url-ссылке\n",
    "data = requests.get(\"https://raw.githubusercontent.com/SkillfactoryDS/Datasets/master/war_peace_processed.txt\").text\n",
    "data = data.split('\\n')\n",
    "data.remove('')\n",
    "data = data + ['[new chapter]']\n",
    "#print(data[:10])\n",
    "# Превращаем список в множество, удаляя дублирующиеся слова\n",
    "word_set = set(data)\n",
    "# Удаляем из множества слово, символизирующее раздел между главами\n",
    "word_set.discard('[new chapter]')\n",
    "# Выводим результаты\n",
    "print('Общее количество слов: {}'.format(len(data)))\n",
    "print('Общее количество уникальных слов: {}'.format(len(word_set)))\n"
   ]
  },
  {
   "cell_type": "markdown",
   "metadata": {},
   "source": [
    "Давайте напишем программу, которая посчитает частоту каждого слова(word_counts). Для этого создадим словарь, ключами которого будут являться слова, а значения - количество вхождений этого слова в текст произведения. Заодно подсчитаем количество глав (count_chapter)"
   ]
  },
  {
   "cell_type": "code",
   "execution_count": null,
   "metadata": {},
   "outputs": [],
   "source": [
    "# Инициализируем пустой словарь\n",
    "word_counts = {}\n",
    "# Инициализируем количество глав\n",
    "count_chapter = 0\n",
    "# Создаем цикл по всем словам из списка слов\n",
    "for word in data:\n",
    "    if word == '[new chapter]':\n",
    "        # Если условие выполняется, то увеличиваем количество глав на 1\n",
    "        count_chapter += 1\n",
    "        # Переходим на новую итерацию цикла\n",
    "        continue\n",
    "    # Проверяем, что текущего слова еще нет в словаре слов\n",
    "    if word not in word_counts:\n",
    "        # Если условие выполняется, инициализируем новый ключ 1\n",
    "        word_counts[word] = 1\n",
    "    else:\n",
    "        # В противном случае, увеличиваем количество слов на 1\n",
    "        word_counts[word] += 1\n",
    "        # Выводим количество глав\n",
    "#print('Количество глав: {}'.format(count_chapter))\n",
    "#print(word_counts)\n",
    "\n",
    "#выводим на печать только певые десять!!!!\n",
    "# Создаем цикл по ключам и их порядковым номерам полученного словаря\n",
    "for i, key in enumerate(word_counts):\n",
    "    # Выводим только первые 10 слов\n",
    "    if i == 10:\n",
    "        break\n",
    "    #print(key, word_counts[key])\n",
    "    \n",
    "    \n"
   ]
  },
  {
   "cell_type": "markdown",
   "metadata": {},
   "source": [
    "Разделим все слова на главы. Для этого создадим список(chapter_data), в котором будем хранить списки - слова из определенной главы (chapter_words)."
   ]
  },
  {
   "cell_type": "code",
   "execution_count": null,
   "metadata": {},
   "outputs": [],
   "source": [
    "# Инициализируем общий список, в котором будем хранить списки слов в каждой главе\n",
    "chapter_data = []\n",
    "# Инициализируем список слов, в котором будет хранить слова одной главы\n",
    "chapter_words = []\n",
    "\n",
    "# Создаем цикл по всем словам из списка\n",
    "for word in data:\n",
    "    # проверяем что текущее слово- обозначение новой главы\n",
    "    if word == '[new chapter]':\n",
    "        # еслу условие выполняется - добавляем список со словами из главы в общий список\n",
    "        chapter_data.append(chapter_words)\n",
    "        # обновляем (перезаписываем) список со словами из текущей главы\n",
    "        chapter_words=[]\n",
    "    else:\n",
    "        # в противном случае добавляем текущее слово в список со словами главы\n",
    "        chapter_words.append(word)\n",
    "# Проверяем, что у нас получилось столько же списков, сколько глав в произведении\n",
    "#print('Вложенный список содержит {} внутренних списка'.format(len(chapter_data)))\n",
    "#print(chapter_data[0][:10])# Выведем первые 10 слов 0-ой главы\n",
    "#print(chapter_data[1][:10])# Выведем первые 10 слов 1-ой главы\n",
    "#print(chapter_data[2][:10])# Выведем первые 10 слов 2-ой главы\n",
    "#print(chapter_data[3][:10])# Выведем первые 10 слов 3-ой главы\n",
    "#print(chapter_data[4][:10])# Выведем первые 10 слов 4-ой главы\n",
    "#print(len(chapter_data[0]))"
   ]
  },
  {
   "cell_type": "markdown",
   "metadata": {},
   "source": [
    "Подсчитаем, сколько раз каждое слово встречается в каждой из глав(chapter_words_count)"
   ]
  },
  {
   "cell_type": "code",
   "execution_count": null,
   "metadata": {},
   "outputs": [],
   "source": [
    "# Инициализируем список, в котором будем хранить словари\n",
    "chapter_words_count = []\n",
    "\n",
    "# Создаем цикл по элементам внешнего списка со словами\n",
    "for chapter_words in chapter_data:\n",
    "    # Инициализируем пустой словарь, куда будем добавлять результаты\n",
    "    temp = {}\n",
    "    # Создаем цикл по элементам внутреннего списка\n",
    "    for word in chapter_words:\n",
    "        # Проверяем, что текущего слова еще нет в словаре\n",
    "        if word not in temp:\n",
    "            # Если условие выполняется, добавляем ключ в словарь\n",
    "            temp[word] = 1\n",
    "        else:\n",
    "            # В противном случае, увеличиваем количество влождений слова в главу\n",
    "            temp[word] += 1\n",
    "    # Добавляем получившийся словарь в список\n",
    "    chapter_words_count.append(temp)\n",
    "\n",
    "# Выводим результат\n",
    "print(chapter_words_count[0]['в'])\n",
    "print(chapter_words_count[15]['князю'])"
   ]
  },
  {
   "cell_type": "markdown",
   "metadata": {},
   "source": [
    "Задание 1."
   ]
  },
  {
   "cell_type": "code",
   "execution_count": null,
   "metadata": {},
   "outputs": [],
   "source": [
    "#ЗАДАНИЕ 1\n",
    "# НАПИШЕМ ПРОГРАММУ ДЛЯ ПОДСЧЕТА ЧАСТОТЫ КАЖДОГО СЛОВА ((((word_counts)))).\n",
    "# СОЗДАЕМ СЛОВАРЬ: КЛЮЧ=СЛОВА, ЗНАЧЕНИЯ = частота употребления этого слова в этой главе\n",
    "target_word = 'гостья'\n",
    "target_chapter = 15\n",
    "\n",
    "term_frequency_for_all_dict=[] # создаем пустой список в который будем вносить словари, в которых ключ- это слова главы, а значения частота употребления этого слова в данной главе.\n",
    "for chapter_number, words_in_chapter in enumerate(chapter_words_count):#  создаем цикл по главам и словам списка из словарей chapter_words_count полученного ранее.\n",
    "    temp={} # иницируем пустой словарь куда будем добавлять результаты\n",
    "    for i, j in enumerate(words_in_chapter):# создвем внутренний цикл по элементам словаря words_in_chapter\n",
    "        target_word_quantity=words_in_chapter[j]# получаем значения словаря (количество слов)\n",
    "        all_word_chapter_quantity=len(chapter_data[chapter_number])# получаем количество элементов словаря, как длинну списка\n",
    "        term_frequency=target_word_quantity/all_word_chapter_quantity #находим частоту употребления данного слова в данной главе\n",
    "        temp[j]=term_frequency#Вносим найденые значения в ранее созданный словарь\n",
    "    term_frequency_for_all_dict.append(temp)# Добавляем найденые словари в список\n",
    "print((term_frequency_for_all_dict[target_chapter][target_word]))#Выводим результат для целевого слова target_word и целевой главы target_chapter  \n"
   ]
  },
  {
   "cell_type": "markdown",
   "metadata": {},
   "source": [
    "Задание2 :\n",
    "\n",
    "Напишите программу, которая позволит вычислять document frequency для заданного слова target_word и выведить результат на экран.\n",
    "\n",
    "Дополнительное требование:\n",
    "\n",
    "Пострайтесь сделать программу максимально обобщенной. То есть желательно рассчитать характеристику df для всех уникальных слов из книги, чтобы впоследствии не было необходимости производить вычисления снова.\n",
    "\n",
    "Подсказка: Для этого вы можете создать словарь, ключами которого являются слова из книги, а значения - доля документов, содержащих эти слова\n",
    "\n",
    "Протестируйте работу программы на нескольких словах"
   ]
  },
  {
   "cell_type": "code",
   "execution_count": null,
   "metadata": {},
   "outputs": [],
   "source": [
    "#ЗАДАНИЕ 2\n",
    "#Напишите программу, которая позволит вычислять document frequency для заданного слова target_word \n",
    "# и выведить результат на экран.\n",
    "#Дополнительное требование:\n",
    "#Пострайтесь сделать программу максимально обобщенной. То есть желательно рассчитать характеристику df \n",
    "# для всех уникальных слов из книги, чтобы впоследствии не было необходимости производить вычисления снова.\n",
    "#Подсказка: Для этого вы можете создать словарь, ключами которого являются слова из книги, а значения - \n",
    "# доля документов, содержащих эти слова\n",
    "target_word = 'человек'\n",
    "word_quantity_dict={} #создаем пустой словарь\n",
    "for words in word_set: #создаем цил по словам ранне полученного множества word_set\n",
    "    quantity_word=0 # создаем счетчик слов во множестве word_set\n",
    "    for chapter, i in enumerate(chapter_words_count):# создаем цикл по главам и словам ранее полученного списка chapter_words_count\n",
    "        if words in chapter_words_count[chapter]:  # создаем условие : если слова есть в ключах словаря в списке  chapter_words_count\n",
    "            quantity_word+=1 # увеличиваем счетчик на единицу\n",
    "        else: # если условие не выполняется - пропускаем итерацию\n",
    "            pass\n",
    "    word_quantity_dict[words]=quantity_word # добавляем в пустой словарь у которого ключ= слово, значение равное количеству слов из счетчика\n",
    "document_frequency_all_dict={} # иницируем пустой словарь, ключи которого - слова из книги, а значения - доля докуметов, содержащих эти слова\n",
    "for words in word_quantity_dict:# создаем цикл для добавления в словарь значений\n",
    "    document_frequency_all_dict[words]=word_quantity_dict[words]/len(chapter_words_count) # находим значения (доля документов содержащих эти слова) словаря\n",
    "\n",
    "print(document_frequency_all_dict[target_word]) #печатаем на экран искомое значение  целевого слова target_word "
   ]
  },
  {
   "cell_type": "markdown",
   "metadata": {},
   "source": [
    "ЗАДАНИЕ 3\n",
    "Задание:\n",
    "\n",
    "Напишите программу, которая позволяет вычислять значение tf-idf для заданного слова target_word в заданной главе target_chapter.\n",
    "\n",
    "Дополнительное требование:\n",
    "\n",
    "Пострайтесь сделать программу максимально оптимальной. То есть желательно рассчитать характеристику tf-idf для всех слов из каждой главы книги, чтобы впоследствии не было необходимости производить вычисления снова."
   ]
  },
  {
   "cell_type": "code",
   "execution_count": null,
   "metadata": {},
   "outputs": [],
   "source": [
    "#ЗАДАНИЕ 3\n",
    "#Напишите программу, которая позволяет вычислять значение tf-idf для заданного слова target_word \n",
    "# в заданной главе target_chapter.\n",
    "#Дополнительное требование:\n",
    "#Пострайтесь сделать программу максимально оптимальной. То есть желательно рассчитать характеристику \n",
    "# tf-idf для всех слов из каждой главы книги, чтобы впоследствии не было необходимости производить вычисления снова.\n",
    "from math import log\n",
    "target_word = 'анна'\n",
    "target_chapter = 4\n",
    "\n",
    "tf_idf_for_all_dict=[]# создаем пустой список\n",
    "for chapter_number, word in enumerate(chapter_data):#создаем цикл по словам ранее полученного списка chapter_data\n",
    "    temp_tf_idf_dict={} # создаем пустой промежуточный словарь для записи результатов\n",
    "    for i, j in enumerate(word): # создаем внутренний цикл по словарям в списке\n",
    "        tf_idf=(term_frequency_for_all_dict[chapter_number][j])*(log(1/document_frequency_all_dict[j])) # находим значения для переменной tf_idf\n",
    "        temp_tf_idf_dict[j]=tf_idf # добавляем найденные значения в словарь\n",
    "    tf_idf_for_all_dict.append(temp_tf_idf_dict) # добавляем полученные словари в список tf_idf_dic_all---tf_idf_for_all_dict\n",
    "print(tf_idf_for_all_dict[target_chapter][target_word]) #Выводим результат для целевого слова target_word и целевой главы target_chapter  "
   ]
  },
  {
   "cell_type": "markdown",
   "metadata": {},
   "source": [
    "Задание 4.\n",
    "Теперь, когда мы умеем вычислять tf-idf для каждого слова в главе, мы можем найти те слова, которые являются самыми «контрастными» для данной главы, то есть они могут являться в своём роде заголовком для главы.\n",
    "Например, для главы 3 наиболее значимыми словами будут:\n",
    "\"анна\", \"павловна\", \"функе\"\n",
    "Задание:\n",
    "Напишите программу, которая позволяет вывести три слова, имеющие самое высокое значение tf-idf в заданной главе target_chapter в порядке убывания tf-idf."
   ]
  },
  {
   "cell_type": "code",
   "execution_count": null,
   "metadata": {},
   "outputs": [],
   "source": [
    "#ЗАДАНИЕ 4\n",
    "#Напишите программу, которая позволяет вывести три слова, имеющие самое высокое \n",
    "# значение tf-idf в заданной главе target_chapter в порядке убывания tf-idf. \n",
    "target_chapter = 3\n",
    "\n",
    "list_for_target_chapter=tf_idf_for_all_dict[target_chapter]# определяем список для анализируемой главы\n",
    "first_word = sorted(list_for_target_chapter, key=list_for_target_chapter.get)[-1]# сортируем словарь и находим слово с максимальной частотой\n",
    "second_word = sorted(list_for_target_chapter, key=list_for_target_chapter.get)[-2]# сортируем словарь и находим второе по применяемости слово\n",
    "third_word = sorted(list_for_target_chapter, key=list_for_target_chapter.get)[-3]# сортируем словарь и находим третье по применяемости слово\n",
    "print(first_word)\n",
    "print(second_word)\n",
    "print(third_word)\n"
   ]
  },
  {
   "cell_type": "markdown",
   "metadata": {},
   "source": [
    "PYTHON-5.1. Введение в функции в Python"
   ]
  },
  {
   "cell_type": "markdown",
   "metadata": {},
   "source": [
    "0. Повторение — мать учения"
   ]
  },
  {
   "cell_type": "code",
   "execution_count": 51,
   "metadata": {},
   "outputs": [
    {
     "name": "stdout",
     "output_type": "stream",
     "text": [
      "()\n",
      "79\n"
     ]
    },
    {
     "data": {
      "text/plain": [
       "False"
      ]
     },
     "execution_count": 51,
     "metadata": {},
     "output_type": "execute_result"
    }
   ],
   "source": [
    "tup = (13, 45, 79)\n",
    "print(tup[5:])\n",
    "print(tup[2])\n",
    "tup[2] == 10"
   ]
  },
  {
   "cell_type": "code",
   "execution_count": 53,
   "metadata": {},
   "outputs": [
    {
     "name": "stdout",
     "output_type": "stream",
     "text": [
      "[12, 14, 25, 36]\n"
     ]
    }
   ],
   "source": [
    "my_list = [12, 14, 25]\n",
    "my_list.append(36)\n",
    "print(my_list)"
   ]
  },
  {
   "cell_type": "code",
   "execution_count": 54,
   "metadata": {},
   "outputs": [
    {
     "name": "stdout",
     "output_type": "stream",
     "text": [
      "Hello world!\n",
      "Hello world!\n"
     ]
    }
   ],
   "source": [
    "def first_function():\n",
    "    print(\"Hello world!\")\n",
    "first_function()\n",
    "first_function()"
   ]
  },
  {
   "cell_type": "code",
   "execution_count": 58,
   "metadata": {},
   "outputs": [
    {
     "name": "stdout",
     "output_type": "stream",
     "text": [
      "<function first_function at 0x0000023C6420FDC0>\n"
     ]
    }
   ],
   "source": [
    "def first_function():\n",
    "    # первая строка функции\n",
    "    print(\"Hello world!\")\n",
    "    # вторая строка функции\n",
    "    print(\"Line 2\")\n",
    "# Отступ вернулся на прежний уровень, значит\n",
    "# код функции закончился.\n",
    "print(first_function)"
   ]
  },
  {
   "cell_type": "code",
   "execution_count": 61,
   "metadata": {},
   "outputs": [
    {
     "name": "stdout",
     "output_type": "stream",
     "text": [
      "Hours: 591068\n",
      "Minutes left: 38\n"
     ]
    }
   ],
   "source": [
    "def print_hours(minutes):\n",
    "    # // — это оператор целочисленного деления\n",
    "    hours = minutes // 60\n",
    "    # % — это оператор получения остатка от деления\n",
    "    left_minutes = minutes % 60\n",
    "    print(\"Hours:\", hours)\n",
    "    print(\"Minutes left:\", left_minutes)\n",
    "    \n",
    "print_hours(35464118)\n",
    "# Будет напечатано:\n",
    "# Hours: 1\n",
    "# Minutes left: 30"
   ]
  },
  {
   "cell_type": "code",
   "execution_count": 64,
   "metadata": {},
   "outputs": [
    {
     "name": "stdout",
     "output_type": "stream",
     "text": [
      "Travel time will be: 24410 hours\n"
     ]
    }
   ],
   "source": [
    "# Назовём функцию get_time (get — получать,\n",
    "# time — время). Она принимает аргументы\n",
    "# distance — расстояние и speed — скорость.\n",
    "def get_time(distance, speed):\n",
    "    # В переменную result сохраним результат\n",
    "    # деления расстояния на скорость.\n",
    "    result = distance / speed\n",
    "\n",
    "    # Чтобы вернуть результат вычислений,\n",
    "    # пишем оператор return и название переменной,\n",
    "    # значение которой будет передано.\n",
    "    return result\n",
    "# В переменную time сохранится результат вычисления\n",
    "# времени в пути длиной 120 км при скорости 60 км/ч.\n",
    "time = int(get_time(1464613, 60))\n",
    "print(\"Travel time will be:\", time, \"hours\")\n",
    "# Будет напечатано:\n",
    "# Travel time will be: 2 hours"
   ]
  },
  {
   "cell_type": "code",
   "execution_count": 71,
   "metadata": {},
   "outputs": [
    {
     "name": "stdout",
     "output_type": "stream",
     "text": [
      "Hours to travel: 1\n",
      "Minutes to travel: 12\n"
     ]
    }
   ],
   "source": [
    "def get_time_tuple(distance, speed):\n",
    "    # Получаем целое число часов в пути\n",
    "    hours = distance // speed\n",
    "    # Получаем остаток км в пути\n",
    "    distance_left = distance % speed\n",
    "    # Переводим скорость из км/ч в км/мин:\n",
    "    # за одну минуту можно проехать расстояние\n",
    "    # в 60 раз меньше, чем за 1 час\n",
    "    kms_per_minute = speed / 60\n",
    "    # Делим оставшееся расстояние на скорость в км/мин.\n",
    "    # и округляем до целого\n",
    "    minutes = round(distance_left / kms_per_minute)\n",
    "    \n",
    "    # Перечисляем аргументы через запятую.\n",
    "    # Они будут возвращены функцией в виде кортежа.\n",
    "    return hours, minutes\n",
    "# Через запятую перечисляем переменные, в которые сохранится результат\n",
    "hours, minutes = get_time_tuple(120, 100)\n",
    "# Красиво напечатаем результат\n",
    "print(\"Hours to travel:\", hours)\n",
    "print(\"Minutes to travel:\", minutes)\n",
    "# Будет напечатано:\n",
    "# Hours to travel: 1\n",
    "# Minutes to travel: 12\n",
    "#result = get_time_tuple(1316, 99)\n",
    "#print(result)\n",
    "# Будет напечатано:\n",
    "# (1, 12)\n",
    "# Нулевой элемент кортежа — часы\n",
    "# Первый элемент —  минуты\n",
    "#print(\"Hours to travel:\", result[0])\n",
    "#print(\"Minutes to travel:\", result[1])\n",
    "# Будет напечатано:\n",
    "# Hours to travel: 1\n",
    "# Minutes to travel: 12"
   ]
  },
  {
   "cell_type": "code",
   "execution_count": null,
   "metadata": {},
   "outputs": [],
   "source": [
    "def get_time(distance, speed):\n",
    "    result = distance / speed\n",
    "    # Вместо того чтобы возвращать результат,\n",
    "    # печатаем его.\n",
    "    print(result)\n",
    "time = int(get_time(120, 60))\n",
    "# Сразу будет напечатано:\n",
    "# 2\n",
    "print(\"Travel time will be:\", time, \"hours\")\n",
    "# Будет напечатано:\n",
    "# Travel time will be: None hours"
   ]
  },
  {
   "cell_type": "code",
   "execution_count": 77,
   "metadata": {},
   "outputs": [
    {
     "name": "stdout",
     "output_type": "stream",
     "text": [
      "Element is NOT found!\n",
      "False\n",
      "Element is found!\n",
      "True\n"
     ]
    }
   ],
   "source": [
    "# list_in — список, в котором будем искать объект\n",
    "# Интуитивно хотелось бы назвать аргумент для списка\n",
    "# словом list, однако это привело бы к изменению встроенного\n",
    "# объекта list, что очень нежелательно\n",
    "# obj — аргумент, содержащий объект, который ищет функция\n",
    "def in_list(list_in, obj):\n",
    "    for elem in list_in:\n",
    "        if obj == elem:\n",
    "            print(\"Element is found!\")\n",
    "            return True\n",
    "            print(\"This won’t be printed\")\n",
    "    print(\"Element is NOT found!\")\n",
    "    return False\n",
    "    print(\"This will not be printed either\")\n",
    "my_list = [1,2,5,7,10]\n",
    "result = in_list(my_list, 3)\n",
    "# Element is NOT found!\n",
    "print(result)\n",
    "# False\n",
    "result = in_list(my_list, 7)\n",
    "# Element is found!\n",
    "print(result)\n",
    "# True"
   ]
  },
  {
   "cell_type": "code",
   "execution_count": 78,
   "metadata": {},
   "outputs": [
    {
     "ename": "IndentationError",
     "evalue": "expected an indented block (2753287237.py, line 5)",
     "output_type": "error",
     "traceback": [
      "\u001b[1;36m  Cell \u001b[1;32mIn[78], line 5\u001b[1;36m\u001b[0m\n\u001b[1;33m    print(\"Script continues\")\u001b[0m\n\u001b[1;37m    ^\u001b[0m\n\u001b[1;31mIndentationError\u001b[0m\u001b[1;31m:\u001b[0m expected an indented block\n"
     ]
    }
   ],
   "source": [
    "def first_function():\n",
    "# Компьютер не найдёт отступ в 4 пробела на новой строке\n",
    "# после двоеточия и закончит выполнение скрипта сообщением о\n",
    "# синтаксической ошибке\n",
    "print(\"Script continues\")"
   ]
  },
  {
   "cell_type": "code",
   "execution_count": 79,
   "metadata": {},
   "outputs": [],
   "source": [
    "# Функция открытия дверей\n",
    "def open_doors():\n",
    "    pass\n",
    "\n",
    "# Функция закрытия дверей\n",
    "def close_doors():\n",
    "    pass\n",
    "\n",
    "# Функция перемещения на этаж с номером number\n",
    "def move_to_floor(number): \n",
    "    pass"
   ]
  },
  {
   "cell_type": "code",
   "execution_count": 80,
   "metadata": {},
   "outputs": [
    {
     "name": "stdout",
     "output_type": "stream",
     "text": [
      "750\n"
     ]
    }
   ],
   "source": [
    "def get_total(q,p):\n",
    "    result=q*p\n",
    "    return result\n",
    "print(get_total(15, 50))\n"
   ]
  },
  {
   "cell_type": "code",
   "execution_count": 82,
   "metadata": {},
   "outputs": [
    {
     "name": "stdout",
     "output_type": "stream",
     "text": [
      "5\n"
     ]
    }
   ],
   "source": [
    "# Создадим словарь с оценками студентов\n",
    "grades = {'Ivanov': 5, 'Smirnov': 3, 'Kuznetsova': 4, 'Tihonova': 5}\n",
    "# Напечатаем оценку студента, которого нет в словаре\n",
    "print(grades['Ivanov'])\n",
    "# Возникнет исключение KeyError: 'Pavlov'\n",
    "# Оно означает, что переданного ключа (слово \"Pavlov\")\n",
    "# нет в словаре"
   ]
  },
  {
   "cell_type": "code",
   "execution_count": 83,
   "metadata": {},
   "outputs": [
    {
     "name": "stdout",
     "output_type": "stream",
     "text": [
      "Student’s mark was not found!\n"
     ]
    }
   ],
   "source": [
    "# Создадим тот же словарь\n",
    "grades = {'Ivanov': 5, 'Smirnov': 3, 'Kuznetsova': 4, 'Tihonova': 5}\n",
    "# Только попробуем (try — пробовать) напечатать оценку студента,\n",
    "# которого нет в словаре\n",
    "try:\n",
    "    print(grades['Pavlov'])\n",
    "# А если возникнет ошибка в ключе (KeyError), скажем,\n",
    "# что студента нет в словаре\n",
    "except KeyError:\n",
    "    print(\"Student’s mark was not found!\")\n",
    "# Будет напечатано:\n",
    "# Student’s mark was not found!"
   ]
  },
  {
   "cell_type": "code",
   "execution_count": 84,
   "metadata": {},
   "outputs": [],
   "source": [
    "def get_time(distance, speed):\n",
    "    result = distance / speed\n",
    "    return result"
   ]
  },
  {
   "cell_type": "code",
   "execution_count": null,
   "metadata": {},
   "outputs": [],
   "source": [
    "def get_time(distance, speed):\n",
    "    # Если расстояние или скорость отрицательные, то возвращаем ошибку\n",
    "    if distance < 0 or speed < 0:\n",
    "        # Оператор raise возвращает (raise — досл. англ. \"поднимать\")\n",
    "        # объект-исключение. В данном случае ValueError (некорректное значение).\n",
    "        # Дополнительно в скобках после слова ValueError пишем текст сообщения\n",
    "        # об ошибке, чтобы сразу было понятно, чем вызвана ошибка.\n",
    "        raise ValueError(\"Distance or speed cannot be below 0!\")\n",
    "    if speed == 0:\n",
    "        raise ValueError(\"Speed cannot be equal to 0!\")\n",
    "    result = distance / speed\n",
    "    return result\n",
    "get_time(-25, 100)\n",
    "# Будет напечатано:\n",
    "# ValueError: Distance or speed cannot be below 0!\n",
    " \n",
    "get_time(50, -100)\n",
    "# Будет напечатано:\n",
    "# ValueError: Distance or speed cannot be below 0!"
   ]
  },
  {
   "cell_type": "code",
   "execution_count": 91,
   "metadata": {},
   "outputs": [
    {
     "ename": "TypeError",
     "evalue": "get_cola() missing 1 required positional argument: 'ice'",
     "output_type": "error",
     "traceback": [
      "\u001b[1;31m---------------------------------------------------------------------------\u001b[0m",
      "\u001b[1;31mTypeError\u001b[0m                                 Traceback (most recent call last)",
      "Cell \u001b[1;32mIn[91], line 8\u001b[0m\n\u001b[0;32m      6\u001b[0m     \u001b[39melse\u001b[39;00m:\n\u001b[0;32m      7\u001b[0m         \u001b[39mprint\u001b[39m(\u001b[39m\"\u001b[39m\u001b[39mCola without ice is ready!\u001b[39m\u001b[39m\"\u001b[39m)\n\u001b[1;32m----> 8\u001b[0m get_cola()\n\u001b[0;32m      9\u001b[0m \u001b[39m# Будет напечатано:\u001b[39;00m\n\u001b[0;32m     10\u001b[0m \u001b[39m# Cola with ice is ready!\u001b[39;00m\n\u001b[0;32m     11\u001b[0m \n\u001b[0;32m     12\u001b[0m \u001b[39m#get_cola(False)\u001b[39;00m\n\u001b[0;32m     13\u001b[0m \u001b[39m# Будет напечатано:\u001b[39;00m\n\u001b[0;32m     14\u001b[0m \u001b[39m# Cola without ice is ready!\u001b[39;00m\n",
      "\u001b[1;31mTypeError\u001b[0m: get_cola() missing 1 required positional argument: 'ice'"
     ]
    }
   ],
   "source": [
    "# С помощью оператора '=' присвоим\n",
    "# переменной ice значение True по умолчанию\n",
    "def get_cola(ice):\n",
    "    if ice == True:\n",
    "        print(\"Cola with ice is ready!\")\n",
    "    else:\n",
    "        print(\"Cola without ice is ready!\")\n",
    "get_cola()\n",
    "# Будет напечатано:\n",
    "# Cola with ice is ready!\n",
    "\n",
    "#get_cola(False)\n",
    "# Будет напечатано:\n",
    "# Cola without ice is ready!"
   ]
  },
  {
   "cell_type": "code",
   "execution_count": 96,
   "metadata": {},
   "outputs": [
    {
     "name": "stdout",
     "output_type": "stream",
     "text": [
      "9.0\n"
     ]
    }
   ],
   "source": [
    "# В функцию должны передаваться 2 значения:\n",
    "# число и степень корня\n",
    "def root(value, n=2):\n",
    "    # Как мы уже выяснили, чтобы посчитать\n",
    "    # корень степени n из числа, можно возвести это число\n",
    "    # в степень 1/n\n",
    "    result = value ** (1/n)\n",
    "    return result\n",
    "\n",
    "# Посчитаем корень 3-ей степени (кубический корень) из 27\n",
    "print(root(81))\n",
    "# Будет напечатано:\n",
    "# 3.0"
   ]
  },
  {
   "cell_type": "code",
   "execution_count": 98,
   "metadata": {},
   "outputs": [],
   "source": [
    "def wrong_root(value,n=2):\n",
    "    result = value ** (1/n)\n",
    "    return result\n",
    "# Возникнет ошибка:\n",
    "# SyntaxError: non-default argument follows default argument"
   ]
  },
  {
   "cell_type": "code",
   "execution_count": 102,
   "metadata": {},
   "outputs": [
    {
     "name": "stdout",
     "output_type": "stream",
     "text": [
      "{'Ivanov': 5, 'Tihonova': 4}\n",
      "{'Smirnov': 3}\n",
      "{'Kuznetsova': 5}\n"
     ]
    }
   ],
   "source": [
    "# Функция add_mark (от англ. add mark — \"добавить оценку\")\n",
    "# принимает обязательные аргументы name (имя) и\n",
    "# mark (оценка). Необязательным аргументом является journal\n",
    "# (журнал оценок), который по умолчанию является пустым словарём.\n",
    "def add_mark(name, mark, journal=None):\n",
    "    # Если журнал является None\n",
    "    # (напоминание: сравнивать объект с None\n",
    "    # корректнее через оператор is),\n",
    "    # запишем в journal пустой словарь\n",
    "    if journal is None:\n",
    "        journal = {}\n",
    "    journal[name] = mark\n",
    "    return journal\n",
    "# Создадим пустой словарь, в который будем\n",
    "# сохранять оценки группы 1\n",
    "group1 = {}\n",
    "# Добавим оценки двух студентов\n",
    "group1 = add_mark('Ivanov', 5, group1)\n",
    "group1 = add_mark('Tihonova', 4, group1)\n",
    "print(group1)\n",
    "# Будет напечатано:\n",
    "# {'Ivanov': 5, 'Tihonova': 4}\n",
    "# Добавим в журнал для новой группы оценку Смирнову\n",
    "# Сам журнал не передаём в виде аргумента\n",
    "# Пустой журнал будет использован как аргумент по умолчанию\n",
    "group2 = add_mark('Smirnov', 3)\n",
    "print(group2)\n",
    "# Будет напечатано:\n",
    "# {'Smirnov': 3}\n",
    " \n",
    "# Аналогично для новой группы 3 добавим оценку Кузнецовой\n",
    "group3 = add_mark('Kuznetsova', 5)\n",
    "print(group3)\n",
    "# Будет напечатано:\n",
    "# {'Smirnov': 3, 'Kuznetsova': 5}"
   ]
  },
  {
   "cell_type": "code",
   "execution_count": 104,
   "metadata": {},
   "outputs": [
    {
     "ename": "ValueError",
     "evalue": "Invalid Mark!",
     "output_type": "error",
     "traceback": [
      "\u001b[1;31m---------------------------------------------------------------------------\u001b[0m",
      "\u001b[1;31mValueError\u001b[0m                                Traceback (most recent call last)",
      "Cell \u001b[1;32mIn[104], line 9\u001b[0m\n\u001b[0;32m      7\u001b[0m         \u001b[39mraise\u001b[39;00m \u001b[39mValueError\u001b[39;00m(\u001b[39m\"\u001b[39m\u001b[39mInvalid Mark!\u001b[39m\u001b[39m\"\u001b[39m)\n\u001b[0;32m      8\u001b[0m     \u001b[39mreturn\u001b[39;00m journal\n\u001b[1;32m----> 9\u001b[0m add_mark(\u001b[39m'\u001b[39;49m\u001b[39mIvanov\u001b[39;49m\u001b[39m'\u001b[39;49m, \u001b[39m6\u001b[39;49m)\n",
      "Cell \u001b[1;32mIn[104], line 7\u001b[0m, in \u001b[0;36madd_mark\u001b[1;34m(name, mark, journal)\u001b[0m\n\u001b[0;32m      5\u001b[0m journal[name] \u001b[39m=\u001b[39m mark\n\u001b[0;32m      6\u001b[0m \u001b[39mif\u001b[39;00m mark \u001b[39m<\u001b[39m \u001b[39m2\u001b[39m \u001b[39mor\u001b[39;00m mark \u001b[39m>\u001b[39m\u001b[39m5\u001b[39m:\n\u001b[1;32m----> 7\u001b[0m     \u001b[39mraise\u001b[39;00m \u001b[39mValueError\u001b[39;00m(\u001b[39m\"\u001b[39m\u001b[39mInvalid Mark!\u001b[39m\u001b[39m\"\u001b[39m)\n\u001b[0;32m      8\u001b[0m \u001b[39mreturn\u001b[39;00m journal\n",
      "\u001b[1;31mValueError\u001b[0m: Invalid Mark!"
     ]
    }
   ],
   "source": [
    "def add_mark(name, mark, journal=None):\n",
    "    # Добавьте здесь проверку аргумента mark\n",
    "    if journal is None:\n",
    "        journal = {}\n",
    "    journal[name] = mark\n",
    "    if mark < 2 or mark >5:\n",
    "        raise ValueError(\"Invalid Mark!\")\n",
    "    return journal\n",
    "add_mark('Ivanov', 6)\n"
   ]
  },
  {
   "cell_type": "code",
   "execution_count": 112,
   "metadata": {},
   "outputs": [
    {
     "name": "stdout",
     "output_type": "stream",
     "text": [
      "Root of power 4 from 81 equals 3.0\n",
      "3.0\n"
     ]
    }
   ],
   "source": [
    "def root(value, n=2,verbose=False):\n",
    "    result = value ** (1/n)\n",
    "    if verbose:\n",
    "        # Аргументы в функции print,\n",
    "        # перечисленные через запятую,\n",
    "        # печатаются через пробел\n",
    "        print('Root of power', n, 'from',\n",
    "            value, 'equals', result)\n",
    "    return result\n",
    "#print(root(25))\n",
    "#print(root(27, 3))\n",
    "#print(root(27, 3, True))\n",
    "#print(root(25, verbose=True))\n",
    "# Подробно считаем корень степени 4 из 81\n",
    "print(root(81, verbose=True, n=4))\n",
    "# Будет напечатано:\n",
    "# Root of power 4 from 81 equals 3.0\n",
    "# 3.0"
   ]
  },
  {
   "cell_type": "code",
   "execution_count": 114,
   "metadata": {},
   "outputs": [
    {
     "name": "stdout",
     "output_type": "stream",
     "text": [
      "25 125 625\n",
      "25, 125, 625\n"
     ]
    }
   ],
   "source": [
    "print(25, 125, 625)\n",
    "print(25, 125, 625, sep=', ')\n",
    "# Будет напечатано:\n",
    "# 25, 125, 625\n",
    "# Будет напечатано:\n",
    "# 25 125 625"
   ]
  },
  {
   "cell_type": "code",
   "execution_count": 119,
   "metadata": {},
   "outputs": [
    {
     "name": "stdout",
     "output_type": "stream",
     "text": [
      "Shopping list: bread, butter, eggs\n"
     ]
    }
   ],
   "source": [
    "#print(\"Shopping list:\")\n",
    "#print(\"bread\", \"butter\", \"eggs\")\n",
    "print(\"Shopping list:\", end=' ')\n",
    "print(\"bread\", \"butter\", \"eggs\",sep=', ')\n",
    "# Будет напечатано:\n",
    "# Shopping list: bread butter eggs\n",
    "# Будет напечатано:\n",
    "# Shopping list:\n",
    "# bread butter eggs"
   ]
  },
  {
   "cell_type": "code",
   "execution_count": 120,
   "metadata": {},
   "outputs": [],
   "source": [
    "def new_animal(animal, length, weight, color):\n",
    "    pass\n",
    "new_animal('python', color='green', weight=10, length=5)"
   ]
  },
  {
   "cell_type": "code",
   "execution_count": 121,
   "metadata": {},
   "outputs": [
    {
     "name": "stdout",
     "output_type": "stream",
     "text": [
      "4.0\n"
     ]
    }
   ],
   "source": [
    "# В массив args будут записаны все переданные\n",
    "# порядковые аргументы\n",
    "def mean(*args):\n",
    "    # Среднее значение — это сумма всех значений,\n",
    "    # делённая на число этих значений\n",
    "    # Функция sum — встроенная, она возвращает\n",
    "    # сумму чисел\n",
    "    result = sum(args) / len(args)\n",
    "    return result\n",
    " \n",
    "# Передадим аргументы в функцию через запятую,\n",
    "# чтобы посчитать их среднее\n",
    "print(mean(5,4,4,3))\n",
    "# Будет напечатано\n",
    "# 4.0"
   ]
  },
  {
   "cell_type": "code",
   "execution_count": 122,
   "metadata": {},
   "outputs": [
    {
     "name": "stdout",
     "output_type": "stream",
     "text": [
      "True\n",
      "(5, 4, 4, 3)\n",
      "4.0\n"
     ]
    }
   ],
   "source": [
    "def mean(*numbers):\n",
    "    # С помощью встроенной функции isinstance\n",
    "    # проверим, что numbers — это tuple\n",
    "    print(isinstance(numbers, tuple))\n",
    "    # Напечатаем содержимое объекта numbers\n",
    "    print(numbers)\n",
    "    result = sum(numbers) / len(numbers)\n",
    "    return result\n",
    " \n",
    "print(mean(5,4,4,3))\n",
    "# Будет напечатано\n",
    "# True\n",
    "# (5, 4, 4, 3)\n",
    "# 4.0"
   ]
  },
  {
   "cell_type": "code",
   "execution_count": 123,
   "metadata": {},
   "outputs": [
    {
     "name": "stdout",
     "output_type": "stream",
     "text": [
      "Ivanov: 4.75\n",
      "Petrov: 4.25\n"
     ]
    }
   ],
   "source": [
    "# В качестве первого аргумента принимаем фамилию\n",
    "# студента, а затем уже его оценки через запятую\n",
    "def mean_mark(name, *marks):\n",
    "    result = sum(marks) / len(marks)\n",
    "    # Не возвращаем результат, а печатаем его\n",
    "    print(name+':', result)\n",
    " \n",
    "mean_mark(\"Ivanov\", 5, 5, 5, 4)\n",
    "mean_mark(\"Petrov\", 5, 3, 5, 4)\n",
    "# Будет напечатано:\n",
    "# Ivanov: 4.75\n",
    "# Petrov: 4.25"
   ]
  },
  {
   "cell_type": "code",
   "execution_count": 124,
   "metadata": {},
   "outputs": [
    {
     "name": "stdout",
     "output_type": "stream",
     "text": [
      "150\n"
     ]
    }
   ],
   "source": [
    "def mult(*args):\n",
    "    result = 1\n",
    "    for num in args:\n",
    "        result *= num\n",
    "    return result\n",
    "print(mult(3,5,10))"
   ]
  },
  {
   "cell_type": "code",
   "execution_count": 127,
   "metadata": {},
   "outputs": [
    {
     "name": "stdout",
     "output_type": "stream",
     "text": [
      "Python, SQL, Machine Learning, Statistics\n",
      "['Python', 'SQL', 'Machine Learning', 'Statistics']\n"
     ]
    }
   ],
   "source": [
    "langs = ['Python', 'SQL', 'Machine Learning', 'Statistics']\n",
    "print(*langs,sep=', ')\n",
    "print(langs)"
   ]
  },
  {
   "cell_type": "code",
   "execution_count": 131,
   "metadata": {},
   "outputs": [
    {
     "name": "stdout",
     "output_type": "stream",
     "text": [
      "Kuznetsov: 4.454545454545454\n"
     ]
    }
   ],
   "source": [
    "def mean_mark(name, *marks):\n",
    "    result = sum(marks) / len(marks)\n",
    "    # Не возвращаем результат, а печатаем его\n",
    "    print(name+':', result)\n",
    "mean_mark('Kuznetsov', *marks)\n",
    "# Должно быть напечатано:\n",
    "# Kuznetsov: 4.454545454545454"
   ]
  },
  {
   "cell_type": "code",
   "execution_count": 133,
   "metadata": {},
   "outputs": [
    {
     "ename": "SyntaxError",
     "evalue": "expression cannot contain assignment, perhaps you meant \"==\"? (2410422907.py, line 10)",
     "output_type": "error",
     "traceback": [
      "\u001b[1;36m  Cell \u001b[1;32mIn[133], line 10\u001b[1;36m\u001b[0m\n\u001b[1;33m    schedule(monday='Python', tuesday='SQL', 5='ML')\u001b[0m\n\u001b[1;37m                                             ^\u001b[0m\n\u001b[1;31mSyntaxError\u001b[0m\u001b[1;31m:\u001b[0m expression cannot contain assignment, perhaps you meant \"==\"?\n"
     ]
    }
   ],
   "source": [
    "# В переменную kwargs будут записаны все\n",
    "# именованные аргументы\n",
    "def schedule(**kwargs):\n",
    "    # kwargs — это словарь, проверим это с помощью isinstance:\n",
    "    print(isinstance(kwargs, dict))\n",
    "    # Напечатаем объект kwargs\n",
    "    print(kwargs)\n",
    " \n",
    "schedule(monday='Python', tuesday='SQL', friday='ML')\n",
    "schedule(monday='Python', tuesday='SQL', 5='ML')\n",
    "# Будет напечатано:\n",
    "# SyntaxError: keyword can't be an expression\n",
    "# Будет напечатано:\n",
    "# True\n",
    "# {'monday': 'Python', 'tuesday': 'SQL', 'friday': 'ML'}"
   ]
  },
  {
   "cell_type": "code",
   "execution_count": 134,
   "metadata": {},
   "outputs": [
    {
     "name": "stdout",
     "output_type": "stream",
     "text": [
      "Week schedule:\n",
      "monday - Python\n",
      "tuesday - SQL\n",
      "friday - ML\n"
     ]
    }
   ],
   "source": [
    "def schedule(**kwargs):\n",
    "    print(\"Week schedule:\")\n",
    "    for key in kwargs:\n",
    "        print(key, kwargs[key], sep=' - ')\n",
    " \n",
    "schedule(monday='Python', tuesday='SQL', friday='ML')\n",
    "# Будет напечатано:\n",
    "# Week schedule:\n",
    "# monday — Python# tuesday — SQL# friday — ML"
   ]
  },
  {
   "cell_type": "code",
   "execution_count": 135,
   "metadata": {},
   "outputs": [
    {
     "name": "stdout",
     "output_type": "stream",
     "text": [
      "Week schedule:\n",
      "Wednesday - Maths\n",
      "Thursday - SQL\n",
      "Friday - Statistics\n"
     ]
    }
   ],
   "source": [
    "lessons = {\n",
    "    'Wednesday': 'Maths',\n",
    "    'Thursday': 'SQL',\n",
    "    'Friday': 'Statistics'\n",
    "}\n",
    "# Использовали оператор ** для распаковки словаря в набор\n",
    "# значений именованных аргументов\n",
    "schedule(**lessons)\n",
    "# Будет напечатано:\n",
    "# Week schedule:\n",
    "# Wednesday — Maths\n",
    "# Thursday — SQL\n",
    "# Friday — Statistics"
   ]
  },
  {
   "cell_type": "code",
   "execution_count": 136,
   "metadata": {},
   "outputs": [
    {
     "name": "stdout",
     "output_type": "stream",
     "text": [
      "(1, 4, 5, 7)\n",
      "{'name': 'Ivanov', 'age': 19, 'city': 'Moscow'}\n"
     ]
    }
   ],
   "source": [
    "def print_args(*args, **kwargs):\n",
    "    print(args)\n",
    "    print(kwargs)\n",
    " \n",
    "print_args(1,4,5,7, name='Ivanov', age=19, city='Moscow')\n",
    "# Будет напечатано:\n",
    "# (1, 4, 5, 7)\n",
    "# {'name': 'Ivanov', 'age': 19, 'city': 'Moscow'}"
   ]
  },
  {
   "cell_type": "code",
   "execution_count": 139,
   "metadata": {},
   "outputs": [
    {
     "name": "stdout",
     "output_type": "stream",
     "text": [
      "1, 4, 6, 8; 12, 45, 56, 190, 111; Python, Functions; "
     ]
    }
   ],
   "source": [
    "list1 = [1,4,6,8]\n",
    "list2 = [12, 45, 56, 190, 111]\n",
    "list3 = ['Python', 'Functions']\n",
    " \n",
    "# Один раз запишем в словарь параметры для печати\n",
    "# через print: разделитель — запятая,\n",
    "# окончание строки — точка с запятой\n",
    "how = {'sep': ', ', 'end': '; '}\n",
    " \n",
    "# Распаковываем и список, и словарь how\n",
    "print(*list1, **how)\n",
    "print(*list2, **how)\n",
    "print(*list3, **how)\n",
    "\n",
    " \n",
    "#Будет напечатано:\n",
    "# 1, 4, 6, 8; 12, 45, 56, 190, 111; Python, Functions;"
   ]
  },
  {
   "cell_type": "code",
   "execution_count": 142,
   "metadata": {},
   "outputs": [
    {
     "name": "stdout",
     "output_type": "stream",
     "text": [
      "[12, 23, 45];[12, 23, 45]\n"
     ]
    }
   ],
   "source": [
    "print([12, 23, 45],sep=', ', end=';')\n",
    "print([12, 23, 45])"
   ]
  },
  {
   "cell_type": "code",
   "execution_count": 144,
   "metadata": {},
   "outputs": [],
   "source": [
    "def root(num):\n",
    "    # Напоминание: в Python используется оператор **\n",
    "    # для возведения числа в степень.\n",
    "    # В математике возведение в степень ½ соответствует\n",
    "    # вычислению квадратного корня.\n",
    "    return num ** (1/2)"
   ]
  },
  {
   "cell_type": "code",
   "execution_count": 147,
   "metadata": {},
   "outputs": [
    {
     "name": "stdout",
     "output_type": "stream",
     "text": [
      "2.0\n"
     ]
    }
   ],
   "source": [
    "root = lambda num: num**(1/2)\n",
    "print(root(4))"
   ]
  },
  {
   "cell_type": "code",
   "execution_count": 150,
   "metadata": {},
   "outputs": [
    {
     "name": "stdout",
     "output_type": "stream",
     "text": [
      "2.0\n"
     ]
    }
   ],
   "source": [
    "nth_root = lambda num, n: num**(1/n)\n",
    "print(nth_root(16,4))"
   ]
  },
  {
   "cell_type": "code",
   "execution_count": 153,
   "metadata": {},
   "outputs": [
    {
     "name": "stdout",
     "output_type": "stream",
     "text": [
      "odd\n",
      "odd\n"
     ]
    }
   ],
   "source": [
    "is_even = lambda num: \"even\" if num % 2 == 0 else \"odd\"\n",
    "print(is_even(15416164113646877131498741))\n",
    "print(is_even(232126267511957672137612985621626712627615702621))"
   ]
  },
  {
   "cell_type": "code",
   "execution_count": 154,
   "metadata": {},
   "outputs": [
    {
     "name": "stdout",
     "output_type": "stream",
     "text": [
      "(1, 4, 6, 7)\n"
     ]
    }
   ],
   "source": [
    "func_args = lambda *args: args\n",
    " \n",
    "print(func_args(1,4,6,7))\n",
    "# Будет напечатано:\n",
    "# (1, 4, 6, 7)"
   ]
  },
  {
   "cell_type": "code",
   "execution_count": 155,
   "metadata": {},
   "outputs": [
    {
     "name": "stdout",
     "output_type": "stream",
     "text": [
      "divided by 2 and 3\n"
     ]
    }
   ],
   "source": [
    "\n",
    "scary_func = lambda num: 'divided by 2 and 3' if num % 6 == 0 else 'divided by 2' if num % 2 == 0 else 'divided by 3' if num % 3 == 0 else 'not divided by 2 nor 3'\n",
    "print(scary_func(6))"
   ]
  },
  {
   "cell_type": "code",
   "execution_count": 156,
   "metadata": {},
   "outputs": [
    {
     "name": "stdout",
     "output_type": "stream",
     "text": [
      "['German', 'Ivan', 'Kim', 'Margarita', 'Simon']\n"
     ]
    }
   ],
   "source": [
    "names = ['Ivan', 'Kim', 'German', 'Margarita', 'Simon']\n",
    "names.sort()\n",
    "print(names)\n",
    "# Будет напечатано:\n",
    "# ['German', 'Ivan', 'Kim', 'Margarita', 'Simon']\n"
   ]
  },
  {
   "cell_type": "code",
   "execution_count": 157,
   "metadata": {},
   "outputs": [
    {
     "name": "stdout",
     "output_type": "stream",
     "text": [
      "['Kim', 'Ivan', 'Simon', 'German', 'Margarita']\n"
     ]
    }
   ],
   "source": [
    "names.sort(key=lambda name: len(name))\n",
    "print(names)\n",
    "# Будет напечатано:\n",
    "# ['Kim', 'Ivan', 'Simon', 'German', 'Margarita']"
   ]
  },
  {
   "cell_type": "code",
   "execution_count": 159,
   "metadata": {},
   "outputs": [
    {
     "name": "stdout",
     "output_type": "stream",
     "text": [
      "['cc', 'aaa', 'bbb', 'aaaaa', 'ababa']\n"
     ]
    }
   ],
   "source": [
    "new_list = ['bbb', 'ababa','aaa', 'aaaaa',  'cc']\n",
    "new_list.sort(key=lambda word: (len(word), word))\n",
    "print(new_list)\n",
    "# Будет напечатано:\n",
    "# ['cc', 'bbb', 'aaa', 'ababa', 'aaaaa']\n"
   ]
  },
  {
   "cell_type": "code",
   "execution_count": 160,
   "metadata": {},
   "outputs": [
    {
     "name": "stdout",
     "output_type": "stream",
     "text": [
      "5.0\n",
      "9.055385138137417\n"
     ]
    }
   ],
   "source": [
    "hyp=lambda a,b: (a**2+b**2)**(1/2)\n",
    "print(hyp(3,4))\n",
    "print(hyp(1,9))\n",
    "# 5.0\n",
    "# 9.055385138137417"
   ]
  },
  {
   "cell_type": "code",
   "execution_count": 161,
   "metadata": {},
   "outputs": [
    {
     "name": "stdout",
     "output_type": "stream",
     "text": [
      "[(1, 2), (3, 4), (10, 10)]\n"
     ]
    }
   ],
   "source": [
    "def sort_sides(l_in):\n",
    "    l_in.sort(key=lambda x: (x[0]**2 + x[1]**2) ** (1/2))\n",
    "    return l_in\n",
    "print(sort_sides([(3,4), (1,2), (10,10)]))\n",
    "# [(1, 2), (3, 4), (10, 10)]"
   ]
  },
  {
   "cell_type": "code",
   "execution_count": 164,
   "metadata": {},
   "outputs": [
    {
     "name": "stdout",
     "output_type": "stream",
     "text": [
      "1\n",
      "None\n"
     ]
    }
   ],
   "source": [
    "def get_less(list_in, num):\n",
    "    for value in list_in:\n",
    "        if value < num:\n",
    "            return value\n",
    "        else:\n",
    "            return None\n",
    "print(get_less([1, 5, 8,  10], 8))\n",
    "print(get_less([1, 5, 8,  10], 0))"
   ]
  },
  {
   "cell_type": "code",
   "execution_count": 165,
   "metadata": {},
   "outputs": [
    {
     "name": "stdout",
     "output_type": "stream",
     "text": [
      "(31, 1, 2019)\n"
     ]
    }
   ],
   "source": [
    "#Напишите функцию split_date(date), которая\n",
    "# принимает на вход строку, задающую дату, \n",
    "# в формате ддммгггг без разделителей. \n",
    "# Функция должна вернуть кортеж из чисел \n",
    "# (int): день, месяц, год.\n",
    "def split_date(date):\n",
    "    day=date[:2]\n",
    "    month=date[2:4]\n",
    "    year=date[4:]\n",
    "    return int(day), int(month), int(year)\n",
    "print(split_date(\"31012019\"))\n",
    "# (31, 1, 2019)\n"
   ]
  },
  {
   "cell_type": "code",
   "execution_count": 166,
   "metadata": {},
   "outputs": [
    {
     "name": "stdout",
     "output_type": "stream",
     "text": [
      "False\n",
      "False\n",
      "True\n"
     ]
    }
   ],
   "source": [
    "def is_prime(num):\n",
    "    if num ==1: \n",
    "        return False\n",
    "    for i in range(2, num):\n",
    "        if num % i == 0:\n",
    "            return False\n",
    "    return True\n",
    "print(is_prime(1))\n",
    "print(is_prime(10))\n",
    "print(is_prime(13))\n",
    "# False\n",
    "# False\n",
    "# True"
   ]
  },
  {
   "cell_type": "code",
   "execution_count": 168,
   "metadata": {},
   "outputs": [
    {
     "name": "stdout",
     "output_type": "stream",
     "text": [
      "10.0\n",
      "3.0\n"
     ]
    }
   ],
   "source": [
    "def between_min_max(*args):\n",
    "    result=(max(args) + min(args))/2        \n",
    "    return result \n",
    "print(between_min_max(10))\n",
    "print(between_min_max(1,2,3,4,5))\n",
    "# 10.0\n",
    "# 3.0"
   ]
  },
  {
   "cell_type": "code",
   "execution_count": null,
   "metadata": {},
   "outputs": [],
   "source": [
    "\n",
    "\n",
    "print(best_student(Tom=12, Mike=3))\n",
    "print(best_student(Tom=12))\n",
    "print(best_student(Tom=12, Jerry=1, Jane=2))\n",
    "# Mike\n",
    "# Tom\n",
    "# Jerry"
   ]
  },
  {
   "cell_type": "code",
   "execution_count": 169,
   "metadata": {},
   "outputs": [
    {
     "name": "stdout",
     "output_type": "stream",
     "text": [
      "no\n",
      "yes\n"
     ]
    }
   ],
   "source": [
    "is_palindrom= lambda x: 'yes'if x[::-1]==x else 'no'\n",
    "\n",
    "print(is_palindrom('1234'))\n",
    "print(is_palindrom('12321'))\n",
    "# no\n",
    "# yes"
   ]
  },
  {
   "cell_type": "code",
   "execution_count": 170,
   "metadata": {},
   "outputs": [
    {
     "name": "stdout",
     "output_type": "stream",
     "text": [
      "60\n"
     ]
    }
   ],
   "source": [
    "area=lambda a,b: a*b\n",
    "print(area(12,5))"
   ]
  },
  {
   "cell_type": "code",
   "execution_count": 171,
   "metadata": {},
   "outputs": [
    {
     "name": "stdout",
     "output_type": "stream",
     "text": [
      "3.0\n"
     ]
    }
   ],
   "source": [
    "between_min_max=lambda *args: (max(args) + min(args))/2 \n",
    "print(between_min_max(1,2,3,4,5))\n",
    "# 3.0\n"
   ]
  },
  {
   "cell_type": "code",
   "execution_count": 172,
   "metadata": {},
   "outputs": [
    {
     "name": "stdout",
     "output_type": "stream",
     "text": [
      "<built-in method sort of list object at 0x0000023C63543B80>\n"
     ]
    }
   ],
   "source": [
    "def sort_ignore_case(ls):\n",
    "    return ls.sort\n",
    "\n",
    "print(sort_ignore_case(['Acc', 'abc']))\n",
    "# ['abc', 'Acc']"
   ]
  },
  {
   "cell_type": "code",
   "execution_count": null,
   "metadata": {},
   "outputs": [],
   "source": [
    "def print_msg(msg):\n",
    "    def printer():\n",
    "        print(msg)\n",
    "printer('Hello')"
   ]
  },
  {
   "cell_type": "code",
   "execution_count": null,
   "metadata": {},
   "outputs": [],
   "source": [
    "def min_of_cubes(x, y):\n",
    "    def cube(a):\n",
    "        result = a**3\n",
    "        return result\n",
    "\n",
    "    return min(cube(x), cube(y))\n",
    "#print(min_of_cubes(a=5))\n",
    "print(cube(a=5))"
   ]
  },
  {
   "cell_type": "markdown",
   "metadata": {},
   "source": [
    "Задание 2.3 (External resource)"
   ]
  },
  {
   "cell_type": "code",
   "execution_count": 183,
   "metadata": {},
   "outputs": [
    {
     "data": {
      "text/plain": [
       "9"
      ]
     },
     "execution_count": 183,
     "metadata": {},
     "output_type": "execute_result"
    }
   ],
   "source": [
    "def get_count_unique_symbols(s):\n",
    "    s=s.lower()\n",
    "    s=s.replace(' ','')\n",
    "    return len(set(s))\n",
    "get_count_unique_symbols('Это простая строка')"
   ]
  },
  {
   "cell_type": "markdown",
   "metadata": {},
   "source": [
    "Задание 2.4 (External resource)"
   ]
  },
  {
   "cell_type": "code",
   "execution_count": 185,
   "metadata": {},
   "outputs": [
    {
     "name": "stdout",
     "output_type": "stream",
     "text": [
      "Это простая строка\n",
      "Great phrase\n",
      "('школа', 'school')\n"
     ]
    }
   ],
   "source": [
    "def get_min_string(s1,s2):\n",
    "    def get_count_unique_symbols(s):\n",
    "        s=s.lower()\n",
    "        s=s.replace(' ','')\n",
    "        return len(set(s))\n",
    "    s1_len = get_count_unique_symbols(s1)\n",
    "    s2_len = get_count_unique_symbols(s2)\n",
    "    if s1_len<s2_len:\n",
    "        return s1 \n",
    "    if s2_len<s1_len:\n",
    "        return s2\n",
    "    if s1_len==s2_len:\n",
    "        return (s1,s2)\n",
    "print(get_min_string(s1='Это простая строка', s2='This is a simple string'))\n",
    "    ## Это простая строка\n",
    "print(get_min_string(s1='Отличная фраза', s2='Great phrase'))\n",
    "    ## Great phrase\n",
    "print(get_min_string(s1='школа', s2='school'))\n",
    "    ## ('школа', 'school')  \n",
    "    "
   ]
  },
  {
   "cell_type": "code",
   "execution_count": 186,
   "metadata": {},
   "outputs": [
    {
     "name": "stdout",
     "output_type": "stream",
     "text": [
      "250\n"
     ]
    }
   ],
   "source": [
    "num_students = 250\n",
    "print(num_students)"
   ]
  },
  {
   "cell_type": "code",
   "execution_count": 191,
   "metadata": {},
   "outputs": [
    {
     "name": "stdout",
     "output_type": "stream",
     "text": [
      "Employee John Doe is registered with the company TheBlindMice\n"
     ]
    }
   ],
   "source": [
    "\n",
    "def register_employee(name, surname):# объявляем внешнюю функцию для регистрации сотрудника\n",
    "    def create_full_name(): # объявляем функцию для промежуточных вычислений, функия использует внешние переменные NAME и surname\n",
    "        sep=' ' # разделитель между именем и фамилией\n",
    "        result= name+ sep+ surname\n",
    "        return result\n",
    "    # пошла работать внешняя функция\n",
    "    full_name=create_full_name()\n",
    "    print('Employee {} is registered with the company {}'.format(full_name,company_name))\n",
    "company_name = 'TheBlindMice' # Название компании\n",
    "register_employee('John','Doe') # Вызов функции"
   ]
  },
  {
   "cell_type": "code",
   "execution_count": 199,
   "metadata": {},
   "outputs": [
    {
     "name": "stdout",
     "output_type": "stream",
     "text": [
      "Employee John Doe is registered with the company TheBlindMice\n"
     ]
    }
   ],
   "source": [
    "\n",
    "def register_employee(name, surname):\n",
    "    # Объявляем функцию для промежуточных вычислений\n",
    "    def create_full_name():\n",
    "        # Функция использует внешние переменные name и surname\n",
    "        sep = ' ' # Разделитель между именем и фамилией\n",
    "        result = name + sep + surname # Вычисляем полное имя\n",
    "        return result\n",
    "    # Вызываем внутреннюю функцию\n",
    "    full_name = create_full_name()\n",
    "    #print(result)\n",
    "    # Выводим результат на экран, используя внешнюю переменную company_name\n",
    "    print('Employee {} is registered with the company {}'.format(full_name, company_name))\n",
    "company_name = 'TheBlindMice' # Название компании\n",
    "register_employee('John','Doe') # Вызов функции# Объявляем внешнюю функцию для регистрации сотрудников    \n",
    "\n",
    "\n",
    "## Будет выведено\n",
    "## Employee John Doe is registered with the company TheBlindMice"
   ]
  },
  {
   "cell_type": "code",
   "execution_count": 193,
   "metadata": {},
   "outputs": [
    {
     "name": "stdout",
     "output_type": "stream",
     "text": [
      "['ArithmeticError', 'AssertionError', 'AttributeError', 'BaseException', 'BlockingIOError', 'BrokenPipeError', 'BufferError', 'BytesWarning', 'ChildProcessError', 'ConnectionAbortedError', 'ConnectionError', 'ConnectionRefusedError', 'ConnectionResetError', 'DeprecationWarning', 'EOFError', 'Ellipsis', 'EnvironmentError', 'Exception', 'False', 'FileExistsError', 'FileNotFoundError', 'FloatingPointError', 'FutureWarning', 'GeneratorExit', 'IOError', 'ImportError', 'ImportWarning', 'IndentationError', 'IndexError', 'InterruptedError', 'IsADirectoryError', 'KeyError', 'KeyboardInterrupt', 'LookupError', 'MemoryError', 'ModuleNotFoundError', 'NameError', 'None', 'NotADirectoryError', 'NotImplemented', 'NotImplementedError', 'OSError', 'OverflowError', 'PendingDeprecationWarning', 'PermissionError', 'ProcessLookupError', 'RecursionError', 'ReferenceError', 'ResourceWarning', 'RuntimeError', 'RuntimeWarning', 'StopAsyncIteration', 'StopIteration', 'SyntaxError', 'SyntaxWarning', 'SystemError', 'SystemExit', 'TabError', 'TimeoutError', 'True', 'TypeError', 'UnboundLocalError', 'UnicodeDecodeError', 'UnicodeEncodeError', 'UnicodeError', 'UnicodeTranslateError', 'UnicodeWarning', 'UserWarning', 'ValueError', 'Warning', 'WindowsError', 'ZeroDivisionError', '__IPYTHON__', '__build_class__', '__debug__', '__doc__', '__import__', '__loader__', '__name__', '__package__', '__spec__', 'abs', 'all', 'any', 'ascii', 'bin', 'bool', 'breakpoint', 'bytearray', 'bytes', 'callable', 'chr', 'classmethod', 'compile', 'complex', 'copyright', 'credits', 'delattr', 'dict', 'dir', 'display', 'divmod', 'enumerate', 'eval', 'exec', 'execfile', 'filter', 'float', 'format', 'frozenset', 'get_ipython', 'getattr', 'globals', 'hasattr', 'hash', 'help', 'hex', 'id', 'input', 'int', 'isinstance', 'issubclass', 'iter', 'len', 'license', 'list', 'locals', 'map', 'max', 'memoryview', 'min', 'next', 'object', 'oct', 'open', 'ord', 'pow', 'print', 'property', 'range', 'repr', 'reversed', 'round', 'runfile', 'set', 'setattr', 'slice', 'sorted', 'staticmethod', 'str', 'sum', 'super', 'tuple', 'type', 'vars', 'zip']\n"
     ]
    }
   ],
   "source": [
    "print(dir(__builtins__))"
   ]
  },
  {
   "cell_type": "code",
   "execution_count": 200,
   "metadata": {},
   "outputs": [
    {
     "name": "stdout",
     "output_type": "stream",
     "text": [
      "global\n"
     ]
    }
   ],
   "source": [
    "value = 'global'\n",
    "def outer():\n",
    "    def inner():\n",
    "        print(value)\n",
    "    inner()\n",
    "\n",
    "# Вызов функции outer()\n",
    "outer()"
   ]
  },
  {
   "cell_type": "code",
   "execution_count": 201,
   "metadata": {},
   "outputs": [
    {
     "name": "stdout",
     "output_type": "stream",
     "text": [
      "enclosing\n"
     ]
    }
   ],
   "source": [
    "value = 'global'\n",
    "def outer():\n",
    "    value = 'enclosing'\n",
    "    def inner():\n",
    "        print(value)\n",
    "    inner()\n",
    "\n",
    "# Вызов функции outer()\n",
    "outer()"
   ]
  },
  {
   "cell_type": "code",
   "execution_count": 202,
   "metadata": {},
   "outputs": [
    {
     "name": "stdout",
     "output_type": "stream",
     "text": [
      "local\n"
     ]
    }
   ],
   "source": [
    "value = 'global'\n",
    "def outer():\n",
    "    value = 'enclosing'\n",
    "    def inner():\n",
    "        value = 'local'\n",
    "        print(value)\n",
    "    inner()\n",
    "# Вызов функции outer()\n",
    "outer()"
   ]
  },
  {
   "cell_type": "code",
   "execution_count": 203,
   "metadata": {},
   "outputs": [],
   "source": [
    "# Задаём общее количество студентов\n",
    "num_students = 250\n",
    "# Объявляем функцию для вычисления количества вебинаров\n",
    "# Параметр max_participants — максимальное количество участников\n",
    "def get_num_webinars(max_participants):\n",
    "    # Число вебинаров — количество студентов, нацело делённое на количество участников\n",
    "    num_webinars = num_students // max_participants\n",
    "    # Если при делении присутствует остаток\n",
    "    if (num_students % max_participants > 0):\n",
    "        # Добавляем ещё один вебинар для оставшихся студентов\n",
    "        num_webinars += 1\n",
    "    # Возвращаем количество вебинаров\n",
    "    return num_webinars\n",
    "\n",
    "# Вызываем функцию с максимальным количеством участников 15\n",
    "webinars = get_num_webinars(max_participants=15)"
   ]
  },
  {
   "cell_type": "markdown",
   "metadata": {},
   "source": [
    "Задание 2.9 (External resource)"
   ]
  },
  {
   "cell_type": "code",
   "execution_count": 207,
   "metadata": {},
   "outputs": [
    {
     "name": "stdout",
     "output_type": "stream",
     "text": [
      "78.54\n",
      "23.562\n"
     ]
    }
   ],
   "source": [
    "pi=3.1416\n",
    "def calculate_area_circle(r):\n",
    "    area=pi*r**2\n",
    "    return round(area,3)\n",
    "def calculate_area_ellipse(a,b):\n",
    "    area=pi*a*b\n",
    "    return round(area,3)\n",
    "pi=3.1416\n",
    "print(calculate_area_circle(r=5))\n",
    "## 78.54\n",
    "print(calculate_area_ellipse(a=3, b=2.5))\n",
    "## 23.562\n",
    "\n",
    "    \n",
    "\n"
   ]
  },
  {
   "cell_type": "code",
   "execution_count": 209,
   "metadata": {},
   "outputs": [
    {
     "name": "stdout",
     "output_type": "stream",
     "text": [
      "100\n",
      "10\n"
     ]
    }
   ],
   "source": [
    "# Объявляем глобальную переменную\n",
    "count = 10\n",
    "def function():\n",
    "    # Объявляем локальную переменную count\n",
    "    count = 100\n",
    "    print(count)\n",
    "# Вызываем функцию    \n",
    "function()\n",
    "# Смотрим, изменилась ли переменная count\n",
    "print(count)\n",
    "\n",
    "## Будет выведено:\n",
    "## 10"
   ]
  },
  {
   "cell_type": "code",
   "execution_count": 211,
   "metadata": {},
   "outputs": [
    {
     "name": "stdout",
     "output_type": "stream",
     "text": [
      "['foo', 'bar', 'baz']\n"
     ]
    }
   ],
   "source": [
    "# Объявляем глобальную переменную\n",
    "words_list = ['foo', 'bar', 'baz']\n",
    "def function():\n",
    "    # Изменяем элемент списка\n",
    "    words_list = ['foo', 'quux', 'baz']\n",
    "# Вызываем функцию\n",
    "function()\n",
    "print(words_list)\n",
    "\n",
    "## Будет выведено:\n",
    "## ['foo', 'quux', 'baz']"
   ]
  },
  {
   "cell_type": "code",
   "execution_count": 218,
   "metadata": {},
   "outputs": [
    {
     "name": "stdout",
     "output_type": "stream",
     "text": [
      "60\n"
     ]
    }
   ],
   "source": [
    "# Создадим глобальную переменную, изначально она равна 0\n",
    "\n",
    " \n",
    "# Создадим функцию, которая прибавляет 1 к переменной global_count\n",
    "def add_item():\n",
    "    # Здесь мог бы быть код для добавления товара в базу данных\n",
    "    # Увеличим общее количество товаров на 1\n",
    "    global global_count\n",
    "    global_count = 50\n",
    "    global_count = global_count + 10\n",
    " \n",
    "# Вызовем функцию add_item()\n",
    "add_item()\n",
    "# Напечатаем значение переменной global_count\n",
    "print(global_count)\n",
    " \n",
    "## Возникнет ошибка:\n",
    "## UnboundLocalError: local variable 'global_count' referenced before assignment"
   ]
  },
  {
   "cell_type": "code",
   "execution_count": 219,
   "metadata": {},
   "outputs": [
    {
     "name": "stdout",
     "output_type": "stream",
     "text": [
      "300\n"
     ]
    }
   ],
   "source": [
    "num_students = 250\n",
    "\n",
    "def add_new_students(num_new):\n",
    "    global num_students\n",
    "    num_students += num_new\n",
    "\n",
    "add_new_students(50)\n",
    "print(num_students)\n",
    "\n",
    "## 300"
   ]
  },
  {
   "cell_type": "code",
   "execution_count": 220,
   "metadata": {},
   "outputs": [
    {
     "name": "stdout",
     "output_type": "stream",
     "text": [
      "300\n"
     ]
    }
   ],
   "source": [
    "num_students = 250\n",
    "\n",
    "def add_new_students(num_students, num_new):\n",
    "    num_students += num_new\n",
    "    return num_students\n",
    "\n",
    "num_students = add_new_students(num_students, 50)\n",
    "print(num_students)\n",
    "\n",
    "## 300"
   ]
  },
  {
   "cell_type": "code",
   "execution_count": 223,
   "metadata": {},
   "outputs": [
    {
     "name": "stdout",
     "output_type": "stream",
     "text": [
      "10\n",
      "6\n"
     ]
    }
   ],
   "source": [
    "c = -2\n",
    "\n",
    "def outer1(a, b):\n",
    "    c = 2\n",
    "    d = a + b + c\n",
    "    return d\n",
    "\n",
    "def outer2(a, b):\n",
    "    global c\n",
    "    d = a + b + c\n",
    "    return d\n",
    "print(outer1(a=5, b=3))\n",
    "print(outer2(a=5, b=3))"
   ]
  },
  {
   "cell_type": "code",
   "execution_count": 224,
   "metadata": {},
   "outputs": [
    {
     "name": "stdout",
     "output_type": "stream",
     "text": [
      "199000\n"
     ]
    }
   ],
   "source": [
    "def cash(less_money):\n",
    "    global money\n",
    "    money -= less_money\n",
    "    return money\n",
    "money = 200000\n",
    "print(cash(1000))"
   ]
  },
  {
   "cell_type": "code",
   "execution_count": 227,
   "metadata": {},
   "outputs": [
    {
     "ename": "TypeError",
     "evalue": "convert() takes 1 positional argument but 3 were given",
     "output_type": "error",
     "traceback": [
      "\u001b[1;31m---------------------------------------------------------------------------\u001b[0m",
      "\u001b[1;31mTypeError\u001b[0m                                 Traceback (most recent call last)",
      "Cell \u001b[1;32mIn[227], line 12\u001b[0m\n\u001b[0;32m      9\u001b[0m     \u001b[39m# Производим конвертацию - делим количество денег на счету на соответствующий курс\u001b[39;00m\n\u001b[0;32m     10\u001b[0m     money \u001b[39m=\u001b[39m money \u001b[39m/\u001b[39m currencies[currency]\n\u001b[1;32m---> 12\u001b[0m convert_money \u001b[39m=\u001b[39m convert(currencies, money, \u001b[39m'\u001b[39;49m\u001b[39mUSD\u001b[39;49m\u001b[39m'\u001b[39;49m)  \n\u001b[0;32m     13\u001b[0m \u001b[39mprint\u001b[39m(convert_money)  \n",
      "\u001b[1;31mTypeError\u001b[0m: convert() takes 1 positional argument but 3 were given"
     ]
    }
   ],
   "source": [
    "# Словарь с курсами валют (по отношению к рублю)\n",
    "currencies = {'USD': 74, 'EUR': 88, 'GBP': 98 , 'CHF': 82}\n",
    "\n",
    "money = 100000\n",
    "# Функция для конвертации валюты, аргумент - наименование валюты\n",
    "def convert(currency):\n",
    "    # Объявляем, что money - глобальная переменная\n",
    "    global money\n",
    "    # Производим конвертацию - делим количество денег на счету на соответствующий курс\n",
    "    money = money / currencies[currency]\n",
    "\n",
    "convert_money = convert(currencies, money, 'USD')  \n",
    "print(convert_money)  "
   ]
  },
  {
   "cell_type": "code",
   "execution_count": 232,
   "metadata": {},
   "outputs": [
    {
     "name": "stdout",
     "output_type": "stream",
     "text": [
      "161\n"
     ]
    }
   ],
   "source": [
    "# Внешняя функция\n",
    "def outer():\n",
    "    # Создадим переменную, относящуюся к внешней функции\n",
    "    enclosing_count = 50\n",
    "    # Внутренняя функция\n",
    "    def inner():\n",
    "        # Прибавим 1 к enclosing_count\n",
    "        nonlocal enclosing_count\n",
    "        enclosing_count = enclosing_count + 111\n",
    "        # Напечатаем значение enclosing_count\n",
    "        print(enclosing_count)\n",
    "    # Запустим внутреннюю функцию из внешней\n",
    "    inner()\n",
    " \n",
    "# Запустим внешнюю функцию\n",
    "outer()\n",
    "\n",
    "# Возникнет ошибка:\n",
    "# UnboundLocalError: local variable 'enclosing_count' referenced before assignment"
   ]
  },
  {
   "cell_type": "code",
   "execution_count": 239,
   "metadata": {},
   "outputs": [
    {
     "name": "stdout",
     "output_type": "stream",
     "text": [
      "Некорректный формат скидки\n"
     ]
    },
    {
     "ename": "TypeError",
     "evalue": "unsupported operand type(s) for -: 'int' and 'tuple'",
     "output_type": "error",
     "traceback": [
      "\u001b[1;31m---------------------------------------------------------------------------\u001b[0m",
      "\u001b[1;31mTypeError\u001b[0m                                 Traceback (most recent call last)",
      "Cell \u001b[1;32mIn[239], line 19\u001b[0m\n\u001b[0;32m     15\u001b[0m     \u001b[39mreturn\u001b[39;00m cost \u001b[39m-\u001b[39m cost \u001b[39m*\u001b[39m sale\n\u001b[0;32m     16\u001b[0m \u001b[39m#print(calculate_cost(1330, '15%'))\u001b[39;00m\n\u001b[0;32m     17\u001b[0m \u001b[39m#print(calculate_cost(1330, 15))\u001b[39;00m\n\u001b[0;32m     18\u001b[0m \u001b[39m#print(calculate_cost(1330, 0.15))\u001b[39;00m\n\u001b[1;32m---> 19\u001b[0m \u001b[39mprint\u001b[39m(calculate_cost(\u001b[39m1330\u001b[39;49m, (\u001b[39m15\u001b[39;49m,\u001b[39m3\u001b[39;49m)))\n",
      "Cell \u001b[1;32mIn[239], line 15\u001b[0m, in \u001b[0;36mcalculate_cost\u001b[1;34m(cost, sale)\u001b[0m\n\u001b[0;32m     12\u001b[0m preprocessing_sale()                \n\u001b[0;32m     13\u001b[0m \u001b[39m# Считаем итоговую стоимость и возвращаем её\u001b[39;00m\n\u001b[0;32m     14\u001b[0m \u001b[39m# (стоимость — стоимость * скидка)           \u001b[39;00m\n\u001b[1;32m---> 15\u001b[0m \u001b[39mreturn\u001b[39;00m cost \u001b[39m-\u001b[39;49m cost \u001b[39m*\u001b[39;49m sale\n",
      "\u001b[1;31mTypeError\u001b[0m: unsupported operand type(s) for -: 'int' and 'tuple'"
     ]
    }
   ],
   "source": [
    "# Функция для вычисления стоимости\n",
    "# Аргументы — cost (стоимость), sale (размер скидки)\n",
    "def calculate_cost(cost, sale):\n",
    "    def preprocessing_sale():\n",
    "        nonlocal sale\n",
    "        if type(sale) is str:\n",
    "            sale=float(sale.replace('%',''))/100\n",
    "        elif type(sale) is int:\n",
    "            sale=sale/100\n",
    "        else:\n",
    "            print(\"Некорректный формат скидки\")\n",
    "    preprocessing_sale()                \n",
    "    # Считаем итоговую стоимость и возвращаем её\n",
    "    # (стоимость — стоимость * скидка)           \n",
    "    return cost - cost * sale\n",
    "#print(calculate_cost(1330, '15%'))\n",
    "#print(calculate_cost(1330, 15))\n",
    "#print(calculate_cost(1330, 0.15))\n",
    "print(calculate_cost(1330, (15,3)))"
   ]
  },
  {
   "cell_type": "code",
   "execution_count": 242,
   "metadata": {},
   "outputs": [
    {
     "name": "stdout",
     "output_type": "stream",
     "text": [
      "100\n"
     ]
    }
   ],
   "source": [
    "def total_multiplier(n):\n",
    "    total = 0\n",
    "    def multiplier():\n",
    "        nonlocal total\n",
    "        product = 10 * n\n",
    "        total += product\n",
    "        return total\n",
    "    return multiplier()\n",
    "print(total_multiplier(10))"
   ]
  },
  {
   "cell_type": "code",
   "execution_count": 244,
   "metadata": {},
   "outputs": [
    {
     "data": {
      "text/plain": [
       "2"
      ]
     },
     "execution_count": 244,
     "metadata": {},
     "output_type": "execute_result"
    }
   ],
   "source": [
    "# Функция для вычисления количества символов (symbol) в строке s\n",
    "def count_occurrences(s, symbol):\n",
    "    # Внутренняя функция для предобработки строки s\n",
    "    def preprocessing_s():\n",
    "        nonlocal s\n",
    "        # Удаляем пробелы из строки\n",
    "        s = s.replace(' ', '')\n",
    "        # Приводим строку к нижнему регистру\n",
    "        s = s.lower()\n",
    "    # Вызываем функцию для предобработки аргумента s\n",
    "    preprocessing_s()\n",
    "    # Считаем количество символов symbol в строке s и возвращаем результат\n",
    "    return s.count(symbol)\n",
    "count_occurrences('This is simple string', symbol='t')\n",
    "## 2"
   ]
  },
  {
   "cell_type": "code",
   "execution_count": null,
   "metadata": {},
   "outputs": [],
   "source": [
    "advertising_campaigns = {'ютуб': [212, 248], 'вк': [514, 342], 'радио': [339, 125]}\n",
    "# Создаём новый пустой словарь\n",
    "advertising_campaigns_max = {}\n",
    "# Создаём цикл по ключам исходного словаря\n",
    "for key in advertising_campaigns:\n",
    "    # Создаём в новом словаре ключ key\n",
    "    # И присваиваем ему значение — максимум по списку,\n",
    "    # лежащему по ключу key в изначальном словаре\n",
    "    advertising_campaigns_max[key] = max(advertising_campaigns[key])"
   ]
  },
  {
   "cell_type": "code",
   "execution_count": 257,
   "metadata": {},
   "outputs": [
    {
     "name": "stdout",
     "output_type": "stream",
     "text": [
      "['мама мыла раму раму мыла мама', 'hello  world']\n"
     ]
    }
   ],
   "source": [
    "# Внешняя функция для обработки списка из строк\n",
    "def processing_list(answers):\n",
    "    # Внутренняя функция для выполнения обработки одного элемента списка\n",
    "    def preprocessing_answer(answer):\n",
    "        # Приводим к нижнему регистру\n",
    "        answer = answer.lower()\n",
    "        # Удаляем стоп-символы \n",
    "        stop_symbols = '\"#$%&\\'()*+,-./:;<=>?@[\\\\]^_`{|}~!'\n",
    "        # Создаём цикл по символам в строке\n",
    "        for sym in stop_symbols:\n",
    "            # Если стоп-символ есть в строке answer\n",
    "            if sym in answer:\n",
    "                # Заменяем стоп-символы в строке на пустые строки\n",
    "                answer = answer.replace(sym, '')\n",
    "        return answer\n",
    "    # Создаём пустой список, куда будем добавлять результаты\n",
    "    result = []\n",
    "    # Создаеё цикл по всем элементам списка\n",
    "    for answer in answers:\n",
    "         # Добавляем предобработанную строку в лог-список\n",
    "        result.append(preprocessing_answer(answer))  \n",
    "    return result\n",
    "print(processing_list(['Мама мыла раму, раму мыла мама', 'Hello & world!']))"
   ]
  },
  {
   "cell_type": "code",
   "execution_count": 287,
   "metadata": {},
   "outputs": [
    {
     "name": "stdout",
     "output_type": "stream",
     "text": [
      "[('Petrova', 'Maria', 'Ivanovna', 13, 3, 2003), ('Ivanov', 'Sergej', None, 24, 9, 1995), ('Smith', 'John', None, 13, 2, 2003)]\n"
     ]
    }
   ],
   "source": [
    "# Функция для проверки корректности даты\n",
    "def check_date(day, month, year):\n",
    "    def is_leap(year):\n",
    "        if year % 400 == 0: return True\n",
    "        if year % 100 == 0: return False\n",
    "        if year % 4 == 0: return True\n",
    "        return False\n",
    "    # Проверяем день, месяц и год на целочисленность\n",
    "    if (type(day) is not int) or (type(month) is not int) or (type(year) is not int):\n",
    "        return False\n",
    "    # Проверяем год на заданный диапазон\n",
    "    if (year <= 1900) or (year >= 2022):\n",
    "        return False\n",
    "    # Проверяем месяц на заданный диапазон     \n",
    "    if (month < 1) or (month > 12):\n",
    "        return False\n",
    "    # Проверяем день на заданный диапазон  \n",
    "    if (day < 1) or (day > 31): \n",
    "        return False\n",
    "    # Проверяем апрель, июнь, сентябрь и ноябрь на количество дней\n",
    "    if (month in [4,6,9,11]) and (day > 30):\n",
    "        return False\n",
    "    # Проверяем количество дней в феврале\n",
    "    if month == 2:\n",
    "        # Проверяем високосность года\n",
    "        if is_leap(year):\n",
    "            if day > 29: return False\n",
    "        else:\n",
    "            if day > 28: return False\n",
    "    return True\n",
    "\n",
    "# Функция для регистрации пользователей\n",
    "def register(surname, name, date, middle_name=None, registry=None):\n",
    "    # Вспомогательная функция для предобработки даты\n",
    "    def preprocessing_date(date):\n",
    "        day, month, year = date.split('.')\n",
    "        day, month, year = int(day), int(month), int(year)\n",
    "        return day, month, year\n",
    "    # Если список не был передан — создаём пустой список\n",
    "    if registry is None:\n",
    "        registry = list()\n",
    "    # Разделяем дату на составляющие\n",
    "    day, month, year = preprocessing_date(date)\n",
    "    # Проверяем корректность даты\n",
    "    if check_date(day, month, year):\n",
    "        # Добавляем данные в список\n",
    "        registry.append((surname, name, middle_name, day, month, year))\n",
    "        return registry\n",
    "    else:\n",
    "        raise ValueError(\"Invalid Date!\")\n",
    "reg = register('Petrova', 'Maria', '13.03.2003', 'Ivanovna')\n",
    "reg = register('Ivanov', 'Sergej', '24.09.1995', registry=reg)\n",
    "reg = register('Smith', 'John', '13.02.2003', registry=reg)\n",
    "#reg = register('Ivanov', 'Sergej', '24.13.1995')\n",
    "print(reg)\n",
    "## [('Petrova', 'Maria', 'Ivanovna', 13, 3, 2003), ('Ivanov', 'Sergej', None, 24, 9, 1995), ('Smith', 'John', None, 13, 2, 2003)]\n",
    "\n",
    "\n",
    "## ValueError: Invalid Date!"
   ]
  },
  {
   "cell_type": "code",
   "execution_count": 281,
   "metadata": {},
   "outputs": [
    {
     "name": "stdout",
     "output_type": "stream",
     "text": [
      "True\n",
      "True\n",
      "False\n",
      "False\n",
      "False\n"
     ]
    }
   ],
   "source": [
    "# Функция для проверки корректности даты\n",
    "def check_date(day, month, year):\n",
    "    def is_leap(year):\n",
    "        if year % 400 == 0: return True\n",
    "        if year % 100 == 0: return False\n",
    "        if year % 4 == 0: return True\n",
    "        return False\n",
    "    # проверяем день меясц и год на целочисленность\n",
    "    if (type(day) is not int) or (type(month) is not int) or (type(year) is not int):\n",
    "        return False\n",
    "    # проверяем год на заданный диапазон\n",
    "    if (year <=1990) or (year>=2023):\n",
    "        return False\n",
    "    # проверяем меясц на заданный диапазон\n",
    "    if (month <1) or (month>12):\n",
    "        return False\n",
    "    # проверяем день на заданный диапазон\n",
    "    if (day<1) or (day>31):\n",
    "        return False\n",
    "    # проверяем апрель, июнь, сентябрь и ноябрь на количество дней\n",
    "    if (month in [4,6,9,11]) and (day>30):\n",
    "        return False\n",
    "    # проверяем количество дней в феврале\n",
    "    if month == 2:\n",
    "        # Проверяем високосность года\n",
    "        if is_leap(year):\n",
    "            if day > 29: return False\n",
    "        else:\n",
    "            if day > 28: return False\n",
    "    return True \n",
    "print(check_date(18, 9, 1999))\n",
    "# True\n",
    "print(check_date(29, 2, 2000))\n",
    "# True\n",
    "print(check_date(29, 2, 2021))\n",
    "# False\n",
    "print(check_date(13, 13, 2021))\n",
    "# False\n",
    "print(check_date(13.5, 12, 2021))\n",
    "# False"
   ]
  },
  {
   "cell_type": "markdown",
   "metadata": {},
   "source": [
    "В теле функции задайте три условия: год нацело делится на 400, 100 и 4. Если выполняется первое и последнее условие — функция возвращает True, если выполняется второе условие или не выполняются ни одно из перечисленных — функция возвращает False."
   ]
  },
  {
   "cell_type": "code",
   "execution_count": 276,
   "metadata": {},
   "outputs": [
    {
     "name": "stdout",
     "output_type": "stream",
     "text": [
      "True\n",
      "False\n",
      "True\n",
      "False\n"
     ]
    }
   ],
   "source": [
    "def is_leap(year):\n",
    "    if year % 400 == 0: return True\n",
    "    if year % 100 == 0: return False\n",
    "    if year % 4 == 0: return True\n",
    "    return False\n",
    "print(is_leap(2000))\n",
    "# True\n",
    "print(is_leap(1900))\n",
    "# False\n",
    "print(is_leap(2020))\n",
    "# True\n",
    "print(is_leap(1700))\n",
    "# False"
   ]
  },
  {
   "cell_type": "code",
   "execution_count": 299,
   "metadata": {},
   "outputs": [
    {
     "name": "stdout",
     "output_type": "stream",
     "text": [
      "{'a': 2.1360009363293826, 'b': 2.692582403567252, 'c': 4.422951503238533, 'perimeter': 9.251534843135168, 'area': 2.1250000000000027}\n",
      "{'a': 3.0, 'b': 4.0, 'c': 5.0, 'perimeter': 12.0, 'area': 6.0}\n"
     ]
    },
    {
     "ename": "ValueError",
     "evalue": "Треугольник не существует",
     "output_type": "error",
     "traceback": [
      "\u001b[1;31m---------------------------------------------------------------------------\u001b[0m",
      "\u001b[1;31mValueError\u001b[0m                                Traceback (most recent call last)",
      "Cell \u001b[1;32mIn[299], line 39\u001b[0m\n\u001b[0;32m     37\u001b[0m \u001b[39mprint\u001b[39m(triangle(p1\u001b[39m=\u001b[39m(\u001b[39m1\u001b[39m, \u001b[39m1\u001b[39m), p2\u001b[39m=\u001b[39m(\u001b[39m1\u001b[39m, \u001b[39m4\u001b[39m), p3\u001b[39m=\u001b[39m(\u001b[39m5\u001b[39m, \u001b[39m1\u001b[39m)))\n\u001b[0;32m     38\u001b[0m \u001b[39m## {'a': 3.0, 'b': 4.0, 'c': 5.0, 'perimeter': 12.0, 'area': 6.0}\u001b[39;00m\n\u001b[1;32m---> 39\u001b[0m \u001b[39mprint\u001b[39m(triangle(p1\u001b[39m=\u001b[39;49m(\u001b[39m2.5\u001b[39;49m, \u001b[39m2\u001b[39;49m), p2\u001b[39m=\u001b[39;49m(\u001b[39m4\u001b[39;49m, \u001b[39m1\u001b[39;49m), p3\u001b[39m=\u001b[39;49m(\u001b[39m1\u001b[39;49m, \u001b[39m3\u001b[39;49m)))\n\u001b[0;32m     40\u001b[0m \u001b[39m## ValueError: Треугольник не существует\u001b[39;00m\n",
      "Cell \u001b[1;32mIn[299], line 32\u001b[0m, in \u001b[0;36mtriangle\u001b[1;34m(p1, p2, p3)\u001b[0m\n\u001b[0;32m     30\u001b[0m perimeter \u001b[39m=\u001b[39m calculate_perimeter_triangle(a, b, c)\n\u001b[0;32m     31\u001b[0m area \u001b[39m=\u001b[39m calculate_area_triangle(a, b, c)\n\u001b[1;32m---> 32\u001b[0m check_exist_triangle(a,b,c)\n\u001b[0;32m     33\u001b[0m result \u001b[39m=\u001b[39m {\u001b[39m'\u001b[39m\u001b[39ma\u001b[39m\u001b[39m'\u001b[39m: a, \u001b[39m'\u001b[39m\u001b[39mb\u001b[39m\u001b[39m'\u001b[39m: b, \u001b[39m'\u001b[39m\u001b[39mc\u001b[39m\u001b[39m'\u001b[39m: c, \u001b[39m'\u001b[39m\u001b[39mperimeter\u001b[39m\u001b[39m'\u001b[39m: perimeter, \u001b[39m'\u001b[39m\u001b[39marea\u001b[39m\u001b[39m'\u001b[39m: area}\n\u001b[0;32m     34\u001b[0m \u001b[39mreturn\u001b[39;00m result\n",
      "Cell \u001b[1;32mIn[299], line 18\u001b[0m, in \u001b[0;36mtriangle.<locals>.check_exist_triangle\u001b[1;34m(a, b, c)\u001b[0m\n\u001b[0;32m     16\u001b[0m     \u001b[39mreturn\u001b[39;00m \u001b[39mTrue\u001b[39;00m\n\u001b[0;32m     17\u001b[0m \u001b[39melse\u001b[39;00m:\n\u001b[1;32m---> 18\u001b[0m     \u001b[39mraise\u001b[39;00m \u001b[39mValueError\u001b[39;00m(\u001b[39m\"\u001b[39m\u001b[39mТреугольник не существует\u001b[39m\u001b[39m\"\u001b[39m)\n",
      "\u001b[1;31mValueError\u001b[0m: Треугольник не существует"
     ]
    }
   ],
   "source": [
    "def triangle(p1, p2, p3):\n",
    "    # Функция для вычисления сторон треугольника\n",
    "    # По умолчанию параметры функции берутся из объемлющей области видимости\n",
    "    def sides(p1, p2, p3):\n",
    "    # Распаковываем кортежи для удобства\n",
    "        x1, y1 = p1\n",
    "        x2, y2 = p2\n",
    "        x3, y3 = p3\n",
    "    # Вычисляем стороны по теореме Пифагора\n",
    "        a = ((x2 - x1) ** 2 + (y2 - y1)** 2) ** 0.5\n",
    "        b = ((x3 - x1) ** 2 + (y3 - y1)** 2) ** 0.5\n",
    "        c = ((x3 - x2) ** 2 + (y3 - y2)** 2) ** 0.5\n",
    "        return a, b, c\n",
    "    def check_exist_triangle(a, b, c):\n",
    "        if (a+b>c) and (a+c>b) and (b+c>a):\n",
    "            return True\n",
    "        else:\n",
    "            raise ValueError(\"Треугольник не существует\")\n",
    "    def calculate_perimeter_triangle(a, b, c):\n",
    "    # Периметр — сумма всех сторон треугольника\n",
    "        perimeter = a + b + c\n",
    "        return perimeter\n",
    "    def calculate_area_triangle(a, b, c):\n",
    "    # Вычисляем полупериметр \n",
    "        p = calculate_perimeter_triangle(a, b, c) / 2\n",
    "    # Вычисляем площадь по формуле Герона\n",
    "        area = (p * (p - a) * (p - b) * (p - c)) ** 0.5\n",
    "        return area\n",
    "    a, b, c = sides(p1, p2, p3)\n",
    "    perimeter = calculate_perimeter_triangle(a, b, c)\n",
    "    area = calculate_area_triangle(a, b, c)\n",
    "    check_exist_triangle(a,b,c)\n",
    "    result = {'a': a, 'b': b, 'c': c, 'perimeter': perimeter, 'area': area}\n",
    "    return result\n",
    "print(triangle(p1=(2, 2), p2=(4, 1.25), p3=(1, 4.5)))\n",
    "## {'a': 2.1360009363293826, 'b': 2.692582403567252, 'c': 4.422951503238533, 'perimeter': 9.251534843135168, 'area': 2.1250000000000027}\n",
    "print(triangle(p1=(1, 1), p2=(1, 4), p3=(5, 1)))\n",
    "## {'a': 3.0, 'b': 4.0, 'c': 5.0, 'perimeter': 12.0, 'area': 6.0}\n",
    "print(triangle(p1=(2.5, 2), p2=(4, 1), p3=(1, 3)))\n",
    "## ValueError: Треугольник не существует"
   ]
  },
  {
   "cell_type": "code",
   "execution_count": null,
   "metadata": {},
   "outputs": [],
   "source": [
    "def check_exist_triangle(a, b, c):\n",
    "    if (a+b>c) and (a+c>b) and (b+c>a)\n",
    "        return True\n",
    "    else:\n",
    "        return False\n",
    "    "
   ]
  },
  {
   "cell_type": "code",
   "execution_count": 300,
   "metadata": {},
   "outputs": [
    {
     "name": "stdout",
     "output_type": "stream",
     "text": [
      "2.23606797749979\n",
      "1.4142135623730951\n"
     ]
    }
   ],
   "source": [
    "\n",
    "def radius(p1, p2):\n",
    "    x1, y1 = p1; x2, y2 = p2\n",
    "    result = ((x2 - x1) ** 2 + (y2 - y1)** 2) ** 0.5\n",
    "    return result\n",
    "pi = 3.1416\n",
    "print(circle(p1=(3, 2.5), p2=(4, 4.5)))\n",
    "## {'radius': 2.236, 'circumference': 14.05, 'area': 15.708}\n",
    "\n",
    "pi = 3.1416\n",
    "print(circle(p1=(0, 0), p2=(1, 1)))\n",
    "## {'radius': 1.414, 'circumference': 8.886, 'area': 6.283}\n",
    "\n",
    "pi = 3.14\n",
    "print(circle(p1=(3, 2.5), p2=(4, 4.5)))\n",
    "## {'radius': 2.236, 'circumference': 14.043, 'area': 15.7}"
   ]
  },
  {
   "cell_type": "code",
   "execution_count": 1,
   "metadata": {},
   "outputs": [
    {
     "name": "stdout",
     "output_type": "stream",
     "text": [
      "[10, 21, 24, 12]\n",
      "[21, 24, 12]\n",
      "[24, 12]\n",
      "[12]\n",
      "[]\n",
      "67\n"
     ]
    }
   ],
   "source": [
    "def sum_lst (lst):\n",
    "    print(lst)\n",
    "    if len(lst)==0:# задаем условие выхода из рекурсии\n",
    "        return 0\n",
    "    return lst[0]+ sum_lst(lst[1:]) # Во всех других случаях возвращаем сумму первого элемента списка и результат сумирования оставшихся\n",
    "my_lst = [10, 21, 24, 12]\n",
    "print(sum_lst(my_lst))"
   ]
  },
  {
   "cell_type": "code",
   "execution_count": 3,
   "metadata": {},
   "outputs": [
    {
     "name": "stdout",
     "output_type": "stream",
     "text": [
      "67\n"
     ]
    }
   ],
   "source": [
    "def sum_lst(lst):\n",
    "    # Выводим текущее значение lst\n",
    "    print(lst)\n",
    "    # Задаем условие выхода из рекурсии\n",
    "    if not lst:\n",
    "        return 0\n",
    "    # Во всех других случаях возвращаем\n",
    "    # сумму первого элемента списка \n",
    "    # и результат суммирования оставшихся\n",
    "    return lst[0] + sum_lst(lst[1:])\n",
    "my_lst = [10, 21, 24, 12]\n",
    "#print(sum_lst(my_lst))\n",
    "print(sum(my_lst))"
   ]
  },
  {
   "cell_type": "markdown",
   "metadata": {},
   "source": [
    "Задание 5.4 (External resource)"
   ]
  },
  {
   "cell_type": "code",
   "execution_count": 5,
   "metadata": {},
   "outputs": [
    {
     "name": "stdout",
     "output_type": "stream",
     "text": [
      "15.0\n",
      "1\n"
     ]
    }
   ],
   "source": [
    "def multiply_lst(lst):\n",
    "    if not lst:\n",
    "        return 1\n",
    "    return lst[0] * multiply_lst(lst[1:])\n",
    "\n",
    "print(multiply_lst([1, 5, 2, 1.5]))\n",
    "## 15\n",
    "print(multiply_lst([]))\n",
    "## 1 "
   ]
  },
  {
   "cell_type": "markdown",
   "metadata": {},
   "source": [
    "Задание 5.5 (External resource)"
   ]
  },
  {
   "cell_type": "code",
   "execution_count": 16,
   "metadata": {},
   "outputs": [
    {
     "name": "stdout",
     "output_type": "stream",
     "text": [
      "0.475\n",
      "1.975\n",
      "0\n"
     ]
    }
   ],
   "source": [
    "def inv_sum_list(lst):\n",
    "    if len(lst) == 0:\n",
    "        return 0\n",
    "    return 1/lst[0] + inv_sum_list(lst[1:])\n",
    "\n",
    "print(inv_sum_list([10, 4, 8]))\n",
    "## 0.475\n",
    "print(inv_sum_list([10, 1, 2, 4, 8]))\n",
    "## 1.975\n",
    "print(inv_sum_list([]))\n",
    "## 0"
   ]
  },
  {
   "cell_type": "code",
   "execution_count": 17,
   "metadata": {},
   "outputs": [
    {
     "name": "stdout",
     "output_type": "stream",
     "text": [
      "1\n",
      "6\n",
      "120\n"
     ]
    }
   ],
   "source": [
    "def factorial(n):\n",
    "    # Задаём условия выхода из рекурсии:\n",
    "    if n==0: return 1\n",
    "    if n==1: return 1\n",
    "    # Во всех других случаях возвращаем\n",
    "    # произведение текущего числа n и функции от n-1\n",
    "    return factorial(n-1)*n\n",
    "print(factorial(0))\n",
    "print(factorial(3))\n",
    "print(factorial(5))"
   ]
  },
  {
   "cell_type": "markdown",
   "metadata": {},
   "source": [
    "Задание 5.6 (External resource)"
   ]
  },
  {
   "cell_type": "code",
   "execution_count": 1,
   "metadata": {},
   "outputs": [
    {
     "name": "stdout",
     "output_type": "stream",
     "text": [
      "252.0\n",
      "220.0\n",
      "1.0\n",
      "1.0\n"
     ]
    },
    {
     "ename": "NameError",
     "evalue": "name 'factorial' is not defined",
     "output_type": "error",
     "traceback": [
      "\u001b[1;31m---------------------------------------------------------------------------\u001b[0m",
      "\u001b[1;31mNameError\u001b[0m                                 Traceback (most recent call last)",
      "Cell \u001b[1;32mIn[1], line 18\u001b[0m\n\u001b[0;32m     16\u001b[0m \u001b[39m## 1.0\u001b[39;00m\n\u001b[0;32m     17\u001b[0m \u001b[39mprint\u001b[39m(combination(n\u001b[39m=\u001b[39m\u001b[39m0\u001b[39m, k\u001b[39m=\u001b[39m\u001b[39m0\u001b[39m))\n\u001b[1;32m---> 18\u001b[0m \u001b[39mprint\u001b[39m(\u001b[39mlen\u001b[39m(\u001b[39mstr\u001b[39m(factorial(\u001b[39m969\u001b[39m))))\n\u001b[0;32m     19\u001b[0m \u001b[39mprint\u001b[39m(\u001b[39mlen\u001b[39m(\u001b[39mstr\u001b[39m(factorial(\u001b[39m1000\u001b[39m))))\n\u001b[0;32m     20\u001b[0m \u001b[39m## 1.0\u001b[39;00m\n",
      "\u001b[1;31mNameError\u001b[0m: name 'factorial' is not defined"
     ]
    }
   ],
   "source": [
    "def combination(n, k):\n",
    "    def factorial(n):\n",
    "    # Задаём условия выхода из рекурсии:\n",
    "        if n==0: return 1\n",
    "        if n==1: return 1\n",
    "    # Во всех других случаях возвращаем\n",
    "    # произведение текущего числа n и функции от n-1\n",
    "        return factorial(n-1)*n\n",
    "    C=factorial (n)/ (factorial(n-k)*factorial (k))\n",
    "    return C\n",
    "print(combination(n=10, k=5))\n",
    "## 252.0\n",
    "print(combination(n=12, k=3))\n",
    "## 220.0\n",
    "print(combination(n=1, k=1))\n",
    "## 1.0\n",
    "print(combination(n=0, k=0))\n",
    "print(len(str(factorial(969))))\n",
    "print(len(str(factorial(1000))))\n",
    "## 1.0"
   ]
  },
  {
   "cell_type": "code",
   "execution_count": null,
   "metadata": {},
   "outputs": [],
   "source": [
    "from time import time\n",
    "import sys\n",
    "# Увеличим глубину рекурсии\n",
    "sys.setrecursionlimit(1000000000)\n",
    "# Объявляем рекурсивную функцию для расчёта факториала\n",
    "def factorial(n):\n",
    "    if n==0: return 1\n",
    "    if n==1: return 1\n",
    "    return factorial(n-1)*n\n",
    "# Засекаем время до начала выполнения цикла\n",
    "a = time()\n",
    "for i in range(100):\n",
    "    factorial(10000)\n",
    "# Засекаем время после выполнения цикла\n",
    "b = time()\n",
    "# Считаем разницу: вычисляем время, потраченное на выполнение\n",
    "print(b-a)\n",
    "\n",
    "# Будет напечатано:\n",
    "# 4.058465242385864"
   ]
  },
  {
   "cell_type": "code",
   "execution_count": 4,
   "metadata": {},
   "outputs": [
    {
     "name": "stdout",
     "output_type": "stream",
     "text": [
      "5050\n"
     ]
    }
   ],
   "source": [
    "def sum_num(n):\n",
    "    if n==0:\n",
    "        return 0\n",
    "    return sum_num(n-1) + n\n",
    "print(sum_num(100))"
   ]
  },
  {
   "cell_type": "code",
   "execution_count": 11,
   "metadata": {},
   "outputs": [
    {
     "name": "stdout",
     "output_type": "stream",
     "text": [
      "1\n",
      "1\n",
      "17711\n"
     ]
    }
   ],
   "source": [
    "def fib(n):\n",
    "    if n==1 or n==2:\n",
    "        return 1\n",
    "    return fib(n-1)+fib(n-2)    \n",
    "print(fib(1))\n",
    "# 1\n",
    "print(fib(2))\n",
    "# 1\n",
    "print(fib(22))\n",
    "# 8"
   ]
  },
  {
   "cell_type": "code",
   "execution_count": null,
   "metadata": {},
   "outputs": [],
   "source": [
    "def enter_account():\n",
    "    def check_userdata():\n",
    "        # Код для проверки логина и пароля\n",
    "        return\n",
    "    # Вызываем функцию check_userdata()\n",
    "    check_userdata()\n",
    "    # Код для входа в аккаунт\n",
    "\n",
    "# Вызываем функцию для входа в аккаунт\n",
    "enter_account() "
   ]
  },
  {
   "cell_type": "code",
   "execution_count": 4,
   "metadata": {},
   "outputs": [
    {
     "name": "stdout",
     "output_type": "stream",
     "text": [
      "True\n"
     ]
    }
   ],
   "source": [
    "s=\"шалашшалашшалашшалаш\"\n",
    "def check_string(s):\n",
    "    if len(s) < 1:\n",
    "        return True\n",
    "    if s[0] == s[-1]:\n",
    "        return check_string(s[1:-1])\n",
    "    else:\n",
    "        return False\n",
    "print (check_string(s))"
   ]
  },
  {
   "cell_type": "code",
   "execution_count": 6,
   "metadata": {},
   "outputs": [
    {
     "name": "stdout",
     "output_type": "stream",
     "text": [
      "1\n",
      "625\n",
      "-125\n"
     ]
    }
   ],
   "source": [
    "def power(val, n):\n",
    "    if n==0: return 1\n",
    "    if n==1: return val\n",
    "    return val*power(val, n-1)\n",
    "print(power(25, 0))\n",
    "# 1\n",
    "print(power(-5, 4))\n",
    "# 625\n",
    "print(power(-5, 3))"
   ]
  },
  {
   "cell_type": "code",
   "execution_count": 17,
   "metadata": {},
   "outputs": [
    {
     "name": "stdout",
     "output_type": "stream",
     "text": [
      "iiiiiiii\n"
     ]
    }
   ],
   "source": [
    "# функция для создания строки со скобками\n",
    "s='iiiiiiiiii'\n",
    "def add_brackets(s):\n",
    "    # проверяем условие остановки: строка состоит из одного или двух символов\n",
    "    if len(s)==1 or len(s)==2:\n",
    "        return s \n",
    "    # в противном случае: отсщипываем от строки первый и последний символы, добавляем к ним скобки, а также результат вызова функции в которую передаем строку без первого и последнего символа\n",
    "    return s[0]+'('+ add_brackets(s[1:-1]) + ')'+s[-1]\n",
    "print(add_brackets('example'))\n",
    "print(add_brackets('carr'))\n",
    "print(add_brackets('hello'))\n"
   ]
  },
  {
   "cell_type": "code",
   "execution_count": 18,
   "metadata": {},
   "outputs": [
    {
     "name": "stdout",
     "output_type": "stream",
     "text": [
      "e(x(a(m)p)l)e\n",
      "c(ar)r\n",
      "h(e(l)l)o\n"
     ]
    }
   ],
   "source": [
    "def add_brackets(s):\n",
    "    # Вычисляем середину строки\n",
    "    l = len(s) // 2\n",
    "    # Если длина строки чётная\n",
    "    if len(s) % 2 == 0:\n",
    "        # В список исключений добавляются индексы l-1 и l\n",
    "        for_exclude = [l-1, l]\n",
    "    else: # Если нечётная\n",
    "        # В список исключений добавляется индекс l\n",
    "        for_exclude = [l]\n",
    "    # Создаём пустую строку    \n",
    "    result = ''\n",
    "    # Создаём цикл по индексам строки\n",
    "    for i in range(len(s)):\n",
    "        # Если номер символа — в списке исключений, добавляем символ\n",
    "        if i in for_exclude:\n",
    "            result += s[i] \n",
    "        # Если номер символа меньше середины, добавляем символ и левую скобку\n",
    "        elif i < l:\n",
    "            result += s[i] + '(' \n",
    "        # Если мы перешли за середину строки, добавляем символ и правую скобку\n",
    "        else:\n",
    "            result += ')' + s[i]\n",
    "    # Возвращаем результат\n",
    "    return result\n",
    "print(add_brackets('example'))\n",
    "print(add_brackets('carr'))\n",
    "print(add_brackets('hello'))\n"
   ]
  },
  {
   "cell_type": "code",
   "execution_count": 24,
   "metadata": {},
   "outputs": [
    {
     "name": "stdout",
     "output_type": "stream",
     "text": [
      "h*e*l*l*o\n",
      "L*I*t*B*e*o*F*L*c*S*G*B*O*F*Q*x*M*H*o*I*u*D*D*W*c*q*c*V*g*k*c*R*o*A*e*o*c*X*O\n",
      "g*k*a*f*k*a*f*k*K*d*a*f*l*k*f*a\n"
     ]
    }
   ],
   "source": [
    "def add_asterisk(s):\n",
    "    # проверяем условие остановки: строка состоит из одного или двух символов\n",
    "    if len(s)<=1:\n",
    "        return s \n",
    "    # в противном случае: отсщипываем от строки первый и последний символы, добавляем к ним скобки, а также результат вызова функции в которую передаем строку без первого и последнего символа\n",
    "    return s[0]+'*'+ add_asterisk(s[1:])\n",
    "\n",
    "\n",
    "\n",
    "print(add_asterisk('hello'))\n",
    "## h*e*l*l*o\n",
    "print(add_asterisk('LItBeoFLcSGBOFQxMHoIuDDWcqcVgkcRoAeocXO'))\n",
    "## L*I*t*B*e*o*F*L*c*S*G*B*O*F*Q*x*M*H*o*I*u*D*D*W*c*q*c*V*g*k*c*R*o*A*e*o*c*X*O\n",
    "print(add_asterisk('gkafkafkKdaflkfa'))\n",
    "## g*k*a*f*k*a*f*k*K*d*a*f*l*k*f*a"
   ]
  },
  {
   "cell_type": "code",
   "execution_count": 28,
   "metadata": {},
   "outputs": [
    {
     "name": "stdout",
     "output_type": "stream",
     "text": [
      "[1, 1, 0, 4, 2, 1, 0, 2, 1]\n"
     ]
    }
   ],
   "source": [
    "matrix = [\n",
    "    [1, 1, 0],\n",
    "    [4, 2, 1],\n",
    "    [0, 2, 1]\n",
    "]\n",
    "# Функция для выпрямления списка\n",
    "def flatten(lst):\n",
    "    # Создаём новый пустой список\n",
    "    result = []\n",
    "    # Создаём цикл по элементам списка\n",
    "    for elem in lst:\n",
    "        # Если элемент списка является списком,\n",
    "        if type(elem) is list:\n",
    "            # Применяем к нему функцию выпрямления и добавляем элементы к результату\n",
    "            result += flatten(elem)\n",
    "        else: # Если элемент не является списоком,\n",
    "            # Добавляем элемент в новый список\n",
    "            result.append(elem)\n",
    "    return result   \n",
    "print (flatten(matrix))\n"
   ]
  },
  {
   "cell_type": "code",
   "execution_count": 32,
   "metadata": {},
   "outputs": [
    {
     "name": "stdout",
     "output_type": "stream",
     "text": [
      "12\n"
     ]
    }
   ],
   "source": [
    "matrix = [\n",
    "    [1, 1, 0],\n",
    "    [4, 2, 1],\n",
    "    [0, 2, 1]\n",
    "]\n",
    "def sum_list(lst):\n",
    "    total=0 # Инициализируем переменную, в которую будем накапливать сумму\n",
    "    # Создаём цикл по элементам списка\n",
    "    for elem in lst:\n",
    "        # Если элемент списка является списком,\n",
    "        if type(elem) is list:\n",
    "            # Применяем к нему функцию выпрямления и добавляем элементы к результату\n",
    "            total += sum_list(elem)\n",
    "        else: # Если элемент не является списоком,\n",
    "            # Добавляем элемент в новый список\n",
    "            total += elem\n",
    "    return total   \n",
    "print(sum_list(matrix))\n",
    "## 12"
   ]
  },
  {
   "cell_type": "code",
   "execution_count": 36,
   "metadata": {},
   "outputs": [
    {
     "name": "stdout",
     "output_type": "stream",
     "text": [
      "{2: {'parrent_link': None, 'child_link': [5]}, 5: {'parrent_link': 2, 'child_link': []}}\n"
     ]
    }
   ],
   "source": [
    "forum_messages = {\n",
    "    1: {'parrent_link': None, 'child_link': [3, 4]},\n",
    "    2: {'parrent_link': None, 'child_link': [5]},\n",
    "    3: {'parrent_link': 1, 'child_link': [6]},\n",
    "    4: {'parrent_link': 1, 'child_link': []},\n",
    "    5: {'parrent_link': 2, 'child_link': []},\n",
    "    6: {'parrent_link': 3, 'child_link': []}\n",
    "}\n",
    "def delete_message(messages, msg_id):# функция для удаления сообщения на форуме и всех его птомков\n",
    "    result = messages.pop(msg_id) # удаляем из словаря сообщение с индентификатором msg_id/ метод рор возвращает знаяение лежащее по удаляемому ключу\n",
    "    parrent_link = result['parrent_link'] # получаем идентификатор родителя\n",
    "    child_link = result['child_link'] # получаем список идентификаторов потомков\n",
    "    if parrent_link and parrent_link in messages: # если у сообщения был родитель  и он еще не удален. Эта запись будет аналогична parrent_link is not None\n",
    "        messages[parrent_link]['child_link'].remove(msg_id) # обращаемся к словарю messages  по ключу родителя. Удаляем потомка из списков потомков\n",
    "    if child_link:# если у сообщения были потомки. Эта запись будет аналогична child_link ==[]\n",
    "        for child_id in child_link:# в цикле проходимся по всем потомкам\n",
    "            delete_message(messages, msg_id=child_id) # и повторяем те же действия для каждого из них (рекурсивно вызываем функцию delete_message)\n",
    "    return messages\n",
    "#print(delete_message(forum_messages, msg_id=5))\n",
    "#print(delete_message(forum_messages, msg_id=3))\n",
    "print(delete_message(forum_messages, msg_id=1))\n",
    "            \n",
    "    "
   ]
  },
  {
   "cell_type": "code",
   "execution_count": 42,
   "metadata": {},
   "outputs": [
    {
     "name": "stdout",
     "output_type": "stream",
     "text": [
      "key1 ->\n",
      "  key2 ->\n",
      "    [1, 2, 3]\n",
      "  key3 ->\n",
      "    [4]\n",
      "key4 ->\n",
      "  key5 ->\n",
      "    [5, 6, 7]\n"
     ]
    }
   ],
   "source": [
    "input_dict = {\n",
    "    'key1': {\n",
    "        'key2': ['value1', 'value2'], \n",
    "        'key3': {\n",
    "            'key4': ['value3']\n",
    "        }\n",
    "    }, \n",
    "    'key5': {\n",
    "        'key6': {\n",
    "            'key7': ['value3', 'value5', 'value6']\n",
    "        }\n",
    "    }\n",
    "}\n",
    "def print_dict(input_data, level=0):\n",
    "    # Если input_data — словарь \n",
    "    if type(input_data) is dict:\n",
    "        # Создаём цикл по ключам словаря\n",
    "        for key in input_data:\n",
    "            # Выводим ключ в формате \"<пробелы> <имя ключа> ->\"\n",
    "            print('  ' * level + '{} ->'.format(key))\n",
    "            # Повторяем те же операции для каждого значения словаря\n",
    "            print_dict(input_data[key], level=level+1)  \n",
    "    else: # В противном случае\n",
    "        # Выводим значения в формате \"<пробелы> <значения>\"\n",
    "        print('  ' * level + str(input_data))\n",
    "print_dict({'key1': {'key2': [1, 2, 3], 'key3': [4]}, 'key4': {'key5': [5, 6, 7]}})"
   ]
  },
  {
   "cell_type": "code",
   "execution_count": 43,
   "metadata": {},
   "outputs": [
    {
     "name": "stdout",
     "output_type": "stream",
     "text": [
      "Hello world!\n"
     ]
    }
   ],
   "source": [
    "# Создаём переменную p, которая будет ссылаться на функцию print\n",
    "p = print\n",
    "# Вызываем функцию print() от имени новой переменной\n",
    "p('Hello world!')"
   ]
  },
  {
   "cell_type": "code",
   "execution_count": 46,
   "metadata": {},
   "outputs": [
    {
     "name": "stdout",
     "output_type": "stream",
     "text": [
      "35\n",
      "-1\n",
      "5\n"
     ]
    }
   ],
   "source": [
    "# Функция, которая в качестве аргументов принимает \n",
    "# Другую функцию func и список x\n",
    "\n",
    "def apply_func(func, x):\n",
    "    # Функция вызывает переданную функцию, передавая ей в аргументы список x\n",
    "    return func(x)\n",
    "print(apply_func(max, [1, 10, 35, 20, -1]))\n",
    "\n",
    "## Будет выведено:\n",
    "## 35\n",
    "print(apply_func(min, [1, 10, 35, 20, -1]))\n",
    "print(apply_func(len, [1, 10, 35, 20, -1]))\n",
    "\n",
    "## Будет выведено:\n",
    "## 5\n"
   ]
  },
  {
   "cell_type": "code",
   "execution_count": 49,
   "metadata": {},
   "outputs": [
    {
     "name": "stdout",
     "output_type": "stream",
     "text": [
      "[5, 2, 1, 5, 7, 4, 7, 2, 8, 7, 8]\n"
     ]
    }
   ],
   "source": [
    "# Список из слов, длину которых мы хотим вычислить\n",
    "words_list = [\"We're\", 'in', 'a', 'small', 'village', 'near', 'Chicago', 'My', \"cousin's\", 'getting', 'married.']\n",
    "lengths_list = []# Создаём пустой список, куда будем заносить результаты\n",
    "for word in words_list:# Создаём цикл по элементам списка names\n",
    "    length = len(word)# Вычисляем длину текущего слова\n",
    "    lengths_list.append(length)# Добавляем вычисленную длину слова в список\n",
    "print(lengths_list)"
   ]
  },
  {
   "cell_type": "code",
   "execution_count": 52,
   "metadata": {},
   "outputs": [
    {
     "name": "stdout",
     "output_type": "stream",
     "text": [
      "[5, 2, 1, 5, 7, 4, 7, 2, 8, 7, 8]\n"
     ]
    }
   ],
   "source": [
    "words_list = [\"We're\", 'in', 'a', 'small', 'village', 'near', 'Chicago', 'My', \"cousin's\", 'getting', 'married.']\n",
    "lenghts_map = list(map(len,words_list))\n",
    "print(lenghts_map)"
   ]
  },
  {
   "cell_type": "code",
   "execution_count": 53,
   "metadata": {},
   "outputs": [
    {
     "name": "stdout",
     "output_type": "stream",
     "text": [
      "[203, 752, 2537, 852]\n"
     ]
    }
   ],
   "source": [
    "expenses = [(101, 203, 167), (214, 351, 752), (255, 2537), (852, 362, 366)]\n",
    "expenses_max=list(map(max,expenses))\n",
    "print(expenses_max)\n"
   ]
  },
  {
   "cell_type": "code",
   "execution_count": 55,
   "metadata": {},
   "outputs": [
    {
     "name": "stdout",
     "output_type": "stream",
     "text": [
      "[101, 203, 33, 45, 51, 46, 77]\n"
     ]
    }
   ],
   "source": [
    "old_list = ['101', '203', '33', '45', '51', '46', '77']\n",
    "new_list=list(map(int,old_list))\n",
    "print(new_list)\n",
    "## new_list = [1, 2, 3, 4, 5, 6, 7]\n"
   ]
  },
  {
   "cell_type": "code",
   "execution_count": 57,
   "metadata": {},
   "outputs": [
    {
     "name": "stdout",
     "output_type": "stream",
     "text": [
      "[15571, 19984, 9749, 15393, 8357, 21027]\n"
     ]
    }
   ],
   "source": [
    "expenses = [[2356, 4537, 8678], [7395, 1298, 6500, 4791],[6341, 3408], [1105, 8374, 5914], [1024, 7333], [3500, 2008, 9375, 6144]]  \n",
    "expenses_sum=list(map(sum,expenses))\n",
    "print(expenses_sum)\n",
    "## expenses_sum = [15571, 19984, 9749, 15393, 8357, 21027]"
   ]
  },
  {
   "cell_type": "code",
   "execution_count": 60,
   "metadata": {},
   "outputs": [
    {
     "name": "stdout",
     "output_type": "stream",
     "text": [
      "[150.0, 330.0, 525.0, 120.0]\n"
     ]
    }
   ],
   "source": [
    "# Список зарплат\n",
    "salaries = [1500, 2200, 3500, 1200]\n",
    "def calculate_tax(salary):\n",
    "    if salary<1000:\n",
    "        return salary*0.05\n",
    "    elif salary<2000:\n",
    "        return salary*0.1\n",
    "    else:\n",
    "        return salary*0.15\n",
    "taxes=list(map(calculate_tax,salaries))\n",
    "print(taxes)\n",
    "\n"
   ]
  },
  {
   "cell_type": "code",
   "execution_count": 65,
   "metadata": {},
   "outputs": [
    {
     "name": "stdout",
     "output_type": "stream",
     "text": [
      "{'Преступление и наказание': ['а', 'знаешь', 'ли', 'что', 'низкие', 'потолки', 'и', 'тесные', 'комнаты', 'душу', 'и', 'ум', 'теснят'], 'Война и мир': ['и', 'нет', 'величия', 'там', 'где', 'нет', 'простоты', 'добра', 'и', 'правды'], 'Анна Каренина': ['если', 'искать', 'совершенства', 'то', 'никогда', 'не', 'будешь', 'доволен'], 'Детство': ['правил', 'у', 'нас', 'много', 'а', 'правды', 'нет'], 'Колесо времени': ['ничто', 'так', 'на', 'соединяет', 'людей', 'как', 'улыбка']}\n"
     ]
    }
   ],
   "source": [
    "quotes_dict = {\n",
    "    'Преступление и наказание': 'А знаешь ли... что низкие потолки и тесные комнаты душу и ум теснят.', \n",
    "    'Война и мир': 'И нет величия там, где нет простоты, добра и правды.', \n",
    "    'Анна Каренина': 'Если искать совершенства, то никогда не будешь доволен.', \n",
    "    'Детство': 'Правил у нас много, а правды нет.', \n",
    "    'Колесо времени': 'Ничто так на соединяет людей, как улыбка.'\n",
    "}\n",
    "def preprocessing_quoutes(name_quotes_tuple):# Функция для преобразования одного элемента списка кортежей\n",
    "    name, text = name_quotes_tuple # Разделяем составляющие кортежа на отдельные переменные \n",
    "    text = text.lower() # Приводим цитату к нижнему регистру\n",
    "    text= text.replace('.','')# Заменяем точки  на пустые строки\n",
    "    text= text.replace(',','')# Заменяем запятые на пустые строки\n",
    "    words= text.split(' ')\n",
    "    return (name, words)\n",
    "processed_quotes_dict = dict(map(preprocessing_quoutes,quotes_dict.items()))\n",
    "print(processed_quotes_dict)\n",
    "\n",
    "    \n",
    "    "
   ]
  },
  {
   "cell_type": "code",
   "execution_count": 68,
   "metadata": {},
   "outputs": [
    {
     "name": "stdout",
     "output_type": "stream",
     "text": [
      "{'яблоко': 94.05, 'апельсин': 94.05, 'вишня': 139.65, 'персик': 137.75, 'грейпфрут': 132.05}\n"
     ]
    }
   ],
   "source": [
    "prices = {'яблоко': 99, 'апельсин': 99, 'вишня': 147, 'персик': 145, 'грейпфрут': 139}\n",
    "def discount (cost):\n",
    "    name, price = cost\n",
    "    new_price = round(price * 0.95, 2)\n",
    "    return (name, new_price)\n",
    "new_prices = dict(map(discount, prices.items()))\n",
    "print (new_prices)\n",
    " \n",
    "\n",
    "\n",
    "  \n",
    "## new_prices = {'яблоко': 94.05, 'апельсин': 94.05, 'вишня': 139.65, 'персик': 137.75, 'грейпфрут': 132.05}"
   ]
  },
  {
   "cell_type": "code",
   "execution_count": 70,
   "metadata": {},
   "outputs": [
    {
     "name": "stdout",
     "output_type": "stream",
     "text": [
      "{'Штаны': 1995.0, 'Кофта': 1444.0, 'Свитер': 3344.0, 'Галстук': 741.0, 'Ремень': 1320.5}\n"
     ]
    }
   ],
   "source": [
    "prices = {'Штаны': 2100, 'Кофта': 1520, 'Свитер': 3520, 'Галстук': 780, 'Ремень': 1390}\n",
    "def discount (cost):\n",
    "    name, price = cost\n",
    "    new_price = round(price * 0.95, 2)\n",
    "    return (name, new_price)\n",
    "new_prices = dict(map(discount, prices.items()))\n",
    "print (new_prices)"
   ]
  },
  {
   "cell_type": "code",
   "execution_count": 72,
   "metadata": {},
   "outputs": [
    {
     "name": "stdout",
     "output_type": "stream",
     "text": [
      "[1331, 1728, 2197, 2744, 3375, 4096]\n"
     ]
    }
   ],
   "source": [
    "number_list = [11,12,13,14,15,16] # Список чисел\n",
    "cube_number_list=list(map(lambda x: x**3, number_list))\n",
    "print(cube_number_list)"
   ]
  },
  {
   "cell_type": "code",
   "execution_count": 73,
   "metadata": {},
   "outputs": [
    {
     "name": "stdout",
     "output_type": "stream",
     "text": [
      "['шалаш', 'казак', 'морднилап', 'рвал дед лавр']\n"
     ]
    }
   ],
   "source": [
    "str_list = ['шалаш', 'казак', 'палиндром', 'рвал дед лавр']# Список строк, которые надо развернуть\n",
    "reverse_str_list = list(map(lambda x: x[::-1],str_list))\n",
    "print(reverse_str_list)\n"
   ]
  },
  {
   "cell_type": "code",
   "execution_count": 79,
   "metadata": {},
   "outputs": [
    {
     "name": "stdout",
     "output_type": "stream",
     "text": [
      "[('Amanda', 1.61, 51, 19.7), ('Patricia', 1.65, 61, 22.4), ('Marcos', 1.91, 101, 27.7)]\n"
     ]
    }
   ],
   "source": [
    "data = [('Amanda', 1.61, 51), ('Patricia', 1.65, 61), ('Marcos', 1.91, 101)]\n",
    "map_func = lambda x: (*x, round(x[2] / (x[1]**2), 1))\n",
    "update_data=list(map(map_func,data))\n",
    "print(update_data)"
   ]
  },
  {
   "cell_type": "code",
   "execution_count": 80,
   "metadata": {},
   "outputs": [
    {
     "name": "stdout",
     "output_type": "stream",
     "text": [
      "['Mr. Boris', 'Mr. Ivan', 'Mr. Bob']\n"
     ]
    }
   ],
   "source": [
    "guests = [\"Boris\", \"Ivan\", \"Bob\"]\n",
    "new_guests=list(map(lambda name: \"Mr. \" + name, guests))\n",
    "print(new_guests)\n"
   ]
  },
  {
   "cell_type": "code",
   "execution_count": 81,
   "metadata": {},
   "outputs": [
    {
     "name": "stdout",
     "output_type": "stream",
     "text": [
      "['https://www.kommersant.ru//doc/5041434?query=data%20science', 'https://www.kommersant.ru//doc/5041567?query=data%20science', 'https://www.kommersant.ru//doc/4283670?query=data%20science', 'https://www.kommersant.ru//doc/3712659?query=data%20science', 'https://www.kommersant.ru//doc/4997267?query=data%20science', 'https://www.kommersant.ru//doc/4372673?query=data%20science', 'https://www.kommersant.ru//doc/3779060?query=data%20science', 'https://www.kommersant.ru//doc/3495410?query=data%20science', 'https://www.kommersant.ru//doc/4308832?query=data%20science', 'https://www.kommersant.ru//doc/4079881?query=data%20science']\n"
     ]
    }
   ],
   "source": [
    "docs = [  \n",
    "'//doc/5041434?query=data%20science',  \n",
    "'//doc/5041567?query=data%20science',  \n",
    "'//doc/4283670?query=data%20science',  \n",
    "'//doc/3712659?query=data%20science',  \n",
    "'//doc/4997267?query=data%20science',  \n",
    "'//doc/4372673?query=data%20science',  \n",
    "'//doc/3779060?query=data%20science',  \n",
    "'//doc/3495410?query=data%20science',  \n",
    "'//doc/4308832?query=data%20science',  \n",
    "'//doc/4079881?query=data%20science'  \n",
    "]\n",
    "new_docs=list(map(lambda name: \"https://www.kommersant.ru\" + name, docs))\n",
    "print(new_docs)\n"
   ]
  },
  {
   "cell_type": "code",
   "execution_count": 82,
   "metadata": {},
   "outputs": [
    {
     "name": "stdout",
     "output_type": "stream",
     "text": [
      "[(0.00632, 6.575, 65.2, 296.0, 4.98, 9.32), (0.02731, 6.421, 78.9, 242.0, 9.14, 60.41), (0.02729, 7.185, 61.1, 242.0, 4.03, 26.61), (0.03237, 6.998, 45.8, 222.0, 2.94, 21.13), (0.06905, 7.147, 54.2, 222.0, 5.33, 81.7), (0.02985, 6.43, 58.7, 222.0, 5.21, 34.53), (0.08829, 6.012, 66.6, 311.0, 12.43, 341.31)]\n"
     ]
    }
   ],
   "source": [
    "data = [(0.00632, 6.575, 65.2, 296.0, 4.98),  \n",
    "(0.02731, 6.421, 78.9, 242.0, 9.14),  \n",
    "(0.02729, 7.185, 61.1, 242.0, 4.03),  \n",
    "(0.03237, 6.998, 45.8, 222.0, 2.94),  \n",
    "(0.06905, 7.147, 54.2, 222.0, 5.33),  \n",
    "(0.02985, 6.43, 58.7, 222.0, 5.21),  \n",
    "(0.08829, 6.012, 66.6, 311.0, 12.43)]\n",
    "func_data = lambda x: (x[0],x[1],x[2],x[3],x[4], round(x[0]*x[3]*x[4], 2))\n",
    "update_data=list(map(func_data,data))\n",
    "print(update_data)"
   ]
  },
  {
   "cell_type": "code",
   "execution_count": 83,
   "metadata": {},
   "outputs": [
    {
     "name": "stdout",
     "output_type": "stream",
     "text": [
      "['in', 'near', 'My', \"cousin's\", 'married.']\n"
     ]
    }
   ],
   "source": [
    "words_list = [\"We're\", 'in', 'a', 'small', 'village', 'near', 'Chicago', 'My', \"cousin's\", 'getting', 'married.']\n",
    "even_list= []# Создаём пустой список, куда будем добавлять результаты \n",
    "for word in words_list:# Создаём цикл по элементам списка \n",
    "    if len(word)%2==0:# Проверяем условие, что длина текущего слова чётная\n",
    "        even_list.append(word) # Добавляем слово в новый список\n",
    "print(even_list)\n",
    "        \n",
    "        \n"
   ]
  },
  {
   "cell_type": "code",
   "execution_count": 86,
   "metadata": {},
   "outputs": [
    {
     "name": "stdout",
     "output_type": "stream",
     "text": [
      "['in', 'near', 'My', \"cousin's\", 'married.']\n"
     ]
    }
   ],
   "source": [
    "words_list = [\"We're\", 'in', 'a', 'small', 'village', 'near', 'Chicago', 'My', \"cousin's\", 'getting', 'married.']\n",
    "def is_even(x):\n",
    "    return len(x) % 2 == 0\n",
    "even=list(filter(is_even,words_list))\n",
    "print(even)\n",
    "    "
   ]
  },
  {
   "cell_type": "code",
   "execution_count": 89,
   "metadata": {},
   "outputs": [
    {
     "name": "stdout",
     "output_type": "stream",
     "text": [
      "['in', 'near', 'My', \"cousin's\", 'married.']\n"
     ]
    }
   ],
   "source": [
    "words_list = [\"We're\", 'in', 'a', 'small', 'village', 'near', 'Chicago', 'My', \"cousin's\", 'getting', 'married.']\n",
    "even_list=filter(lambda x: len(x)%2==0,words_list)\n",
    "print(list(even_list))"
   ]
  },
  {
   "cell_type": "code",
   "execution_count": 91,
   "metadata": {},
   "outputs": [
    {
     "name": "stdout",
     "output_type": "stream",
     "text": [
      "('Москва', 'зацвело', 'рассвет')\n"
     ]
    }
   ],
   "source": [
    "str_tuple = (\"Москва\", \"15.1 см\", \"зацвело\", \"было пол 5 утра\", \"рассвет\")\n",
    "filtered_tuple= tuple(filter(lambda x: x.isalpha(),str_tuple))\n",
    "print(filtered_tuple)\n"
   ]
  },
  {
   "cell_type": "code",
   "execution_count": 90,
   "metadata": {},
   "outputs": [
    {
     "name": "stdout",
     "output_type": "stream",
     "text": [
      "True\n",
      "False\n"
     ]
    }
   ],
   "source": [
    "print(\"Москва\".isalpha())\n",
    "## Будет выведено:\n",
    "## True\n",
    "\n",
    "print(\"было пол 5 утра\".isalpha())\n",
    "## Будет выведено:\n",
    "## False"
   ]
  },
  {
   "cell_type": "code",
   "execution_count": 94,
   "metadata": {},
   "outputs": [
    {
     "name": "stdout",
     "output_type": "stream",
     "text": [
      "[('FPW-2.0', 'Бонус: Тренажер по JavaScript', 9.2, 70, 180), ('FPW-2.0', 'Бонусный: IT в современном мире', 8.64, 83.74, 856)]\n"
     ]
    }
   ],
   "source": [
    "data = [\n",
    "    (\"FPW-2.0_D\", \"Бонус: Тренажер по HTML\", 10, 100, 10),\n",
    "    (\"FPW-2.0\", \"Бонус: Тренажер по JavaScript\", 9.2, 70, 180),\n",
    "    (\"FPW-2.0_D\", \"Бонус: Тренажер по React\", 8.5, 66.67, 68),\n",
    "    (\"FPW-2.0\", \"Бонусный: IT в современном мире\", 8.64, 83.74, 856),\n",
    "    (\"FPW-2.0\", \"Бонусный: Введение\", 8.73, 56.24, 745),\n",
    "    (\"FPW-2.0\", \"Бонус: D1. Знакомство с Django (NEW)\", 9.76, 95.24, 21),\n",
    "    (\"FPW-2.0_D\", \"Бонус: D2. Модели (NEW)\", 9.44, 77.78, 18)\n",
    "]\n",
    "def filter_module (module):\n",
    "    code,name,avr_votes,nessa,count=module # Распаковываем кортеж на пять переменных\n",
    "    cond_1=code==\"FPW-2.0\"\n",
    "    cond_2=nessa>=70\n",
    "    cond_3=count>50\n",
    "    return cond_1 and cond_2 and cond_3\n",
    "filtered_data = list(filter(filter_module, data))\n",
    "print(filtered_data)\n",
    "    "
   ]
  },
  {
   "cell_type": "code",
   "execution_count": 95,
   "metadata": {},
   "outputs": [
    {
     "name": "stdout",
     "output_type": "stream",
     "text": [
      "[('FPW-2.0', 'Бонус: Тренажер по JavaScript', 9.2, 70, 180), ('FPW-2.0', 'Бонусный: IT в современном мире', 8.64, 83.74, 856)]\n"
     ]
    }
   ],
   "source": [
    "data = [\n",
    "    (\"FPW-2.0_D\", \"Бонус: Тренажер по HTML\", 10, 100, 10),\n",
    "    (\"FPW-2.0\", \"Бонус: Тренажер по JavaScript\", 9.2, 70, 180),\n",
    "    (\"FPW-2.0_D\", \"Бонус: Тренажер по React\", 8.5, 66.67, 68),\n",
    "    (\"FPW-2.0\", \"Бонусный: IT в современном мире\", 8.64, 83.74, 856),\n",
    "    (\"FPW-2.0\", \"Бонусный: Введение\", 8.73, 56.24, 745),\n",
    "    (\"FPW-2.0\", \"Бонус: D1. Знакомство с Django (NEW)\", 9.76, 95.24, 21),\n",
    "    (\"FPW-2.0_D\", \"Бонус: D2. Модели (NEW)\", 9.44, 77.78, 18)\n",
    "]\n",
    "lambda_filter_module=lambda x: (x[0]==\"FPW-2.0\") and (x[3]>=70) and (x[4]>50)\n",
    "filtered_data = list(filter (lambda_filter_module,data))\n",
    "print (filtered_data)"
   ]
  },
  {
   "cell_type": "code",
   "execution_count": 96,
   "metadata": {},
   "outputs": [
    {
     "name": "stdout",
     "output_type": "stream",
     "text": [
      "[25683, 17683, 28973]\n"
     ]
    }
   ],
   "source": [
    "prices = [34562, 66572, 25683, 17683, 56389, 28973]\n",
    "lambda_filter_prices=lambda x: x<=30000\n",
    "filtered_price=list(filter(lambda_filter_prices,prices))\n",
    "print(filtered_price)"
   ]
  },
  {
   "cell_type": "code",
   "execution_count": 97,
   "metadata": {},
   "outputs": [
    {
     "name": "stdout",
     "output_type": "stream",
     "text": [
      "['reimbursement of expenses', 'parking permit', 'maternity capital']\n"
     ]
    }
   ],
   "source": [
    "family_list = [\n",
    "    'certificate of a large family',\n",
    "    'social card',\n",
    "    'maternity capital',\n",
    "    'parking permit',\n",
    "    'tax benefit',\n",
    "    'reimbursement of expenses',\n",
    "    \"compensation for the purchase of children's goods\"\n",
    " ]\n",
    "def filter_family(services):\n",
    "    result = list(filter(lambda x: x in family_list, services))\n",
    "    return result\n",
    "print(filter_family(['reimbursement of expenses', 'parking permit', 'maternity capital', 'medical policy']))  "
   ]
  },
  {
   "cell_type": "code",
   "execution_count": 98,
   "metadata": {},
   "outputs": [
    {
     "name": "stdout",
     "output_type": "stream",
     "text": [
      "[(\"We're\", 0), ('small', 1), ('village', 1), ('Chicago', 1), (\"cousin's\", 0), ('getting', 0), ('married.', 1)]\n"
     ]
    }
   ],
   "source": [
    "# Список из слов\n",
    "words_list = [\"We're\", 'in', 'a', 'small', 'village', 'near', 'Chicago', 'My', \"cousin's\", 'getting', 'married.']\n",
    "count_a=[]# Создаём пустой список, в который будем добавлять результаты\n",
    "for word in words_list:# Создаём цикл по элементам списка words_list\n",
    "    if len(word)>=5:# Проверяем условие, что длина имени больше либо равна пяти \n",
    "        result_tuple=(word,word.lower().count('a'))# Создаём кортеж (слово, количество букв 'a')\n",
    "        count_a.append(result_tuple)\n",
    "print(count_a)  "
   ]
  },
  {
   "cell_type": "code",
   "execution_count": 100,
   "metadata": {},
   "outputs": [
    {
     "name": "stdout",
     "output_type": "stream",
     "text": [
      "[(\"We're\", 0), ('small', 1), ('village', 1), ('Chicago', 1), (\"cousin's\", 0), ('getting', 0), ('married.', 1)]\n"
     ]
    }
   ],
   "source": [
    "words_list = [\"We're\", 'in', 'a', 'small', 'village', 'near', 'Chicago', 'My', \"cousin's\", 'getting', 'married.']\n",
    "filtered_word=filter(lambda x: len(x)>=5,words_list) # Отбираем слова из пяти и более букв\n",
    "count_a= map(lambda x: (x,x.lower().count('a')),filtered_word) # Все отобранные слова переводим в нижний регистр и считаем число букв 'a' в них. Результат выдаём в виде кортежа (слово, количество букв \"a\")\n",
    "print(list(count_a))"
   ]
  },
  {
   "cell_type": "code",
   "execution_count": 104,
   "metadata": {},
   "outputs": [
    {
     "name": "stdout",
     "output_type": "stream",
     "text": [
      "[('Amanda', 1.61, 51, 19.675166853130666), ('Patricia', 1.65, 61, 22.4058769513315), ('Andrey', 1.79, 61, 19.038107424861895), ('Felicia', 1.63, 56, 21.077195227520797)]\n"
     ]
    }
   ],
   "source": [
    "data = [\n",
    "    ('Amanda', 1.61, 51),\n",
    "    ('Patricia', 1.65, 61), \n",
    "    ('Marcos', 1.91, 101),\n",
    "    ('Andrey', 1.79, 61),\n",
    "    ('Nikos', 1.57, 78),\n",
    "    ('Felicia', 1.63, 56),\n",
    "    ('Lubov', 1.53, 34)\n",
    "]\n",
    "map_func=lambda x:(*x,x[2]/(x[1]**2))# Создаём lambda-функцию, которая считает BMI, и применяем её к каждому элементу списка\n",
    "update_data=map(map_func,data)\n",
    "#print(list(update_data))\n",
    "filter_func=lambda x: 18.5<=x[3]<=25# Создаём lambda-функцию, которая возвращает True, если 18.5 <= BMI <= 25\n",
    "filtered_data=filter(filter_func,update_data)\n",
    "print(list(filtered_data))"
   ]
  },
  {
   "cell_type": "markdown",
   "metadata": {},
   "source": [
    "Задание 8.3 (External resource)"
   ]
  },
  {
   "cell_type": "code",
   "execution_count": 112,
   "metadata": {},
   "outputs": [
    {
     "name": "stdout",
     "output_type": "stream",
     "text": [
      "[('Smith J.', 13, 2, 2003), ('Petrova M.', 13, 3, 2003)]\n"
     ]
    }
   ],
   "source": [
    "reg = [('Ivanov', 'Sergej', 24, 9, 1995),\n",
    "      ('Smith', 'John', 13, 2, 2003),\n",
    "      ('Petrova', 'Maria', 13, 3, 2003)]\n",
    "def update_tuple(arg):\n",
    "    surname=arg[0]#выделяем фамилию из кортежа\n",
    "    name=arg[1]#выжеляем имя из кортежа\n",
    "    new_surname= surname+\" \"+name[0]+\".\"\n",
    "    return(new_surname, arg[2], arg[3],arg[4])\n",
    "filter_reg = filter(lambda x: x[-1] > 2000, reg)\n",
    "# Применяем функцию-преобразование к каждому кортежу из списка и создаём новый список\n",
    "new_reg = list(map(update_tuple, filter_reg))\n",
    "print(new_reg)\n"
   ]
  },
  {
   "cell_type": "markdown",
   "metadata": {},
   "source": [
    "Задание 8.4 (External resource)"
   ]
  },
  {
   "cell_type": "code",
   "execution_count": 129,
   "metadata": {},
   "outputs": [
    {
     "name": "stdout",
     "output_type": "stream",
     "text": [
      "[(0.00632, 6.575, 65.2, 296.0, 4.98, 9.32), (0.02731, 6.421, 78.9, 242.0, 9.14, 60.41), (0.02729, 7.185, 61.1, 242.0, 4.03, 26.61), (0.03237, 6.998, 45.8, 222.0, 2.94, 21.13), (0.06905, 7.147, 54.2, 222.0, 5.33, 81.7), (0.02985, 6.43, 58.7, 222.0, 5.21, 34.53), (0.08829, 6.012, 66.6, 311.0, 12.43, 341.31)]\n",
      "[(0.02731, 6.421, 78.9, 242.0, 9.14, 60.41), (0.06905, 7.147, 54.2, 222.0, 5.33, 81.7), (0.08829, 6.012, 66.6, 311.0, 12.43, 341.31)]\n"
     ]
    }
   ],
   "source": [
    "data = [(0.00632, 6.575, 65.2, 296.0, 4.98),\n",
    " (0.02731, 6.421, 78.9, 242.0, 9.14),\n",
    " (0.02729, 7.185, 61.1, 242.0, 4.03),\n",
    " (0.03237, 6.998, 45.8, 222.0, 2.94),\n",
    " (0.06905, 7.147, 54.2, 222.0, 5.33),\n",
    " (0.02985, 6.43, 58.7, 222.0, 5.21),\n",
    " (0.08829, 6.012, 66.6, 311.0, 12.43)]\n",
    "data_update=list(map(lambda x: (*x,round((x[0]*x[3]*x[4]),2)),data))\n",
    "filtered_data=list(filter(lambda x: x[5]>60,data_update))\n",
    "\n",
    "print(data_update)\n",
    "print(filtered_data)\n"
   ]
  },
  {
   "cell_type": "code",
   "execution_count": 131,
   "metadata": {},
   "outputs": [
    {
     "name": "stdout",
     "output_type": "stream",
     "text": [
      "124\n"
     ]
    }
   ],
   "source": [
    "a = int('123') + 1\n",
    "print(a)"
   ]
  },
  {
   "cell_type": "code",
   "execution_count": 132,
   "metadata": {},
   "outputs": [
    {
     "name": "stdout",
     "output_type": "stream",
     "text": [
      "1231\n"
     ]
    }
   ],
   "source": [
    "a = '123' + str(1)\n",
    "print(a)"
   ]
  },
  {
   "cell_type": "code",
   "execution_count": 134,
   "metadata": {},
   "outputs": [
    {
     "name": "stdout",
     "output_type": "stream",
     "text": [
      " Python\n",
      "Python.\n",
      "Python\n",
      " Python.\n"
     ]
    }
   ],
   "source": [
    "python_string = 'Hello! My name is Python. I will help you to analyze some data.'\n",
    "print(python_string[17:24])\n",
    "print(python_string[18:25])\n",
    "print(python_string[18:24])\n",
    "print(python_string[17:25])"
   ]
  },
  {
   "cell_type": "markdown",
   "metadata": {},
   "source": [
    "Задание 2.5 (External resource)"
   ]
  },
  {
   "cell_type": "code",
   "execution_count": 141,
   "metadata": {},
   "outputs": [
    {
     "name": "stdout",
     "output_type": "stream",
     "text": [
      "250047\n"
     ]
    }
   ],
   "source": [
    "python_string = 'Hello! My name is Python. I will help you to analyze some data.'\n",
    "result=len(python_string)**3\n",
    "print(result)\n",
    "## result = 250047"
   ]
  },
  {
   "cell_type": "markdown",
   "metadata": {},
   "source": [
    "Задание 2.6 (External resource)"
   ]
  },
  {
   "cell_type": "code",
   "execution_count": 142,
   "metadata": {},
   "outputs": [
    {
     "name": "stdout",
     "output_type": "stream",
     "text": [
      "7\n"
     ]
    }
   ],
   "source": [
    "predicted_time = 67.321\n",
    "real_time = 59.839\n",
    "absolute_error=round(abs(predicted_time-real_time))\n",
    "print(absolute_error)\n",
    "## absolute_error = 7"
   ]
  },
  {
   "cell_type": "markdown",
   "metadata": {},
   "source": [
    "Задание 2.7 (External resource)"
   ]
  },
  {
   "cell_type": "code",
   "execution_count": 148,
   "metadata": {},
   "outputs": [
    {
     "name": "stdout",
     "output_type": "stream",
     "text": [
      "13\n"
     ]
    }
   ],
   "source": [
    "input_string = 'Hello! My name is Python. I will help you to analyze some data.'\n",
    "input_string=input_string.replace('.', '')\n",
    "input_string=input_string.replace('!', '')\n",
    "input_string=input_string.replace(',', '')\n",
    "input_string=input_string.replace('?', '')\n",
    "input_string=input_string.split()\n",
    "count_words=len(input_string)\n",
    "print(count_words)\n",
    "## count_words = 13"
   ]
  },
  {
   "cell_type": "markdown",
   "metadata": {},
   "source": [
    "Задание 2.8 (External resource)"
   ]
  },
  {
   "cell_type": "code",
   "execution_count": 150,
   "metadata": {},
   "outputs": [
    {
     "name": "stdout",
     "output_type": "stream",
     "text": [
      "10394\n",
      "jpg\n"
     ]
    }
   ],
   "source": [
    "file_path = 'data/images/train/10394.jpg'\n",
    "file_path_update=file_path.split('/')[3]\n",
    "file_extension=file_path_update.split('.')[1]\n",
    "file_name=file_path_update.split('.')[0]\n",
    "print(file_name)\n",
    "print(file_extension)\n",
    "#file_extension\n",
    "#file_name\n",
    "\n",
    "## file_name = '10394'\n",
    "## file_extension = 'jpg'"
   ]
  },
  {
   "cell_type": "markdown",
   "metadata": {},
   "source": [
    "Задание 2.9 (External resource)"
   ]
  },
  {
   "cell_type": "code",
   "execution_count": 153,
   "metadata": {},
   "outputs": [
    {
     "name": "stdout",
     "output_type": "stream",
     "text": [
      "['скажи', 'что-нибудь', 'попросила', 'она', 'и', 'он', 'поднял', 'на', 'нее', 'глаза']\n",
      "скажи что-нибудь попросила она и он поднял на нее глаза\n"
     ]
    }
   ],
   "source": [
    "generated_text = \"глаза нее на поднял он и она попросила что-нибудь скажи\"\n",
    "generated_text_mode=generated_text.split(' ')[::-1]\n",
    "updated_text=' '.join(generated_text_mode)\n",
    "print(generated_text_mode)\n",
    "print(updated_text)\n",
    "## updated_text = \"скажи что-нибудь попросила она и он поднял на нее глаза\""
   ]
  },
  {
   "cell_type": "markdown",
   "metadata": {},
   "source": [
    "Задание 2.10 (External resource)"
   ]
  },
  {
   "cell_type": "code",
   "execution_count": 155,
   "metadata": {},
   "outputs": [
    {
     "name": "stdout",
     "output_type": "stream",
     "text": [
      "Пользователь Andrey сменил пароль на 31andrey12QK\n"
     ]
    }
   ],
   "source": [
    "def change_password(user_name, new_password): \n",
    "    return \"Пользователь {0} сменил пароль на {1}\".format(user_name, new_password)\n",
    "print(change_password('Andrey', '31andrey12QK'))\n",
    "## Пользователь Andrey сменил пароль на 31andrey12QK\n"
   ]
  },
  {
   "cell_type": "code",
   "execution_count": 159,
   "metadata": {},
   "outputs": [
    {
     "name": "stdout",
     "output_type": "stream",
     "text": [
      "20000\n",
      "20000\n"
     ]
    }
   ],
   "source": [
    "employee_info = {'salary': 20000, 'prize': 1000}\n",
    "print(employee_info.get('salary'))\n",
    "print(employee_info['salary'])\n",
    "#print(employee_info.get_value('salary'))"
   ]
  },
  {
   "cell_type": "markdown",
   "metadata": {},
   "source": [
    "Задание 3.5 (External resource)"
   ]
  },
  {
   "cell_type": "code",
   "execution_count": 169,
   "metadata": {},
   "outputs": [
    {
     "name": "stdout",
     "output_type": "stream",
     "text": [
      "13973.9\n",
      "2\n",
      "62\n"
     ]
    }
   ],
   "source": [
    "car_dict = {\n",
    "    'car_ID': [123, 117, 111, 82, 101, 96, 156, 2, 58, 49],\n",
    "    'fueltype': ['gas', 'diesel', 'diesel', 'gas', 'gas', 'gas', 'gas', 'gas', 'gas', 'gas'],\n",
    "    'horsepower': [68, 95, 95, 88, 97, 69, 62, 111, 101, 176],\n",
    "    'price': [7609.0, 17950.0, 13860.0, 8499.0, 9549.0, 7799.0, 8778.0, 16500.0, 13645.0, 35550.0]\n",
    "}\n",
    "mean_price=round((sum(car_dict['price'])/len(car_dict['price'])),1)\n",
    "count_diesel=car_dict['fueltype'].count('diesel')\n",
    "min_horsepower=min(car_dict['horsepower'])\n",
    "print(mean_price)\n",
    "print(count_diesel)\n",
    "print(min_horsepower)\n",
    "#mean_price = 13973.9\n",
    "#count_diesel = 2\n",
    "#min_horsepower = 62"
   ]
  },
  {
   "cell_type": "markdown",
   "metadata": {},
   "source": [
    "Задание 3.6 (External resource)"
   ]
  },
  {
   "cell_type": "code",
   "execution_count": 170,
   "metadata": {},
   "outputs": [
    {
     "name": "stdout",
     "output_type": "stream",
     "text": [
      "True\n"
     ]
    }
   ],
   "source": [
    "lst = [0, 0, 1, 2, 3, 4, 5, 5, 6, 7]\n",
    "def check_duplicates(lst):\n",
    "    set_lst=set(lst)\n",
    "    return len(set_lst)!=len(lst)\n",
    "    \n",
    "print(check_duplicates(lst))\n",
    "# True"
   ]
  },
  {
   "cell_type": "markdown",
   "metadata": {},
   "source": [
    "Задание 3.7 (External resource)"
   ]
  },
  {
   "cell_type": "code",
   "execution_count": 171,
   "metadata": {},
   "outputs": [
    {
     "name": "stdout",
     "output_type": "stream",
     "text": [
      "[3, 2, 1]\n",
      "[5, 2, 3, 4, 1]\n",
      "['с', 'л', 'о', 'н']\n"
     ]
    }
   ],
   "source": [
    "def swap_places(lst):\n",
    "    lst[0], lst[-1] = lst[-1], lst[0]\n",
    "    return lst\n",
    "\n",
    "print(swap_places([1, 2, 3]))\n",
    "## [3, 2, 1]\n",
    "print(swap_places([1, 2, 3, 4, 5]))\n",
    "## [5, 2, 3, 4, 1]\n",
    "print(swap_places(['н', 'л', 'о', 'с']))\n",
    "## ['с', 'л', 'о', 'н']"
   ]
  },
  {
   "cell_type": "markdown",
   "metadata": {},
   "source": [
    "*Задание 3.8 (External resource)"
   ]
  },
  {
   "cell_type": "code",
   "execution_count": 172,
   "metadata": {},
   "outputs": [
    {
     "name": "stdout",
     "output_type": "stream",
     "text": [
      "['выхухоль', 'белка___', 'крот____']\n"
     ]
    }
   ],
   "source": [
    "def equalize_lengths(lst):\n",
    "    sorted_lst = sorted(lst, key=lambda x: len(x), reverse=True)# Сортируем список по длине строк в нём в порядке убывания\n",
    "    max_len = len(sorted_lst[0])# Находим максимальную длину строки\n",
    "    for i in range(1, len(sorted_lst)):# Создаём цикл по индексам элементов списка\n",
    "        # Добавляем к i-ой строке n нижних подчёркиваний справа,\n",
    "        # где n — результат вычитания длины i-ой строки из максимальной длины строки.\n",
    "        sorted_lst[i] += '_' * (max_len - len(sorted_lst[i]))\n",
    "    # Возвращаем результат\n",
    "    return sorted_lst\n",
    "\n",
    "\n",
    "print(equalize_lengths(['крот', 'белка', 'выхухоль']))\n",
    "# ['выхухоль', 'белка___', 'крот____']"
   ]
  },
  {
   "cell_type": "markdown",
   "metadata": {},
   "source": [
    "Задание 4.5 (External resource)"
   ]
  },
  {
   "cell_type": "code",
   "execution_count": 174,
   "metadata": {},
   "outputs": [
    {
     "name": "stdout",
     "output_type": "stream",
     "text": [
      "1\n",
      "-1\n",
      "0\n"
     ]
    }
   ],
   "source": [
    "def check_number_sign(number):\n",
    "    if number==0:\n",
    "        return 0\n",
    "    elif number <0:\n",
    "        return -1\n",
    "    else: \n",
    "        return 1\n",
    "print(check_number_sign(5290))\n",
    "print(check_number_sign(-983))\n",
    "print(check_number_sign(0))   \n",
    "    "
   ]
  },
  {
   "cell_type": "markdown",
   "metadata": {},
   "source": [
    "Задание 4.6 (External resource)"
   ]
  },
  {
   "cell_type": "code",
   "execution_count": 175,
   "metadata": {},
   "outputs": [
    {
     "name": "stdout",
     "output_type": "stream",
     "text": [
      "19\n",
      "10.9\n"
     ]
    }
   ],
   "source": [
    "def find_min_number(a, b, c):\n",
    "    return min(a, b, c)\n",
    "print(find_min_number(130, 122, 19))\n",
    "# 19\n",
    "print(find_min_number(10.9, 12.2, 18.4))\n",
    "# 10.9"
   ]
  },
  {
   "cell_type": "markdown",
   "metadata": {},
   "source": [
    "Задание 4.7 (External resource)"
   ]
  },
  {
   "cell_type": "code",
   "execution_count": 176,
   "metadata": {},
   "outputs": [
    {
     "name": "stdout",
     "output_type": "stream",
     "text": [
      "3\n",
      "-9\n"
     ]
    }
   ],
   "source": [
    "def sum_min_numbers(a, b, c):\n",
    "    def find_min_number(a, b, c):\n",
    "        return min(a, b, c)\n",
    "    min_number=find_min_number(a, b, c)\n",
    "    number_list = [a, b, c]\n",
    "    number_list.remove(min_number)\n",
    "    if number_list[0] < number_list[1]:\n",
    "        min_sum = number_list[0] + min_number\n",
    "    else:\n",
    "        min_sum = number_list[1] + min_number\n",
    "    return min_sum\n",
    "print(sum_min_numbers(1, 2, 3))\n",
    "# 3\n",
    "print(sum_min_numbers(1, 2, -10))\n",
    "# -9"
   ]
  },
  {
   "cell_type": "markdown",
   "metadata": {},
   "source": [
    "Задание 4.8 (External resource)"
   ]
  },
  {
   "cell_type": "code",
   "execution_count": 177,
   "metadata": {},
   "outputs": [
    {
     "name": "stdout",
     "output_type": "stream",
     "text": [
      "5.25\n",
      "Zero division error!\n",
      "None\n"
     ]
    }
   ],
   "source": [
    "def division(a, b):\n",
    "    try:\n",
    "        return a/b\n",
    "    except: \n",
    "        ZeroDivisionError (\"Zero division error!\")\n",
    "        print (\"Zero division error!\")\n",
    "        return None\n",
    "print(division(189, 36))\n",
    "# 5.25\n",
    "print(division(1, 0))\n",
    "# Zero division error!\n",
    "# None"
   ]
  },
  {
   "cell_type": "markdown",
   "metadata": {},
   "source": [
    "Задание 4.9 (External resource)"
   ]
  },
  {
   "cell_type": "code",
   "execution_count": 178,
   "metadata": {},
   "outputs": [
    {
     "name": "stdout",
     "output_type": "stream",
     "text": [
      "300.5\n",
      "65.7\n",
      "-64.1\n",
      "0.7\n",
      "1023\n"
     ]
    }
   ],
   "source": [
    "def get_prediction(x1, x2):\n",
    "    if x1<20:\n",
    "        if x2<200:\n",
    "            return 300.5\n",
    "        else:\n",
    "            return 65.7\n",
    "    else:\n",
    "        if x2<170:\n",
    "            if x1<40:\n",
    "                return -64.1\n",
    "            else:\n",
    "                return 0.7\n",
    "        else:\n",
    "            return 1023   \n",
    "print(get_prediction(x1=15, x2=150))\n",
    "# 300.5\n",
    "print(get_prediction(x1=15, x2=350))\n",
    "# 65.7\n",
    "print(get_prediction(x1=35, x2=100))\n",
    "# -64.1\n",
    "print(get_prediction(x1=175, x2=100))\n",
    "# 0.7\n",
    "print(get_prediction(x1=175, x2=200))\n",
    "# 1023\n",
    "    "
   ]
  },
  {
   "cell_type": "code",
   "execution_count": 179,
   "metadata": {},
   "outputs": [
    {
     "name": "stdout",
     "output_type": "stream",
     "text": [
      "Hello, world!\n",
      "Hello, world!\n",
      "Hello, world!\n"
     ]
    }
   ],
   "source": [
    "for i in range(3):\n",
    "    print(\"Hello, world!\")"
   ]
  },
  {
   "cell_type": "markdown",
   "metadata": {},
   "source": [
    "Задание 5.4 (External resource)"
   ]
  },
  {
   "cell_type": "code",
   "execution_count": 180,
   "metadata": {},
   "outputs": [
    {
     "name": "stdout",
     "output_type": "stream",
     "text": [
      "[4, 4.2, 42.2, -3.4, -5.2]\n",
      "[42.2]\n",
      "[]\n"
     ]
    }
   ],
   "source": [
    "def more_than_n(lst,n):\n",
    "    new_lst=[]\n",
    "    for number in lst:\n",
    "        if abs(number) > n:\n",
    "            new_lst.append(number)\n",
    "    return new_lst\n",
    "print(more_than_n([-1, 4, 4.2, 42.2, -3.4, -5.2], 3))\n",
    "# [4, 4.2, 42.2, -3.4, -5.2]\n",
    "print(more_than_n([-1, 4, 4.2, 42.2, -3.4, -5.2], 10))\n",
    "# [42.2]\n",
    "print(more_than_n([], 10))\n",
    "# []\n",
    "    "
   ]
  },
  {
   "cell_type": "markdown",
   "metadata": {},
   "source": [
    "Задание 5.5 (External resource)"
   ]
  },
  {
   "cell_type": "code",
   "execution_count": 184,
   "metadata": {},
   "outputs": [
    {
     "name": "stdout",
     "output_type": "stream",
     "text": [
      "True\n",
      "False\n"
     ]
    }
   ],
   "source": [
    "def lucky_ticket(ticket_number):\n",
    "    sum_left=0\n",
    "    sum_right=0\n",
    "    for i in range(6):\n",
    "        if i<3:\n",
    "            sum_right += ticket_number //10**i%10\n",
    "        else:\n",
    "            sum_left  += ticket_number // 10**i % 10\n",
    "    if sum_left==sum_right:\n",
    "        return True\n",
    "    else:\n",
    "        return False   \n",
    "print(lucky_ticket(111111))\n",
    "# True\n",
    "print(lucky_ticket(123456))\n",
    "# False"
   ]
  },
  {
   "cell_type": "markdown",
   "metadata": {},
   "source": [
    "Задание 5.6 (External resource)"
   ]
  },
  {
   "cell_type": "code",
   "execution_count": 189,
   "metadata": {},
   "outputs": [
    {
     "name": "stdout",
     "output_type": "stream",
     "text": [
      "2\n",
      "2\n",
      "6\n"
     ]
    }
   ],
   "source": [
    "def holes_count(number):\n",
    "    result=0\n",
    "    numbers=str(number)\n",
    "    holes_dict = {\"0\": 1, \"4\": 1, \"6\": 1, \"8\": 2, \"9\": 1}\n",
    "    for i in numbers:\n",
    "        if i in holes_dict:\n",
    "            result +=holes_dict[i]\n",
    "    return result\n",
    "\n",
    "print(holes_count(8))\n",
    "# 2\n",
    "print(holes_count(146))\n",
    "# 2\n",
    "print(holes_count(84628))\n",
    "# 6"
   ]
  },
  {
   "cell_type": "markdown",
   "metadata": {},
   "source": [
    "Задание 5.7 (External resource)"
   ]
  },
  {
   "cell_type": "code",
   "execution_count": 191,
   "metadata": {},
   "outputs": [
    {
     "name": "stdout",
     "output_type": "stream",
     "text": [
      "5\n"
     ]
    }
   ],
   "source": [
    "matrix_example = [\n",
    "    [1, 5, 4],\n",
    "    [4, 2, -2],\n",
    "    [7, 65, 88]\n",
    "]\n",
    "def even_numbers_in_matrix(matrix_example):\n",
    "    even_number_num=0\n",
    "    for line in matrix:\n",
    "        for element in line:\n",
    "            if element %2==0:\n",
    "                even_number_num+=1\n",
    "    return even_number_num\n",
    "print(even_numbers_in_matrix(matrix_example))\n",
    "# 5  "
   ]
  },
  {
   "cell_type": "markdown",
   "metadata": {},
   "source": [
    "*Задание 5.8 (External resource)"
   ]
  },
  {
   "cell_type": "code",
   "execution_count": 193,
   "metadata": {},
   "outputs": [
    {
     "name": "stdout",
     "output_type": "stream",
     "text": [
      "[[2, 10, 8], [8, 4, -4], [14, 130, 176]]\n",
      "Error! Matrices dimensions are different!\n",
      "None\n",
      "Error! Matrices dimensions are different!\n",
      "None\n"
     ]
    }
   ],
   "source": [
    "matrix1_example = [\n",
    "          [1, 5, 4, 5],\n",
    "          [4, 2, -2, -5],\n",
    "          [4, 2, -2, -5]\n",
    "]\n",
    "\n",
    "matrix2_example = [\n",
    "          [10, 15, 43],\n",
    "          [41, 2, -2],\n",
    "          [7, 5, 7]\n",
    "]\n",
    "matrix1_example = [\n",
    "          [1, 5, 4],\n",
    "          [4, 2, -2]\n",
    "]\n",
    "\n",
    "matrix2_example = [\n",
    "          [10, 15, 43],\n",
    "          [41, 2, -2],\n",
    "          [7, 5, 7]\n",
    "]\n",
    "matrix_example = [\n",
    "          [1, 5, 4],\n",
    "          [4, 2, -2],\n",
    "          [7, 65, 88]\n",
    "]\n",
    "def matrix_sum(matrix1, matrix2):\n",
    "    if len (matrix1)!= len(matrix2):# Проверяем, что матрицы имеют одинаковое количество элементов.\n",
    "        print ('Error! Matrices dimensions are different!')\n",
    "        return \n",
    "    for i in range (len(matrix1)):\n",
    "        if len (matrix1[i])!= len(matrix2[i]):\n",
    "            print ('Error! Matrices dimensions are different!')\n",
    "            return\n",
    "    sum_matrix=[] # Инициализируем новую матрицу\n",
    "    for i in range(len(matrix1)):  \n",
    "        # Создаём пустой список, в который будем помещать элементы строк.    \n",
    "        line_tmp = []\n",
    "        # Создаём цикл по индексам столбцов матрицы\n",
    "        for j in range(len(matrix1[0])):\n",
    "            # Вычисляем сумму соответствующих элементов матриц\n",
    "            line_tmp.append(matrix1[i][j] + matrix2[i][j])\n",
    "        # Добавляем полученную строку в список\n",
    "        sum_matrix.append(line_tmp)\n",
    "    # Возвращаем результат\n",
    "    return sum_matrix\n",
    "print(matrix_sum(matrix1=matrix_example, matrix2=matrix_example))\n",
    "# [[2, 10, 8], [8, 4, -4], [14, 130, 176]]\n",
    "print(matrix_sum(matrix1=matrix1_example, matrix2=matrix2_example))\n",
    "# Error! Matrices dimensions are different!\n",
    "# None\n",
    "print(matrix_sum(matrix1=matrix1_example, matrix2=matrix2_example))\n",
    "#Error! Matrices dimensions are different!\n",
    "#None\n",
    "            \n",
    "    \n",
    "    "
   ]
  },
  {
   "cell_type": "markdown",
   "metadata": {},
   "source": [
    "Задание 6.5 (External resource)"
   ]
  },
  {
   "cell_type": "code",
   "execution_count": 195,
   "metadata": {},
   "outputs": [
    {
     "name": "stdout",
     "output_type": "stream",
     "text": [
      "age:28\n",
      "first_name:John\n",
      "last_name:Doe\n",
      "position:Python developer\n",
      "age:32\n",
      "first_name:Jack\n",
      "last_name:Smith\n",
      "position:Project manager\n",
      "work_experience:5 years\n"
     ]
    }
   ],
   "source": [
    "def print_personal_data(**kwargs):\n",
    "    keys=list(kwargs.keys())\n",
    "    keys.sort()\n",
    "    for key in keys:\n",
    "        print(f'{key}:{kwargs[key]}')\n",
    "    \n",
    "    \n",
    "print_personal_data(first_name='John', last_name='Doe', age=28, position='Python developer')\n",
    "# age: 28\n",
    "# first_name: John\n",
    "# last_name: Doe\n",
    "# position: Python developer\n",
    "\n",
    "\n",
    "print_personal_data(first_name='Jack', last_name='Smith', age=32, work_experience = '5 years', position='Project manager')\n",
    "# age: 32\n",
    "# first_name: Jack\n",
    "# last_name: Smith\n",
    "# position: Project manager\n",
    "# work_experience: 5 years"
   ]
  },
  {
   "cell_type": "markdown",
   "metadata": {},
   "source": [
    "Задание 6.6 (External resource)"
   ]
  },
  {
   "cell_type": "code",
   "execution_count": 196,
   "metadata": {},
   "outputs": [
    {
     "name": "stdout",
     "output_type": "stream",
     "text": [
      "['arrakis', 'the', 'planet', 'known', 'as', 'dune', 'is', 'forever', 'his', 'place']\n"
     ]
    }
   ],
   "source": [
    "text_example = \"Arrakis, the planet known as Dune, is forever his place.\"\n",
    "def get_words_list(text):\n",
    "    punctuation_list = ['.', ',', ';', ':', '...', '!', '?', '-', '\"', '(', ')']\n",
    "    text=text.lower()\n",
    "    text=text.replace('.','')\n",
    "    text=text.replace(',','')\n",
    "    text=text.replace(';','')\n",
    "    text=text.replace(':','')\n",
    "    text=text.replace('...','')\n",
    "    text=text.replace('!','')\n",
    "    text=text.replace('?','')\n",
    "    text=text.replace('-','')\n",
    "    text=text.replace('\"','')\n",
    "    text=text.replace('(','')\n",
    "    text=text.replace(')','')\n",
    "    text=text.split()\n",
    "    return text\n",
    "print(get_words_list(text=text_example))\n",
    "# ['arrakis', 'the', 'planet', 'known', 'as', 'dune', 'is', 'forever', 'his', 'place']    \n",
    "    "
   ]
  },
  {
   "cell_type": "markdown",
   "metadata": {},
   "source": [
    "Задание 6.7 (External resource)"
   ]
  },
  {
   "cell_type": "code",
   "execution_count": 202,
   "metadata": {},
   "outputs": [
    {
     "name": "stdout",
     "output_type": "stream",
     "text": [
      "['and', 'arrakis', 'as', 'be', 'born', 'by', 'caladan', 'care', 'deceived', 'do', 'dune', 'fact', 'fifteen', 'first', 'forever', 'he', 'his', 'in', 'is', 'known', 'lived', 'locate', 'most', \"muad'dib\", 'not', 'on', 'place', 'planet', 'special', 'take', 'that', 'the', 'there', 'was', 'years', 'you']\n"
     ]
    }
   ],
   "source": [
    "words_list_example = ['and', 'take', 'the', 'most', 'special', 'care', 'that', 'you', 'locate', \"muad'dib\", 'in', 'his', 'place', 'the', 'planet', 'arrakis', 'do', 'not', 'be', 'deceived', 'by', 'the', 'fact', 'that', 'he', 'was', 'born', 'on', 'caladan', 'and', 'lived', 'his', 'first', 'fifteen', 'years', 'there', 'arrakis', 'the', 'planet', 'known', 'as', 'dune', 'is', 'forever', 'his', 'place']\n",
    "\n",
    "def get_unique_words(words_list):\n",
    "    words_list=list(set(words_list))\n",
    "    words_list.sort()\n",
    "    return words_list\n",
    "\n",
    "\n",
    "\n",
    "print(get_unique_words(words_list=words_list_example))\n",
    "## ['and', 'arrakis', 'as', 'be', 'born', 'by', 'caladan', 'care', 'deceived', 'do', 'dune', 'fact', 'fifteen', 'first', 'forever', 'he', 'his', 'in', 'is', 'known', 'lived', 'locate', 'most', \"muad'dib\", 'not', 'on', 'place', 'planet', 'special', 'take', 'that', 'the', 'there', 'was', 'years', 'you']\n",
    "\n",
    "    "
   ]
  },
  {
   "cell_type": "code",
   "execution_count": null,
   "metadata": {},
   "outputs": [],
   "source": [
    "def get_unique_words(words_list):\n",
    "    words_list = set(words_list)\n",
    "    words_list=list(words_list)\n",
    "    words_list.sort(key=lambda x: x.lower())\n",
    "    return words_list"
   ]
  },
  {
   "cell_type": "markdown",
   "metadata": {},
   "source": [
    "Задание 6.8 (External resource)"
   ]
  },
  {
   "cell_type": "code",
   "execution_count": 204,
   "metadata": {},
   "outputs": [
    {
     "name": "stdout",
     "output_type": "stream",
     "text": [
      "the\n",
      "и\n"
     ]
    }
   ],
   "source": [
    "def get_most_frequent_word(text):\n",
    "    def get_words_list(text):\n",
    "        punctuation_list = ['.', ',', ';', ':', '...', '!', '?', '-', '\"', '(', ')']\n",
    "        for symbol in punctuation_list:\n",
    "            text = text.replace(symbol, \"\")# Заменяем текущий знак пунктуации в тексте на пустую строку\n",
    "            text = text.lower()# Приводим текст к нижнему регистру\n",
    "            words_list = text.split(' ')# Разделяем его на слова по пробелу\n",
    "            return words_list# Возвращаем результат\n",
    "    def get_unique_words(text):\n",
    "        unique_words_list = list(set(text))# Превращаем список во множество, чтобы найти только уникальные слова, а затем превращаем множество обратно в список.\n",
    "        unique_words_list.sort()# Сортируем список по алфавиту\n",
    "        return unique_words_list# Возвращаем результат\n",
    "    words_list=get_words_list(text)#разбиваем текст на слова\n",
    "    unique_words= get_unique_words(words_list)#выделяем только уникальные слова\n",
    "    max_word_count=0#инициализируем максимальное количество вхождений\n",
    "    most_frequent_word=''#иницивлизируем наиболее распространенное слово\n",
    "    for word in unique_words:#слздаем цикл по уникальным словам в тексте\n",
    "        word_count=words_list.count(word)#считаем количество вхождений текущего слова\n",
    "        if word_count>max_word_count:#проверяем, что количество вхождений текущего слова в список больше текущего word_count.\n",
    "            max_word_count=word_count# если условие выполняется, переопределяем максимум и наиболее распространенное слово\n",
    "            most_frequent_word=word\n",
    "    return most_frequent_word   \n",
    "text_example = \"A beginning is the time for taking the most delicate care that the balances are correct. This every sister of the Bene Gesserit knows. To begin your study of the life of Muad'Dib, then take care that you first place him in his time: born in the 57th year of the Padishah Emperor, Shaddam IV. And take the most special care that you locate Muad'Dib in his place: the planet Arrakis. Do not be deceived by the fact that he was born on Caladan and lived his first fifteen years there. Arrakis, the planet known as Dune, is forever his place.\"\n",
    "print(get_most_frequent_word(text_example))\n",
    "# the\n",
    "\n",
    "text_example = \"Есть урок, который идет не сорок пять минут, а всю жизнь. Этот урок проходит и в классе, и в поле, и дома, и в лесу. Я назвал этот урок седьмым потому, что в школе обычно бывает не больше шести уроков. Не удивляйтесь, если я скажу, что учителем на этом уроке может быть и береза возле вашего дома, и бабушка, и вы сами (В. Песков)\"\n",
    "print(get_most_frequent_word(text_example))\n",
    "# и"
   ]
  },
  {
   "cell_type": "markdown",
   "metadata": {},
   "source": [
    "Задание 6.9 (External resource)"
   ]
  },
  {
   "cell_type": "code",
   "execution_count": 206,
   "metadata": {},
   "outputs": [
    {
     "name": "stdout",
     "output_type": "stream",
     "text": [
      "[('Amanda', 37, 78, 67, 182), ('Marcos', 79, 67, 89, 235), ('Dmitry', 67, 68, 100, 235), ('Patricia', 78, 93, 68, 239), ('Andrey', 100, 78, 76, 254), ('Victoria', 93, 69, 96, 258)]\n"
     ]
    }
   ],
   "source": [
    "data = [\n",
    "    ('Amanda', 37, 78, 67),\n",
    "    ('Patricia', 78, 93, 68),\n",
    "    ('Marcos', 79, 67, 89),\n",
    "    ('Dmitry', 67, 68, 100),\n",
    "    ('Andrey', 100, 78, 76),\n",
    "    ('Victoria', 93, 69, 96),\n",
    "]\n",
    "def get_total_score(data):\n",
    "    func=lambda x: (x[0], x[1], x[2], x[3], x[1]+x[2]+x[3])\n",
    "    updated_data=list(map(func,data))\n",
    "    return sorted(updated_data, key=lambda func: func[4])\n",
    "\n",
    "\n",
    "print(get_total_score(data))\n",
    "# [('Amanda', 37, 78, 67, 182), ('Marcos', 79, 67, 89, 235), ('Dmitry', 67, 68, 100, 235), ('Patricia', 78, 93, 68, 239), ('Andrey', 100, 78, 76, 254), ('Victoria', 93, 69, 96, 258)]    "
   ]
  },
  {
   "cell_type": "markdown",
   "metadata": {},
   "source": [
    "*Задание 6.10 (External resource)"
   ]
  },
  {
   "cell_type": "code",
   "execution_count": 208,
   "metadata": {},
   "outputs": [
    {
     "name": "stdout",
     "output_type": "stream",
     "text": [
      "['vid001', 'vid002', 'vid003', 'vid004', 'vid005', 'vid006', 'vid007', 'vid008', 'vid009', 'vid010']\n"
     ]
    }
   ],
   "source": [
    "data = {\n",
    "    \"type\": \"video\",\n",
    "    \"videoID\": \"vid001\",\n",
    "    \"links\": [\n",
    "        {\"type\":\"video\", \"videoID\":\"vid002\", \"links\":[]},\n",
    "        {   \"type\":\"video\",\n",
    "            \"videoID\":\"vid003\",\n",
    "            \"links\": [\n",
    "            {\"type\": \"video\", \"videoID\":\"vid004\"},\n",
    "            {\"type\": \"video\", \"videoID\":\"vid005\"},\n",
    "            ]\n",
    "        },\n",
    "        {\"type\":\"video\", \"videoID\":\"vid006\"},\n",
    "        {   \"type\":\"video\",\n",
    "            \"videoID\":\"vid007\",\n",
    "            \"links\": [\n",
    "            {\"type\":\"video\", \"videoID\":\"vid008\", \"links\": [\n",
    "                {   \"type\":\"video\",\n",
    "                    \"videoID\":\"vid009\",\n",
    "                    \"links\": [{\"type\":\"video\", \"videoID\":\"vid010\"}]\n",
    "                }\n",
    "            ]}\n",
    "        ]},\n",
    "    ]\n",
    "}\n",
    "def find_video(data):\n",
    "    # Инициализируем пустой список\n",
    "    output = []\n",
    "    # Создаём цикл по ключам в словаре data\n",
    "    for key in data:\n",
    "        # Если значение, хранящееся по ключу — список,\n",
    "        if type(data[key]) is list:\n",
    "            # создаём цикл по элементам списка,\n",
    "            for elem in data[key]:\n",
    "                # вызываем функцию для поиска идентификаторов для каждого элемента списка.\n",
    "                # Добавляем результаты вызова в список\n",
    "                output += find_video(elem)\n",
    "        # Проверяем, что ключ — нужная нам строка.\n",
    "        if key == 'videoID':\n",
    "            # Если условие выполняется, добавляем в список найденный идентификатор видео.\n",
    "            output.append(data[key])\n",
    "    # Возвращаем результат\n",
    "    return output\n",
    "print(find_video(data = {'type': 'video', 'videoID': 'vid001', 'links': [{'type': 'video', 'videoID': 'vid002', 'links': []}, {'type': 'video', 'videoID': 'vid003', 'links': [{'type': 'video', 'videoID': 'vid004'}, {'type': 'video', 'videoID': 'vid005'}]}, {'type': 'video', 'videoID': 'vid006'}, {'type': 'video', 'videoID': 'vid007', 'links': [{'type': 'video', 'videoID': 'vid008', 'links': [{'type': 'video', 'videoID': 'vid009', 'links': [{'type': 'video', 'videoID': 'vid010'}]}]}]}]}))"
   ]
  },
  {
   "cell_type": "markdown",
   "metadata": {},
   "source": [
    "Задание 7.1 (External resource)"
   ]
  },
  {
   "cell_type": "code",
   "execution_count": 209,
   "metadata": {},
   "outputs": [
    {
     "name": "stdout",
     "output_type": "stream",
     "text": [
      "{'пармезан': 29, 'гауда': 27, 'камамбер': 24, 'бри': 28}\n",
      "{'камамбер': 24}\n"
     ]
    }
   ],
   "source": [
    "cheese_data = {\n",
    "    'чеддер': [370, 5000, 33, 'твердый'],\n",
    "    'пармезан': [510, 4000, 29, 'твердый'],\n",
    "    'гауда': [250, 3700, 27, 'полутвердый'],\n",
    "    'эдам': [220, 10000, 30, 'полутвердый'],\n",
    "    'горгонзола': [320, 3000, 32, 'полумягкий'],\n",
    "    'рокфор': [340, 15000, 31, 'полумягкий'],\n",
    "    'стилтон': [360, 7000, 35, 'полумягкий'],\n",
    "    'камамбер': [250, 8000, 24, 'мягкий'],\n",
    "    'бри': [310, 6500, 28, 'мягкий'],\n",
    "}\n",
    "def filter_by_fat(cheese_data,n):\n",
    "    result={}# Инициализируем новый словарь, куда будем добавлять результаты.\n",
    "    for cheese in cheese_data:\n",
    "        fat=cheese_data[cheese][2]# Определяем жирность текущего сыра\n",
    "        if fat< n:# Проверяем, что жирность меньше заданной.\n",
    "            result[cheese] = fat# Если условие выполняется, заносим результат в новый словарь.\n",
    "    return result\n",
    "            \n",
    "        \n",
    "print(filter_by_fat(cheese_data, n=30))\n",
    "# {'пармезан': 29, 'гауда': 27, 'камамбер': 24, 'бри': 28}\n",
    "\n",
    "print(filter_by_fat(cheese_data, n=25))\n",
    "# {'камамбер': 24}\n",
    "    "
   ]
  },
  {
   "cell_type": "markdown",
   "metadata": {},
   "source": [
    "Задание 7.2 (External resource)"
   ]
  },
  {
   "cell_type": "code",
   "execution_count": 211,
   "metadata": {},
   "outputs": [
    {
     "name": "stdout",
     "output_type": "stream",
     "text": [
      "196100000\n"
     ]
    }
   ],
   "source": [
    "cheese_data = {\n",
    "    'чеддер': [370, 5000, 33, 'твердый'],\n",
    "    'пармезан': [510, 4000, 29, 'твердый'],\n",
    "    'гауда': [250, 3700, 27, 'полутвердый'],\n",
    "    'эдам': [220, 10000, 30, 'полутвердый'],\n",
    "    'горгонзола': [320, 3000, 32, 'полумягкий'],\n",
    "    'рокфор': [340, 15000, 31, 'полумягкий'],\n",
    "    'стилтон': [360, 7000, 35, 'полумягкий'],\n",
    "    'камамбер': [250, 8000, 24, 'мягкий'],\n",
    "    'бри': [310, 6500, 28, 'мягкий'],\n",
    "}\n",
    "def count_money(cheese_data):\n",
    "    result=0\n",
    "    for cheese in cheese_data:\n",
    "        sum_money=cheese_data[cheese][0]*10*cheese_data[cheese][1]\n",
    "        result+= sum_money\n",
    "    return result   \n",
    "print(count_money(cheese_data))\n",
    "## 196100000\n",
    "    "
   ]
  },
  {
   "cell_type": "markdown",
   "metadata": {},
   "source": [
    "Задание 7.3 (External resource)"
   ]
  },
  {
   "cell_type": "code",
   "execution_count": 213,
   "metadata": {},
   "outputs": [
    {
     "name": "stdout",
     "output_type": "stream",
     "text": [
      "['камамбер', 'бри']\n",
      "['горгонзола', 'рокфор', 'стилтон']\n"
     ]
    }
   ],
   "source": [
    "cheese_data = {\n",
    "    'чеддер': [370, 5000, 33, 'твердый'],\n",
    "    'пармезан': [510, 4000, 29, 'твердый'],\n",
    "    'гауда': [250, 3700, 27, 'полутвердый'],\n",
    "    'эдам': [220, 10000, 30, 'полутвердый'],\n",
    "    'горгонзола': [320, 3000, 32, 'полумягкий'],\n",
    "    'рокфор': [340, 15000, 31, 'полумягкий'],\n",
    "    'стилтон': [360, 7000, 35, 'полумягкий'],\n",
    "    'камамбер': [250, 8000, 24, 'мягкий'],\n",
    "    'бри': [310, 6500, 28, 'мягкий'],\n",
    "}\n",
    "def find_cheese_type(cheese_data,cheese_type):\n",
    "    result = {}\n",
    "    # Создаём цикл по ключам словаря\n",
    "    for cheese in cheese_data:\n",
    "        # Определяем тип сыра\n",
    "        sort_cheese = cheese_data[cheese][3]\n",
    "        # Проверяем, что жирность меньше заданной.\n",
    "        if sort_cheese == cheese_type:\n",
    "            # Если условие выполняется, заносим результат в новый словарь.\n",
    "            result[cheese] = sort_cheese\n",
    "    # Возвращаем результат\n",
    "    return list(result.keys())\n",
    "print(find_cheese_type(cheese_data, cheese_type='мягкий'))\n",
    "# ['камамбер', 'бри']\n",
    "\n",
    "print(find_cheese_type(cheese_data, cheese_type='полумягкий'))\n",
    "# ['горгонзола', 'рокфор', 'стилтон']    "
   ]
  },
  {
   "cell_type": "markdown",
   "metadata": {},
   "source": [
    "Задание 7.4 (External resource)"
   ]
  },
  {
   "cell_type": "code",
   "execution_count": 215,
   "metadata": {},
   "outputs": [
    {
     "name": "stdout",
     "output_type": "stream",
     "text": [
      "['эдам', 'гауда', 'камамбер', 'бри', 'горгонзола', 'рокфор', 'стилтон', 'чеддер', 'пармезан']\n"
     ]
    }
   ],
   "source": [
    "cheese_data = {\n",
    "    'чеддер': [370, 5000, 33, 'твердый'],\n",
    "    'пармезан': [510, 4000, 29, 'твердый'],\n",
    "    'гауда': [250, 3700, 27, 'полутвердый'],\n",
    "    'эдам': [220, 10000, 30, 'полутвердый'],\n",
    "    'горгонзола': [320, 3000, 32, 'полумягкий'],\n",
    "    'рокфор': [340, 15000, 31, 'полумягкий'],\n",
    "    'стилтон': [360, 7000, 35, 'полумягкий'],\n",
    "    'камамбер': [250, 8000, 24, 'мягкий'],\n",
    "    'бри': [310, 6500, 28, 'мягкий'],\n",
    "}\n",
    "def sort_cheese(cheese_data):\n",
    "    # Превращаем словарь в список кортежей и сортируем список по цене\n",
    "    sorted_data = sorted(cheese_data.items(), key=lambda x: x[1][0])\n",
    "    # Превращаем кортеж обратно в словарь\n",
    "    sorted_data = dict(sorted_data)\n",
    "    # Составляем список из отсортированных ключей\n",
    "    return list(sorted_data.keys())  \n",
    " \n",
    "    \n",
    "print(sort_cheese(cheese_data))\n",
    "    "
   ]
  },
  {
   "cell_type": "markdown",
   "metadata": {},
   "source": [
    "Задание 7.5 (External resource)"
   ]
  },
  {
   "cell_type": "code",
   "execution_count": 220,
   "metadata": {},
   "outputs": [
    {
     "name": "stdout",
     "output_type": "stream",
     "text": [
      "Вы продублировали ингредиент молоко коровье в заказе 3 раз(а)\n",
      "Вы продублировали ингредиент молоко овечье в заказе 2 раз(а)\n",
      "Вы продублировали ингредиент соль в заказе 3 раз(а)\n",
      "Вы продублировали ингредиент бактерии в заказе 2 раз(а)\n",
      "None\n"
     ]
    }
   ],
   "source": [
    "ingredients = ['молоко коровье', 'молоко овечье', 'бактерии', 'молоко козье', 'сливки', 'фермент', 'закваска', 'молоко коровье', 'соль', 'молоко коровье', 'бактерии', 'молоко овечье', 'кислота лимонная', 'грибки', 'соль', 'дрожжи', 'кислота уксусная', 'кальций', 'калий', 'каротин', 'аннато', 'специя', 'пряность', 'ароматизатор', 'соль', 'кислота молочная']\n",
    "\n",
    "def purchase(ingredients):\n",
    "    # Создаём множество из уникальных ингредиентов\n",
    "    unique_ingredients = set(ingredients)\n",
    "    # Проверяем условие, что количество уникальных элементов совпадает с общим количеством элементов.\n",
    "    if len(unique_ingredients) == len(ingredients):\n",
    "        # Если условие выполняется, заказ составлен верно.\n",
    "        print(\"Ваш заказ оформлен верно\")\n",
    "    else:\n",
    "        # В противном случае\n",
    "        # создаём цикл по элементам списка.\n",
    "        for value in unique_ingredients:\n",
    "            # Считаем, сколько раз текущий элемент встречается в списке.\n",
    "            count = ingredients.count(value)\n",
    "            # Если количество больше 1,\n",
    "            if count > 1:\n",
    "                # выводим, сколько раз ингредиент дублируется в заказе.\n",
    "                print(f\"Вы продублировали ингредиент {value} в заказе {count} раз(а)\")\n",
    "print(purchase(ingredients))"
   ]
  },
  {
   "cell_type": "markdown",
   "metadata": {},
   "source": [
    "Задание №1\n",
    "Найти пересечение без дубликатов"
   ]
  },
  {
   "cell_type": "code",
   "execution_count": 233,
   "metadata": {},
   "outputs": [
    {
     "name": "stdout",
     "output_type": "stream",
     "text": [
      "Некоректный ввод\n"
     ]
    }
   ],
   "source": [
    "input_string1 = input('Введите 1-ую последовательность идентификаторов: ')\n",
    "input_string2 = input('Введите 2-ую последовательность идентификаторов: ')\n",
    "# ваш код здесь\n",
    "def pure_intersection(input_string1,input_string2):\n",
    "    input_string1 = set(input_string1.split(','))\n",
    "    input_string1 = set(input_string2.split(','))\n",
    "    string_1 = set()\n",
    "    string_2 = set()\n",
    "    for init_1 in input_string1:\n",
    "        try:\n",
    "            init_1 = string_1.add(int(init_1))\n",
    "        except ValueError:\n",
    "            return \"Некоректный ввод\"\n",
    "    for init_2 in input_string2:\n",
    "        try:\n",
    "            init_2=string_2.add(int(init_2))\n",
    "        except ValueError:\n",
    "            return \"Некоректный ввод\"\n",
    "    result = list(string_1.intersection(string_2))\n",
    "    if len (result)==0:\n",
    "        return []\n",
    "    return result\n",
    "print (pure_intersection(input_string1, input_string2)) "
   ]
  },
  {
   "cell_type": "code",
   "execution_count": 235,
   "metadata": {},
   "outputs": [
    {
     "name": "stdout",
     "output_type": "stream",
     "text": [
      "[2, 3]\n"
     ]
    }
   ],
   "source": [
    "input_string1 = input('Введите 1-ую последовательность идентификаторов: ')\n",
    "input_string2 = input('Введите 2-ую последовательность идентификаторов: ')\n",
    "def pure_intersection(input_string1,input_string2):\n",
    "    input_string1 = input_string1.split(',')\n",
    "    input_string2 = input_string2.split(',')\n",
    "    inpt1 = set()\n",
    "    inpt2 = set()\n",
    "    for intt1 in input_string1:\n",
    "        try:\n",
    "            intt1 = inpt1.add(int(intt1))\n",
    "        except ValueError:\n",
    "            return \"Некорректный ввод\"\n",
    "    for intt2 in input_string2:\n",
    "        try:\n",
    "            intt2 = inpt2.add(int(intt2))\n",
    "        except ValueError:\n",
    "            return \"Некорректный ввод\"\n",
    "    result= list(inpt1.intersection(inpt2))\n",
    "    if len(result) == 0:\n",
    "        return []\n",
    "    return result\n",
    "print(pure_intersection(input_string1, input_string2))"
   ]
  },
  {
   "cell_type": "markdown",
   "metadata": {},
   "source": [
    "Задание №2\n",
    "Найти минимум и максимум\n",
    "Компания: «Авито»"
   ]
  },
  {
   "cell_type": "code",
   "execution_count": 238,
   "metadata": {},
   "outputs": [],
   "source": [
    "input_string = input('Введите последовательность чисел: ')\n",
    "def find_min_max(input_string):\n",
    "    \n",
    "    \n",
    "    \n",
    "    input_string1 = input_string1.split(',')\n",
    "    input_string2 = input_string2.split(',')\n",
    "    inpt1 = set()\n",
    "    inpt2 = set()\n",
    "    for intt1 in input_string1:\n",
    "        try:\n",
    "            intt1 = inpt1.add(int(intt1))\n",
    "        except ValueError:\n",
    "            return \"Некорректный ввод\"\n",
    "    for intt2 in input_string2:\n",
    "        try:\n",
    "            intt2 = inpt2.add(int(intt2))\n",
    "        except ValueError:\n",
    "            return \"Некорректный ввод\"\n",
    "    result= list(inpt1.intersection(inpt2))\n",
    "    if len(result) == 0:\n",
    "        return []\n",
    "    return result\n",
    "print(pure_intersection(input_string1, input_string2))"
   ]
  },
  {
   "cell_type": "markdown",
   "metadata": {},
   "source": [
    "### Задание №4"
   ]
  },
  {
   "cell_type": "code",
   "execution_count": 234,
   "metadata": {},
   "outputs": [
    {
     "data": {
      "text/plain": [
       "['сто']"
      ]
     },
     "execution_count": 234,
     "metadata": {},
     "output_type": "execute_result"
    }
   ],
   "source": [
    "input_string = input('Введите число словами: ')\n",
    "def transform_string_to_integer(input_string):\n",
    "    number_word_dict = {\n",
    "    \"ты\": 1000, \"м\": 1000000,\n",
    "    \"сто\": 100, \"двес\": 200, \"трис\": 300, \"четырес\": 400, \"пятьс\": 500, \"шестьс\": 600, \"семьс\": 700, \"восемьс\": 800, \"девятьс\": 900,\n",
    "    \"одинн\": 11, \"двен\": 12, \"трин\": 13, \"четырн\": 14, \"пятн\": 15, \"шестн\": 16, \"семн\": 17, \"восемн\": 18, \"девятн\": 19,\n",
    "    \"двад\": 20, \"трид\": 30, \"сор\": 40, \"пятьд\": 50, \"шестьд\": 60, \"семьд\": 70, \"восемьд\": 80, \"девяно\": 90,\n",
    "    \"деc\": 10, \"н\": 0, \"о\": 1, \"дв\": 2, \"т\": 3, \"ч\": 4, \"п\": 5, \"ш\": 6, \"с\": 7, \"в\": 8, \"д\": 9, } \n",
    "    number_list = input_string.split()\n",
    "    number_prefix = tuple(number_list)\n",
    "    number_res = []\n",
    "    for word in number_list:\n",
    "        if word.startswith(number_prefix):              \n",
    "            number_res.append(word)\n",
    "    return number_res \n",
    "transform_string_to_integer(input_string)"
   ]
  },
  {
   "cell_type": "code",
   "execution_count": 16,
   "metadata": {},
   "outputs": [
    {
     "name": "stdout",
     "output_type": "stream",
     "text": [
      "Количество попыток:9\n",
      "Ваш алгоритм угадывает число в среднем за:101 попыток\n"
     ]
    }
   ],
   "source": [
    "\"\"\"Игра угадай число.Компьютер сам загадывает и угадывает число\"\"\"\n",
    "import numpy as np\n",
    "def random_predict(number:int=1) ->int:\n",
    "    count = 0 \n",
    "    \n",
    "    while True:\n",
    "        count+=1\n",
    "        predict_number = np.random.randint(1,101) # предлагаемое число\n",
    "        if number == predict_number:\n",
    "            break #выход из цикла, если угадали\n",
    "    return(count)\n",
    "print(f'Количество попыток:{random_predict()}')\n",
    "def score_game(random_predict) -> int:\n",
    "    count_ls=[]# список для сохранения количества попыток\n",
    "    np.random.seed(1)#фиксирует сид для воспроизводимости\n",
    "    random_array = np.random.randint(1,101, size=(1000))#загадали список чисел\n",
    "    \n",
    "    for number in random_array:\n",
    "        count_ls.append(random_predict(number))\n",
    "        \n",
    "    score=int(np.mean(count_ls))#находим среднее количество попыток\n",
    "    \n",
    "    print(f'Ваш алгоритм угадывает число в среднем за:{score} попыток')\n",
    "    return(score)\n",
    "\n",
    "if __name__ == '__main__':\n",
    "    score_game(random_predict)"
   ]
  },
  {
   "cell_type": "code",
   "execution_count": 15,
   "metadata": {},
   "outputs": [
    {
     "name": "stdout",
     "output_type": "stream",
     "text": [
      "Ваш алгоритм угадывает число в среднем за: 101 попыток\n"
     ]
    },
    {
     "data": {
      "text/plain": [
       "101"
      ]
     },
     "execution_count": 15,
     "metadata": {},
     "output_type": "execute_result"
    }
   ],
   "source": [
    "def score_game(random_predict) -> int:\n",
    "    \"\"\"За какое количество попыток в среднем из 1000 подходов угадывает наш алгоритм\n",
    "\n",
    "    Args:\n",
    "        random_predict ([type]): функция угадывания\n",
    "\n",
    "    Returns:\n",
    "        int: среднее количество попыток\n",
    "    \"\"\"\n",
    "\n",
    "    count_ls = [] # список для сохранения количества попыток\n",
    "    np.random.seed(1) # фиксируем сид для воспроизводимости\n",
    "    random_array = np.random.randint(1, 101, size=(1000)) # загадали список чисел\n",
    "\n",
    "    for number in random_array:\n",
    "        count_ls.append(random_predict(number))\n",
    "\n",
    "    score = int(np.mean(count_ls)) # находим среднее количество попыток\n",
    "\n",
    "    print(f'Ваш алгоритм угадывает число в среднем за: {score} попыток')\n",
    "    return(score)\n",
    "\n",
    "# RUN\n",
    "score_game(random_predict)"
   ]
  },
  {
   "cell_type": "code",
   "execution_count": null,
   "metadata": {},
   "outputs": [],
   "source": [
    "\"\"\"Игра угадай число.Компьютер сам загадывает и угадывает число\"\"\"\n",
    "import numpy as np\n",
    "def random_predict(number:int=1) ->int:\n",
    "    count = 0 \n",
    "    \n",
    "    while True:\n",
    "        count+=1\n",
    "        predict_number = np.random.randint(1,101) # предлагаемое число\n",
    "        if number == predict_number:\n",
    "            break #выход из цикла, если угадали\n",
    "    return(count)\n",
    "print(f'Количество попыток:{random_predict()}')\n",
    "def score_game(random_predict) -> int:\n",
    "    count_ls=[]# список для сохранения количества попыток\n",
    "    np.random.seed(1)#фиксирует сид для воспроизводимости\n",
    "    random_array = np.random.randint(1,101, size=(1000))#загадали список чисел\n",
    "    \n",
    "    for number in random_array:\n",
    "        count_ls.append(random_predict(number))\n",
    "        \n",
    "    score=int(np.mean(count_ls))#находим среднее количество попыток\n",
    "    \n",
    "    print(f'Ваш алгоритм угадывает число в среднем за:{score} попыток')\n",
    "    return(score)\n",
    "\n",
    "if __name__ == '__main__':\n",
    "    score_game(random_predict)"
   ]
  },
  {
   "cell_type": "code",
   "execution_count": 19,
   "metadata": {},
   "outputs": [
    {
     "name": "stdout",
     "output_type": "stream",
     "text": [
      "Ваш алгоритм угадывает число в среднем за:7 попыток\n"
     ]
    }
   ],
   "source": [
    "\"\"\"Игра угадай число\n",
    "Компьютер сам загадывает и сам угадывает число\n",
    "\"\"\"\n",
    "\n",
    "import numpy as np\n",
    "\n",
    "\n",
    "def random_predict(number: int = 1) -> int:\n",
    "    \"\"\"Рандомно угадываем число\n",
    "\n",
    "    Args:\n",
    "        number (int, optional): Загаданное число. Defaults to 1.\n",
    "\n",
    "    Returns:\n",
    "        int: Число попыток\n",
    "    \"\"\"\n",
    "    x = 1 # нижняя граница диапазона\n",
    "    y = 100 # верхняя граница диапазона\n",
    "    predict_number=np.random.randint(x,y) # загаданное число\n",
    "    count=0 # начальное количество попыток угадать равно нулю\n",
    "        \n",
    "    while predict_number != number:# цикл длится пока загаданное число predict_number не равно предложенному в качестве ответа числу number    \n",
    "        if number > predict_number: # если предложенное в качестве ответа число больше загаданного числа \n",
    "            x = predict_number # нижняя граница диапазона принимается за загаданное число (уменьшается возможный диапазон)\n",
    "            predict_number = np.random.randint(x, y) # выбирается случайное число из уменьшенного диапазона\n",
    "            count += 1 # количество попыток отгадать увеличается на единицу\n",
    "        elif number < predict_number: # если предложенное в качестве ответа число меньше загаданного числа\n",
    "            y = predict_number # верхняя граница диапазона принимается за загаданное число (уменьшается возможный диапазон)\n",
    "            predict_number = np.random.randint(x, y) # выбирается случайное число из уменьшенного диапазона\n",
    "            count += 1 # количество попыток отгадать увеличается на единицу\n",
    "        else:\n",
    "            number == predict_number #загаданное число predict_number равно предложенному в качестве ответа числу number\n",
    "            break #выход из цикла, т.к. угадали\n",
    "    return (count) # возвращаем количество попыток\n",
    "\n",
    "\n",
    "def score_game(random_predict) -> int:\n",
    "    \"\"\"За какое количство попыток в среднем за 1000 подходов угадывает наш алгоритм\n",
    "\n",
    "    Args:\n",
    "        random_predict ([type]): функция угадывания\n",
    "\n",
    "    Returns:\n",
    "        int: среднее количество попыток\n",
    "    \"\"\"\n",
    "    x = 1 # нижняя граница диапазона\n",
    "    y = 100 # верхняя граница диапазона\n",
    "    count_ls = []\n",
    "    np.random.seed(1)  # фиксируем сид для воспроизводимости\n",
    "    random_array = np.random.randint(x, y, size=(1000))  # загадали список чисел\n",
    "\n",
    "    for number in random_array:\n",
    "        count_ls.append(random_predict(number))\n",
    "\n",
    "    score = int(np.mean(count_ls))\n",
    "    print(f\"Ваш алгоритм угадывает число в среднем за:{score} попыток\")\n",
    "    return score\n",
    "\n",
    "\n",
    "if __name__ == \"__main__\":\n",
    "    # RUN\n",
    "    score_game(random_predict)\n"
   ]
  }
 ],
 "metadata": {
  "kernelspec": {
   "display_name": "Python 3",
   "language": "python",
   "name": "python3"
  },
  "language_info": {
   "codemirror_mode": {
    "name": "ipython",
    "version": 3
   },
   "file_extension": ".py",
   "mimetype": "text/x-python",
   "name": "python",
   "nbconvert_exporter": "python",
   "pygments_lexer": "ipython3",
   "version": "3.9.10"
  },
  "orig_nbformat": 4
 },
 "nbformat": 4,
 "nbformat_minor": 2
}
